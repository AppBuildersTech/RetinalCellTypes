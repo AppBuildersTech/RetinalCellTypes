{
 "cells": [
  {
   "cell_type": "code",
   "execution_count": 1,
   "metadata": {
    "button": false,
    "collapsed": true,
    "deletable": true,
    "new_sheet": false,
    "run_control": {
     "read_only": false
    }
   },
   "outputs": [],
   "source": [
    "# Final version of the water-filling in 1dspace-time."
   ]
  },
  {
   "cell_type": "code",
   "execution_count": 16,
   "metadata": {
    "button": false,
    "collapsed": true,
    "deletable": true,
    "new_sheet": false,
    "run_control": {
     "read_only": false
    }
   },
   "outputs": [],
   "source": [
    "import numpy as np\n",
    "import matplotlib.pyplot as plt\n",
    "\n",
    "%matplotlib inline"
   ]
  },
  {
   "cell_type": "code",
   "execution_count": 118,
   "metadata": {
    "collapsed": true
   },
   "outputs": [],
   "source": [
    "# parameters\n",
    "\n",
    "\n",
    "NFREQ = 100 # discretization\n",
    "f1 = 1e-3 # lowest freq\n",
    "f2 = 1e3 # highest freq\n",
    "\n",
    "\n",
    "## equilibrated trapezoid\n",
    "N = 1 # noise level\n",
    "\n"
   ]
  },
  {
   "cell_type": "code",
   "execution_count": 119,
   "metadata": {
    "button": false,
    "collapsed": false,
    "deletable": true,
    "new_sheet": false,
    "run_control": {
     "read_only": false
    }
   },
   "outputs": [
    {
     "name": "stdout",
     "output_type": "stream",
     "text": [
      "(99, 99)\n",
      "999998.000001\n"
     ]
    }
   ],
   "source": [
    "# Generate spectrum\n",
    "\n",
    "X = np.exp(np.linspace(np.log(f1),np.log(f2),NFREQ))\n",
    "T = np.exp(np.linspace(np.log(f1),np.log(f2),NFREQ))\n",
    "\n",
    "GX,GT = np.meshgrid(X[:-1],T[:-1])\n",
    "\n",
    "# Power density\n",
    "Sdensity = 1/(GX**2*GT**2)\n",
    "S = np.diff(-1/X)[:,np.newaxis]*np.diff(-1/T)[:,np.newaxis].T\n",
    "\n",
    "print(S.shape)\n",
    "\n",
    "# Total Power\n",
    "total_S = np.sum(S)\n",
    "\n",
    "print(total_S)"
   ]
  },
  {
   "cell_type": "code",
   "execution_count": 120,
   "metadata": {
    "button": false,
    "collapsed": false,
    "deletable": true,
    "new_sheet": false,
    "run_control": {
     "read_only": false
    }
   },
   "outputs": [
    {
     "data": {
      "text/plain": [
       "(99, 99, 100)"
      ]
     },
     "execution_count": 120,
     "metadata": {},
     "output_type": "execute_result"
    }
   ],
   "source": [
    "## Compute water filling for a range of lambdas\n",
    "\n",
    "# range of lambdas\n",
    "NLAMBDAS = 100\n",
    "lambdas = np.logspace(5,17,NLAMBDAS)\n",
    "\n",
    "# library of water-filling solutions for different lamdas\n",
    "Ws = list()\n",
    "for lambd in lambdas:\n",
    "    F = np.sqrt(N/(lambd*Sdensity)) - N/Sdensity #Filter Magnitue Square per mode\n",
    "    W = S*F #Total water per block\n",
    "    W[W<0] = 0 \n",
    "    \n",
    "    #plt.figure()\n",
    "    #plt.imshow(np.sqrt(W), cmap = 'seismic', vmin = -np.max(np.sqrt(W)), vmax =  np.max(np.sqrt(W)),origin='lower')\n",
    "    #plt.colorbar()\n",
    "    \n",
    "    Ws.append(W.T)\n",
    "\n",
    "Ws = np.array(Ws).T\n",
    "Ws.shape\n"
   ]
  },
  {
   "cell_type": "code",
   "execution_count": 121,
   "metadata": {
    "button": false,
    "collapsed": false,
    "deletable": true,
    "new_sheet": false,
    "run_control": {
     "read_only": false
    }
   },
   "outputs": [
    {
     "name": "stdout",
     "output_type": "stream",
     "text": [
      "(99, 100) (100, 100) (99, 100) (100, 100)\n"
     ]
    }
   ],
   "source": [
    "# Sum across temporal frequencies (we don't need those)\n",
    "\n",
    "# volume of each voxel\n",
    "Nf = np.diff(X**2)[:,np.newaxis]*np.diff(T)[:,np.newaxis].T\n",
    "\n",
    "# Precompute variance per mode explained for all lambdas\n",
    "colVarExpl = np.sum(S[:,:,np.newaxis]*Ws/(Ws+N*Nf[:,:,np.newaxis]),axis =0)\n",
    "# cumulative variance explained (it's going to fasten up things in the grid search)\n",
    "cumVarExpl = np.vstack((np.zeros(NLAMBDAS),np.cumsum(colVarExpl,axis = 0)))\n",
    "\n",
    "# Water filling array for all modes and lamdas\n",
    "colWs = np.sum(Ws,axis = 0)\n",
    "# Cumulative Water filling array (it's going to fasten up things in the grid search)\n",
    "cumWs = np.vstack((np.zeros(NLAMBDAS),np.cumsum(colWs,axis = 0)))\n",
    "\n",
    "print(colVarExpl.shape, cumVarExpl.shape,colWs.shape, cumWs.shape)"
   ]
  },
  {
   "cell_type": "code",
   "execution_count": 122,
   "metadata": {
    "collapsed": false
   },
   "outputs": [
    {
     "name": "stdout",
     "output_type": "stream",
     "text": [
      "(1, 100) (1, 100)\n",
      "RECONSTRUCTION ERROR:  74.5676301064 %\n",
      "BEST NCELLS: [4]\n",
      "BEST LAMBDAS: [ 50.]\n",
      "OBJ: 254323.190289\n",
      "\n",
      "RECONSTRUCTION ERROR:  68.6558529098 %\n",
      "BEST NCELLS: [5]\n",
      "BEST LAMBDAS: [ 49.]\n",
      "OBJ: 313440.844019\n",
      "\n",
      "RECONSTRUCTION ERROR:  62.3289917107 %\n",
      "BEST NCELLS: [5]\n",
      "BEST LAMBDAS: [ 46.]\n",
      "OBJ: 376709.329473\n",
      "\n",
      "RECONSTRUCTION ERROR:  54.7705071463 %\n",
      "BEST NCELLS: [6]\n",
      "BEST LAMBDAS: [ 44.]\n",
      "OBJ: 452294.023947\n",
      "\n",
      "RECONSTRUCTION ERROR:  47.8722781736 %\n",
      "BEST NCELLS: [7]\n",
      "BEST LAMBDAS: [ 42.]\n",
      "OBJ: 521276.17571\n",
      "\n",
      "RECONSTRUCTION ERROR:  41.3611703648 %\n",
      "BEST NCELLS: [10]\n",
      "BEST LAMBDAS: [ 43.]\n",
      "OBJ: 586387.123576\n",
      "\n",
      "RECONSTRUCTION ERROR:  33.7235138953 %\n",
      "BEST NCELLS: [11]\n",
      "BEST LAMBDAS: [ 40.]\n",
      "OBJ: 662763.535517\n",
      "\n",
      "RECONSTRUCTION ERROR:  28.7385405025 %\n",
      "BEST NCELLS: [11]\n",
      "BEST LAMBDAS: [ 36.]\n",
      "OBJ: 712613.169747\n",
      "\n",
      "RECONSTRUCTION ERROR:  23.234831151 %\n",
      "BEST NCELLS: [14]\n",
      "BEST LAMBDAS: [ 36.]\n",
      "OBJ: 767650.153188\n",
      "\n",
      "RECONSTRUCTION ERROR:  18.8829142497 %\n",
      "BEST NCELLS: [15]\n",
      "BEST LAMBDAS: [ 33.]\n",
      "OBJ: 811169.235162\n",
      "\n",
      "RECONSTRUCTION ERROR:  15.4785919088 %\n",
      "BEST NCELLS: [16]\n",
      "BEST LAMBDAS: [ 30.]\n",
      "OBJ: 845212.390485\n",
      "\n",
      "RECONSTRUCTION ERROR:  12.6220196466 %\n",
      "BEST NCELLS: [19]\n",
      "BEST LAMBDAS: [ 30.]\n",
      "OBJ: 873778.055975\n",
      "\n",
      "RECONSTRUCTION ERROR:  10.0563901213 %\n",
      "BEST NCELLS: [19]\n",
      "BEST LAMBDAS: [ 25.]\n",
      "OBJ: 899434.299915\n",
      "\n",
      "RECONSTRUCTION ERROR:  7.91347936542 %\n",
      "BEST NCELLS: [21]\n",
      "BEST LAMBDAS: [ 23.]\n",
      "OBJ: 920863.364616\n",
      "\n",
      "RECONSTRUCTION ERROR:  6.23530507594 %\n",
      "BEST NCELLS: [23]\n",
      "BEST LAMBDAS: [ 21.]\n",
      "OBJ: 937645.073948\n",
      "\n",
      "RECONSTRUCTION ERROR:  4.92065229494 %\n",
      "BEST NCELLS: [25]\n",
      "BEST LAMBDAS: [ 19.]\n",
      "OBJ: 950791.575465\n",
      "\n",
      "RECONSTRUCTION ERROR:  3.8902179041 %\n",
      "BEST NCELLS: [27]\n",
      "BEST LAMBDAS: [ 17.]\n",
      "OBJ: 961095.898764\n",
      "\n",
      "RECONSTRUCTION ERROR:  3.08193536197 %\n",
      "BEST NCELLS: [29]\n",
      "BEST LAMBDAS: [ 15.]\n",
      "OBJ: 969178.70802\n",
      "\n",
      "RECONSTRUCTION ERROR:  2.44727417354 %\n",
      "BEST NCELLS: [31]\n",
      "BEST LAMBDAS: [ 13.]\n",
      "OBJ: 975525.307211\n",
      "\n",
      "RECONSTRUCTION ERROR:  1.90405251236 %\n",
      "BEST NCELLS: [32]\n",
      "BEST LAMBDAS: [ 9.]\n",
      "OBJ: 980957.512958\n",
      "\n",
      "(2, 10000) (2, 10000)\n",
      "RECONSTRUCTION ERROR:  74.1521153258 %\n",
      "BEST NCELLS: [3 5]\n",
      "BEST LAMBDAS: [ 50.  52.]\n",
      "OBJ: 258478.329784\n",
      "\n",
      "RECONSTRUCTION ERROR:  67.5790222347 %\n",
      "BEST NCELLS: [3 6]\n",
      "BEST LAMBDAS: [ 49.  50.]\n",
      "OBJ: 324209.129234\n",
      "\n",
      "RECONSTRUCTION ERROR:  60.2244977778 %\n",
      "BEST NCELLS: [3 7]\n",
      "BEST LAMBDAS: [ 46.  49.]\n",
      "OBJ: 397754.226713\n",
      "\n",
      "RECONSTRUCTION ERROR:  52.7371557075 %\n",
      "BEST NCELLS: [4 8]\n",
      "BEST LAMBDAS: [ 46.  46.]\n",
      "OBJ: 472627.497669\n",
      "\n",
      "RECONSTRUCTION ERROR:  45.1806718072 %\n",
      "BEST NCELLS: [4 9]\n",
      "BEST LAMBDAS: [ 42.  45.]\n",
      "OBJ: 548192.185542\n",
      "\n",
      "RECONSTRUCTION ERROR:  37.9812209516 %\n",
      "BEST NCELLS: [ 7 11]\n",
      "BEST LAMBDAS: [ 41.  44.]\n",
      "OBJ: 620186.550109\n",
      "\n",
      "RECONSTRUCTION ERROR:  31.6926325471 %\n",
      "BEST NCELLS: [ 7 13]\n",
      "BEST LAMBDAS: [ 39.  42.]\n",
      "OBJ: 683072.308383\n",
      "\n",
      "RECONSTRUCTION ERROR:  25.8345320531 %\n",
      "BEST NCELLS: [ 7 14]\n",
      "BEST LAMBDAS: [ 35.  40.]\n",
      "OBJ: 741653.196161\n",
      "\n",
      "RECONSTRUCTION ERROR:  20.8897962696 %\n",
      "BEST NCELLS: [ 7 15]\n",
      "BEST LAMBDAS: [ 32.  37.]\n",
      "OBJ: 791100.455101\n",
      "\n",
      "RECONSTRUCTION ERROR:  16.7322078767 %\n",
      "BEST NCELLS: [ 8 17]\n",
      "BEST LAMBDAS: [ 30.  35.]\n",
      "OBJ: 832676.255878\n",
      "\n",
      "RECONSTRUCTION ERROR:  13.185421817 %\n",
      "BEST NCELLS: [10 19]\n",
      "BEST LAMBDAS: [ 28.  33.]\n",
      "OBJ: 868144.045539\n",
      "\n",
      "RECONSTRUCTION ERROR:  10.3968495789 %\n",
      "BEST NCELLS: [12 21]\n",
      "BEST LAMBDAS: [ 26.  31.]\n",
      "OBJ: 896029.712149\n",
      "\n",
      "RECONSTRUCTION ERROR:  8.11340719079 %\n",
      "BEST NCELLS: [13 23]\n",
      "BEST LAMBDAS: [ 23.  29.]\n",
      "OBJ: 918864.090361\n",
      "\n",
      "RECONSTRUCTION ERROR:  6.30513330055 %\n",
      "BEST NCELLS: [15 24]\n",
      "BEST LAMBDAS: [ 20.  26.]\n",
      "OBJ: 936946.793098\n",
      "\n",
      "RECONSTRUCTION ERROR:  4.86991773102 %\n",
      "BEST NCELLS: [14 26]\n",
      "BEST LAMBDAS: [ 15.  24.]\n",
      "OBJ: 951298.920089\n",
      "\n",
      "RECONSTRUCTION ERROR:  3.75526594538 %\n",
      "BEST NCELLS: [18 28]\n",
      "BEST LAMBDAS: [ 14.  22.]\n",
      "OBJ: 962445.415652\n",
      "\n",
      "RECONSTRUCTION ERROR:  2.89667716763 %\n",
      "BEST NCELLS: [16 30]\n",
      "BEST LAMBDAS: [ 10.  19.]\n",
      "OBJ: 971031.286258\n",
      "\n",
      "RECONSTRUCTION ERROR:  2.21778328685 %\n",
      "BEST NCELLS: [19 33]\n",
      "BEST LAMBDAS: [  8.  18.]\n",
      "OBJ: 977820.211488\n",
      "\n",
      "RECONSTRUCTION ERROR:  1.70106555369 %\n",
      "BEST NCELLS: [20 35]\n",
      "BEST LAMBDAS: [  4.  16.]\n",
      "OBJ: 982987.378485\n",
      "\n",
      "RECONSTRUCTION ERROR:  1.29346616565 %\n",
      "BEST NCELLS: [22 36]\n",
      "BEST LAMBDAS: [  2.  12.]\n",
      "OBJ: 987063.364214\n",
      "\n"
     ]
    }
   ],
   "source": [
    "## Iterate over all possible decompositions between N cell types to find the best one\n",
    "\n",
    "RECS = list()\n",
    "STRS = list()\n",
    "\n",
    "# Number of types\n",
    "for NTYPES in range(1,3):\n",
    "\n",
    "    ## Create grid for grid search\n",
    "\n",
    "    # Create grid for grid search over strides for different types\n",
    "    STEP = 1 # step of the grid search\n",
    "    strides = np.arange(0,NFREQ,STEP)\n",
    "    NSTRIDES = len(strides)\n",
    "    g = [strides for i in range(NTYPES)]\n",
    "    g = np.meshgrid(*g)\n",
    "    stride_grid = np.array([gi.ravel() for gi in g])\n",
    "\n",
    "    # Create grid for grid serach over lambdas to find best objective\n",
    "    g = [np.arange(0,NLAMBDAS) for i in range(NTYPES)]\n",
    "    g = np.meshgrid(*g)\n",
    "    lambda_grid = np.array([gi.flatten() for gi in g])\n",
    "\n",
    "    print(stride_grid.shape,lambda_grid.shape)\n",
    "\n",
    "    recs = list()\n",
    "    strides = list()\n",
    "\n",
    "    # Total firing rate threshold ('number of spikes')\n",
    "    for NSPIKES in np.logspace(-6,-2,20):\n",
    "        #print(NSPIKES)\n",
    "\n",
    "        GRID = np.zeros(NTYPES)\n",
    "        NITER =  stride_grid.shape[1]\n",
    "\n",
    "        EXPL = np.zeros(NITER)\n",
    "        OBJ = np.zeros(NITER)\n",
    "        LAMB = np.zeros((NITER,NTYPES))\n",
    "        \n",
    "        # start grid search over strides of each type\n",
    "        for i in range(NITER):\n",
    "            lims = stride_grid[:,i] # end limit of the modes covered by each type\n",
    "\n",
    "            if np.all(np.diff(lims)>0) and lims[0]>0: # if all limits are in an \n",
    "                #increasing order (avoid switching types) \n",
    "\n",
    "\n",
    "                lims2 = [0,*lims]\n",
    "                \n",
    "                #print(lims)\n",
    "\n",
    "                all_varsExpl = list()\n",
    "                all_l1s = list()\n",
    "                for typ in range(NTYPES):\n",
    "\n",
    "                    # Variance explained for each lambda\n",
    "                    varExp = cumVarExpl[lims2[typ+1]] - cumVarExpl[lims2[typ]]\n",
    "\n",
    "                    # Budget of cells for each type\n",
    "                    budgetCells = X[lims2[typ+1]]**2 - X[lims2[typ]]**2\n",
    "\n",
    "                    # penalty\n",
    "                    l1_penalty = np.sqrt(budgetCells*(cumWs[lims2[typ+1]]- cumWs[lims2[typ]]))\n",
    "\n",
    "                      \n",
    "                    all_varsExpl.append(varExp)\n",
    "                    all_l1s.append(l1_penalty)\n",
    "\n",
    "\n",
    "                all_varsExpl = np.array(all_varsExpl)\n",
    "                total_varsExpl = sum([all_varsExpl[ityp,lambda_grid[ityp]] for ityp in range(NTYPES)])\n",
    "                \n",
    "                all_l1s = np.array(all_l1s)\n",
    "                total_l1s = sum([all_l1s[ityp,lambda_grid[ityp]] for ityp in range(NTYPES)])\n",
    "                \n",
    "                # objective for each lambda\n",
    "                objective = total_varsExpl - 1e60 * np.maximum(total_l1s - NSPIKES, 0)   \n",
    "\n",
    "                best_lambdas_ind = np.argmax(objective)\n",
    "                \n",
    "                best_lambdas = lambda_grid[:,best_lambdas_ind]\n",
    "                \n",
    "\n",
    "                #if 0 in best_lambdas:\n",
    "                #    print('warning lambda LOWER bound reached',lims)\n",
    "                #if NLAMBDAS-1 in best_lambdas:\n",
    "                #    print('warning lambda UPPER bound reached')\n",
    "\n",
    "                best_objective = objective[best_lambdas_ind]\n",
    "\n",
    "                best_varExp = total_varsExpl[best_lambdas_ind]\n",
    "\n",
    "                EXPL[i] = best_varExp\n",
    "                LAMB[i,:] = best_lambdas        \n",
    "                OBJ[i] = best_objective\n",
    "                \n",
    "                #print(best_objective)\n",
    "                #print(best_varExp)\n",
    "                \n",
    "                #STRIDES[i,:] = best_strides\n",
    "\n",
    "                #print(lims,best_lambdas,best_objective)\n",
    "\n",
    "                #print(sumObjs.shape,lambda_grid.shape)\n",
    "                \n",
    "        \n",
    "        iter_max = np.argmax(OBJ)\n",
    "        \n",
    "        rec = (np.sum(S) - EXPL[iter_max])/np.sum(S)*100\n",
    "        st = stride_grid[:,iter_max]\n",
    "\n",
    "        recs.append(rec)\n",
    "        strides.append(st)\n",
    "        #print(np.argmax(EXPL))\n",
    "        print('RECONSTRUCTION ERROR: ',rec,'%')\n",
    "        print('BEST NCELLS:', stride_grid[:,iter_max])\n",
    "        print('BEST LAMBDAS:', LAMB[iter_max])\n",
    "        print('OBJ:', OBJ[iter_max])\n",
    "        print('')\n",
    "        \n",
    "    RECS.append(recs)\n",
    "    STRS.append(strides)"
   ]
  },
  {
   "cell_type": "code",
   "execution_count": 123,
   "metadata": {
    "collapsed": false
   },
   "outputs": [
    {
     "data": {
      "text/plain": [
       "<matplotlib.legend.Legend at 0x11c34d390>"
      ]
     },
     "execution_count": 123,
     "metadata": {},
     "output_type": "execute_result"
    },
    {
     "data": {
      "image/png": "[encoded data removed]",
      "text/plain": [
       "<matplotlib.figure.Figure at 0x11c34dba8>"
      ]
     },
     "metadata": {},
     "output_type": "display_data"
    }
   ],
   "source": [
    "# Reconstruction error wrt spike budgets for different number of types\n",
    "\n",
    "\n",
    "plt.plot(np.log(np.array(RECS).T)/np.log(10),'-o')\n",
    "plt.xlabel('Total firing rate budget (a.u.)',fontsize = 16)\n",
    "plt.ylabel('Log(Rec Error)',fontsize = 16)\n",
    "#plt.yticks([-1,-2,-3])\n",
    "plt.legend(['1 type','2 types','3 types'])\n",
    "\n",
    "#plt.savefig('performance.eps')"
   ]
  },
  {
   "cell_type": "code",
   "execution_count": 124,
   "metadata": {
    "collapsed": false
   },
   "outputs": [
    {
     "data": {
      "text/plain": [
       "<matplotlib.text.Text at 0x1121a7438>"
      ]
     },
     "execution_count": 124,
     "metadata": {},
     "output_type": "execute_result"
    },
    {
     "data": {
      "image/png": "[encoded data removed]",
      "text/plain": [
       "<matplotlib.figure.Figure at 0x113181128>"
      ]
     },
     "metadata": {},
     "output_type": "display_data"
    }
   ],
   "source": [
    "# Ratio of reconstruction error between one type and two types\n",
    "\n",
    "r = np.array(RECS)\n",
    "plt.plot(100*r[1]/r[0],'-o')\n",
    "plt.xlabel('Total firing rate budget (a.u.)',fontsize = 16)\n",
    "plt.ylabel('Reconstruction error discount (%)',fontsize = 16)\n",
    "#plt.legend(['1 type','2 types','3 types'])"
   ]
  },
  {
   "cell_type": "code",
   "execution_count": 125,
   "metadata": {
    "collapsed": false
   },
   "outputs": [
    {
     "data": {
      "text/plain": [
       "<matplotlib.text.Text at 0x1132ca630>"
      ]
     },
     "execution_count": 125,
     "metadata": {},
     "output_type": "execute_result"
    },
    {
     "data": {
      "image/png": "[encoded data removed]",
      "text/plain": [
       "<matplotlib.figure.Figure at 0x1122ce3c8>"
      ]
     },
     "metadata": {},
     "output_type": "display_data"
    }
   ],
   "source": [
    "# plot evolution of density with budget\n",
    "\n",
    "plt.plot(np.log(X[np.array(STRS[1])]),'-o')\n",
    "#plt.plot(1/np.array(STRS[2]),'-o')\n",
    "plt.ylabel('Cell density (a.u)',fontsize = 16)\n",
    "plt.xlabel('Total firing rate budget (a.u.)',fontsize = 16)\n"
   ]
  },
  {
   "cell_type": "code",
   "execution_count": 126,
   "metadata": {
    "collapsed": false
   },
   "outputs": [
    {
     "data": {
      "text/plain": [
       "<matplotlib.text.Text at 0x1123a80b8>"
      ]
     },
     "execution_count": 126,
     "metadata": {},
     "output_type": "execute_result"
    },
    {
     "data": {
      "image/png": "[encoded data removed]",
      "text/plain": [
       "<matplotlib.figure.Figure at 0x113280c50>"
      ]
     },
     "metadata": {},
     "output_type": "display_data"
    }
   ],
   "source": [
    "plt.plot(X[np.array(STRS[1])][:,1]/(X[np.array(STRS[1])][:,0]+X[np.array(STRS[1])][:,1]),'-o')\n",
    "plt.ylabel('Ratio midget/parasol',fontsize = 16)\n",
    "plt.xlabel('Total firing rate budget (a.u.)',fontsize = 16)"
   ]
  },
  {
   "cell_type": "code",
   "execution_count": 127,
   "metadata": {
    "collapsed": false
   },
   "outputs": [
    {
     "data": {
      "text/plain": [
       "[<matplotlib.lines.Line2D at 0x112505390>]"
      ]
     },
     "execution_count": 127,
     "metadata": {},
     "output_type": "execute_result"
    },
    {
     "data": {
      "image/png": "[encoded data removed]",
      "text/plain": [
       "<matplotlib.figure.Figure at 0x1123f54a8>"
      ]
     },
     "metadata": {},
     "output_type": "display_data"
    }
   ],
   "source": [
    "# plot ratio of midget cells against total density of cells\n",
    "\n",
    "\n",
    "strides = np.array(STRS[1]) # two types\n",
    "density_midget = X[strides[:,1]]**2- X[strides[:,0]]**2\n",
    "density_parasol = X[strides[:,0]]**2- X[0]**2\n",
    "ratios = density_midget/(density_midget+density_parasol)\n",
    "total_density = density_midget+density_parasol\n",
    "\n",
    "plt.plot(total_density, ratios,'.')"
   ]
  },
  {
   "cell_type": "code",
   "execution_count": 128,
   "metadata": {
    "collapsed": false
   },
   "outputs": [
    {
     "name": "stderr",
     "output_type": "stream",
     "text": [
      "/anaconda/lib/python3.6/site-packages/ipykernel/__main__.py:8: RuntimeWarning: divide by zero encountered in log\n",
      "/anaconda/lib/python3.6/site-packages/ipykernel/__main__.py:9: RuntimeWarning: divide by zero encountered in log\n"
     ]
    },
    {
     "data": {
      "text/plain": [
       "[<matplotlib.lines.Line2D at 0x11255ba58>]"
      ]
     },
     "execution_count": 128,
     "metadata": {},
     "output_type": "execute_result"
    },
    {
     "data": {
      "image/png": "[encoded data removed]",
      "text/plain": [
       "<matplotlib.figure.Figure at 0x112386dd8>"
      ]
     },
     "metadata": {},
     "output_type": "display_data"
    }
   ],
   "source": [
    "# Dacey 1992 dendritic field size\n",
    "\n",
    "#x = np.linspace(0.4,13,100)\n",
    "x = np.linspace(0,20,100)\n",
    "dendr_midget = 8.64*x**1.04\n",
    "dendr_parasol = 70.2*x**0.65\n",
    "\n",
    "plt.plot(np.log(dendr_midget))\n",
    "plt.plot(np.log(dendr_parasol))"
   ]
  },
  {
   "cell_type": "code",
   "execution_count": 129,
   "metadata": {
    "collapsed": false
   },
   "outputs": [
    {
     "name": "stderr",
     "output_type": "stream",
     "text": [
      "/anaconda/lib/python3.6/site-packages/ipykernel/__main__.py:4: RuntimeWarning: divide by zero encountered in true_divide\n",
      "/anaconda/lib/python3.6/site-packages/ipykernel/__main__.py:7: RuntimeWarning: divide by zero encountered in true_divide\n",
      "/anaconda/lib/python3.6/site-packages/ipykernel/__main__.py:11: RuntimeWarning: invalid value encountered in true_divide\n"
     ]
    }
   ],
   "source": [
    "# Density\n",
    "\n",
    "overlap_midget = 1\n",
    "density_midget_data = overlap_midget/dendr_midget**2\n",
    "\n",
    "overlap_parasol = 3\n",
    "density_parasol_data = overlap_parasol/dendr_parasol**2\n",
    "\n",
    "total_density_data = density_midget_data+density_parasol_data\n",
    "\n",
    "ratios_data = density_midget_data/(total_density_data)"
   ]
  },
  {
   "cell_type": "code",
   "execution_count": 130,
   "metadata": {
    "collapsed": false
   },
   "outputs": [
    {
     "data": {
      "text/plain": [
       "<matplotlib.legend.Legend at 0x112bff588>"
      ]
     },
     "execution_count": 130,
     "metadata": {},
     "output_type": "execute_result"
    },
    {
     "data": {
      "image/png": "[encoded data removed]",
      "text/plain": [
       "<matplotlib.figure.Figure at 0x112aea780>"
      ]
     },
     "metadata": {},
     "output_type": "display_data"
    }
   ],
   "source": [
    "\n",
    "data_dens_scaling = .1;\n",
    "plt.plot(np.log(total_density_data*data_dens_scaling)/np.log(10), ratios_data,'-')\n",
    "plt.plot(np.log(total_density)/np.log(10), ratios,'or')\n",
    "plt.xlabel('Total density of cells (log units)', fontsize = 16)\n",
    "plt.ylabel('Ratio midget/parasol', fontsize = 16)\n",
    "plt.legend(['Data (Dacey 1992)','Simulation'])\n",
    "\n",
    "#plt.savefig('eccentricty.eps',bbox_inches = 'tight', pad_inches = .1)"
   ]
  },
  {
   "cell_type": "code",
   "execution_count": null,
   "metadata": {
    "collapsed": true
   },
   "outputs": [],
   "source": []
  },
  {
   "cell_type": "code",
   "execution_count": null,
   "metadata": {
    "collapsed": true
   },
   "outputs": [],
   "source": []
  },
  {
   "cell_type": "code",
   "execution_count": null,
   "metadata": {
    "collapsed": true
   },
   "outputs": [],
   "source": []
  },
  {
   "cell_type": "code",
   "execution_count": null,
   "metadata": {
    "collapsed": true
   },
   "outputs": [],
   "source": []
  },
  {
   "cell_type": "code",
   "execution_count": null,
   "metadata": {
    "collapsed": true
   },
   "outputs": [],
   "source": []
  },
  {
   "cell_type": "code",
   "execution_count": null,
   "metadata": {
    "collapsed": true
   },
   "outputs": [],
   "source": []
  },
  {
   "cell_type": "code",
   "execution_count": null,
   "metadata": {
    "collapsed": true
   },
   "outputs": [],
   "source": [
    "m1 = 1.3*10**6\n",
    "p1 = 1.6*10**5\n",
    "\n",
    "m2 = 1.5*10**5\n",
    "p2 = 9*10**4\n",
    "\n",
    "m3 = 8*10**4\n",
    "p3 = 1.8*10**4\n",
    "\n",
    "plt.plot(m1+p1,m1/(m1+p1),'.')\n",
    "plt.plot(m2+p2,m2/(m2+p2),'.')\n",
    "plt.plot(m3+p3,m3/(m3+p3),'.')"
   ]
  },
  {
   "cell_type": "code",
   "execution_count": 287,
   "metadata": {
    "collapsed": false
   },
   "outputs": [
    {
     "data": {
      "text/plain": [
       "[<matplotlib.lines.Line2D at 0x120b9fa90>,\n",
       " <matplotlib.lines.Line2D at 0x120b9fbe0>]"
      ]
     },
     "execution_count": 287,
     "metadata": {},
     "output_type": "execute_result"
    },
    {
     "data": {
      "image/png": "[encoded data removed]",
      "text/plain": [
       "<matplotlib.figure.Figure at 0x120ad2240>"
      ]
     },
     "metadata": {},
     "output_type": "display_data"
    }
   ],
   "source": [
    "plt.plot(-(np.array(RECS).T/100*np.sum(S)-np.sum(S)),'-o')"
   ]
  },
  {
   "cell_type": "code",
   "execution_count": null,
   "metadata": {
    "collapsed": true
   },
   "outputs": [],
   "source": []
  }
 ],
 "metadata": {
  "kernelspec": {
   "display_name": "Python 3",
   "language": "python",
   "name": "python3"
  },
  "language_info": {
   "codemirror_mode": {
    "name": "ipython",
    "version": 3
   },
   "file_extension": ".py",
   "mimetype": "text/x-python",
   "name": "python",
   "nbconvert_exporter": "python",
   "pygments_lexer": "ipython3",
   "version": "3.6.0"
  }
 },
 "nbformat": 4,
 "nbformat_minor": 2
}
