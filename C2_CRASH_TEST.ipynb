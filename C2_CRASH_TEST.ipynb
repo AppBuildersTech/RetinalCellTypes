{
 "cells": [
  {
   "cell_type": "code",
   "execution_count": 525,
   "metadata": {
    "button": false,
    "collapsed": true,
    "deletable": true,
    "new_sheet": false,
    "run_control": {
     "read_only": false
    }
   },
   "outputs": [],
   "source": [
    "# Final version of the water-filling in 2d space-time."
   ]
  },
  {
   "cell_type": "code",
   "execution_count": 20,
   "metadata": {
    "button": false,
    "collapsed": true,
    "deletable": true,
    "new_sheet": false,
    "run_control": {
     "read_only": false
    }
   },
   "outputs": [],
   "source": [
    "import numpy as np\n",
    "import matplotlib.pyplot as plt\n",
    "\n",
    "%matplotlib inline"
   ]
  },
  {
   "cell_type": "code",
   "execution_count": 21,
   "metadata": {
    "collapsed": false
   },
   "outputs": [],
   "source": [
    "# parameters\n",
    "\n",
    "\n",
    "Nstep = 100 # discretization\n",
    "f1 = 1e-6 # lowest freq\n",
    "f2 = 1e0 # highest freq\n",
    "\n",
    "\n",
    "## equilibrated trapezoid\n",
    "N = 1 # noise level\n",
    "threshold = 1e-7 # number of spikes\n",
    "\n",
    "\n",
    "\n",
    "## tall trapezoid\n",
    "#N = 1000000 # noise level\n",
    "#threshold = 2000 # number of spikes\n",
    "\n",
    "\n",
    "## large trapezoid\n",
    "#N = 1 # noise level\n",
    "#threshold = 2*10000000 # number of spikes\n",
    "\n",
    "\n",
    "## small trapezoid\n",
    "#N = 0.000001 # noise level\n",
    "#threshold = 0.1 # number of spikes"
   ]
  },
  {
   "cell_type": "code",
   "execution_count": 22,
   "metadata": {
    "button": false,
    "collapsed": false,
    "deletable": true,
    "new_sheet": false,
    "run_control": {
     "read_only": false
    }
   },
   "outputs": [
    {
     "name": "stdout",
     "output_type": "stream",
     "text": [
      "(99, 99)\n",
      "999998000001.0\n"
     ]
    }
   ],
   "source": [
    "# Generate spectrum\n",
    "\n",
    "X = np.exp(np.linspace(np.log(f1),np.log(f2),Nstep))\n",
    "T = np.exp(np.linspace(np.log(f1),np.log(f2),Nstep))\n",
    "\n",
    "GX,GT = np.meshgrid(X[:-1],T[:-1])\n",
    "\n",
    "# Power density\n",
    "Ps = 1/(GX**2*GT**2)\n",
    "\n",
    "P = np.diff(-1/X)[:,np.newaxis]*np.diff(-1/T)[:,np.newaxis].T\n",
    "\n",
    "print(P.shape)\n",
    "\n",
    "total_P = np.sum(P)\n",
    "\n",
    "print(total_P)\n"
   ]
  },
  {
   "cell_type": "code",
   "execution_count": 23,
   "metadata": {
    "button": false,
    "collapsed": false,
    "deletable": true,
    "new_sheet": false,
    "run_control": {
     "read_only": false
    }
   },
   "outputs": [
    {
     "data": {
      "text/plain": [
       "(99, 99, 100)"
      ]
     },
     "execution_count": 23,
     "metadata": {},
     "output_type": "execute_result"
    }
   ],
   "source": [
    "# compute water filling for a range of lambdas\n",
    "\n",
    "#lambdas = np.logspace(-30,30,300)\n",
    "NLAMBDAS= 100\n",
    "lambdas = np.logspace(12,25,NLAMBDAS)\n",
    "Ws = list()\n",
    "for lambd in lambdas:\n",
    "    F = np.sqrt(N/(lambd*Ps)) - N/Ps #Filter Magnitue Square per mode\n",
    "    W = P*F #Total water per block\n",
    "    W[W<0] = 0 \n",
    "    \n",
    "    #print(np.sum(W))\n",
    "    \n",
    "    Ws.append(W.T)\n",
    "\n",
    "    #plt.figure()\n",
    "    #plt.imshow(np.sqrt(W), cmap = 'seismic', vmin = -np.max(np.sqrt(W)), vmax =  np.max(np.sqrt(W)),origin='lower')\n",
    "    #plt.colorbar()\n",
    "\n",
    "Ws = np.array(Ws).T\n",
    "Ws.shape\n"
   ]
  },
  {
   "cell_type": "code",
   "execution_count": 24,
   "metadata": {
    "button": false,
    "collapsed": false,
    "deletable": true,
    "new_sheet": false,
    "run_control": {
     "read_only": false
    }
   },
   "outputs": [
    {
     "name": "stdout",
     "output_type": "stream",
     "text": [
      "(99, 100) (99, 100)\n"
     ]
    }
   ],
   "source": [
    "# Sum across temporal frequencies (we don't need those)\n",
    "\n",
    "Nf = np.diff(X)[:,np.newaxis]*np.diff(T)[:,np.newaxis].T\n",
    "\n",
    "column_Obj = np.sum(P[:,:,np.newaxis]*Ws/(Ws+N*Nf[:,:,np.newaxis]),axis =0)\n",
    "\n",
    "column_W = np.sum(Ws,axis = 0)\n",
    "\n",
    "print(column_Obj.shape, column_W.shape)"
   ]
  },
  {
   "cell_type": "code",
   "execution_count": 25,
   "metadata": {
    "button": false,
    "collapsed": false,
    "deletable": true,
    "new_sheet": false,
    "run_control": {
     "read_only": false
    }
   },
   "outputs": [
    {
     "name": "stdout",
     "output_type": "stream",
     "text": [
      "18.5925674685\n",
      "814072697167.0\n",
      "814072697167.0\n",
      "\n",
      "22.6563689026\n",
      "773434764102.0\n",
      "827968938495.0\n",
      "773434764102.0\n",
      "\n",
      "1e-07\n",
      "17.2029405565 % error in reconstruction\n",
      "9.72112865553e-08 L1\n",
      "58\n",
      "9.7226722201e-06 17\n",
      "827968938495.0\n"
     ]
    }
   ],
   "source": [
    "# Try to find best box\n",
    "\n",
    "X1 = 0\n",
    "best_Obj = 0\n",
    "best_l1 = 0\n",
    "\n",
    "for X2 in range(X1+1, len(X)):\n",
    "\n",
    "        totalObj = np.sum(column_Obj[X1:X2], axis = 0)\n",
    "\n",
    "        DX = X[X2]-X[X1]\n",
    "        \n",
    "        \n",
    "        \n",
    "        total_l1 = np.sqrt(DX*(np.sum(column_W[X1:X2], axis = 0)))#+0*N*DX*(f2-f1))\n",
    "\n",
    "        Obj = np.max(totalObj - 1e30 * np.maximum(total_l1 - threshold, 0))\n",
    "\n",
    "        W = np.argmax(totalObj - 1e30 * np.maximum(total_l1 - threshold, 0))\n",
    "        \n",
    "        \n",
    "        \n",
    "        \n",
    "        if X2==20:\n",
    "            print(100*(total_P -  totalObj[W])/total_P)\n",
    "            print(Obj)\n",
    "            print(totalObj[W])\n",
    "            print('')\n",
    "            \n",
    "        if X2==24:\n",
    "            print(100*(total_P -  totalObj[W])/total_P)\n",
    "            print(Obj)\n",
    "            print(best_Obj)\n",
    "            print(totalObj[W])\n",
    "\n",
    "\n",
    "        if Obj>best_Obj:\n",
    "            best_W = W\n",
    "            best_Obj = totalObj[W]\n",
    "            best_l1 = total_l1[W]\n",
    "            best_REC = (total_P -  best_Obj)/total_P\n",
    "            best_DX = DX\n",
    "            best_X = X2\n",
    "print('')\n",
    "print(threshold)\n",
    "print(best_REC*100,'% error in reconstruction')\n",
    "print(best_l1, 'L1')\n",
    "print(best_W)\n",
    "print(best_DX, best_X)\n",
    "print(best_Obj)"
   ]
  },
  {
   "cell_type": "code",
   "execution_count": 26,
   "metadata": {
    "button": false,
    "collapsed": false,
    "deletable": true,
    "new_sheet": false,
    "run_control": {
     "read_only": false
    }
   },
   "outputs": [
    {
     "name": "stderr",
     "output_type": "stream",
     "text": [
      "/anaconda/lib/python3.6/site-packages/ipykernel/__main__.py:17: RuntimeWarning: divide by zero encountered in log\n"
     ]
    },
    {
     "data": {
      "text/plain": [
       "<matplotlib.colorbar.Colorbar at 0x11160a4a8>"
      ]
     },
     "execution_count": 26,
     "metadata": {},
     "output_type": "execute_result"
    },
    {
     "data": {
      "image/png": "[encoded data removed]",
      "text/plain": [
       "<matplotlib.figure.Figure at 0x11982bf60>"
      ]
     },
     "metadata": {},
     "output_type": "display_data"
    }
   ],
   "source": [
    "\n",
    "\n",
    "W = Ps*F\n",
    "W[W<0] = 0\n",
    "\n",
    "\n",
    "plt.figure(figsize = (4,4))\n",
    "\n",
    "plt.contour(P, np.logspace(-4,0,10), linewidths = 2, linestyles = 'solid', colors = 'k')\n",
    "\n",
    "Fk = Ws[:,:,best_W]/Ps\n",
    "Fk[:,best_X:] = 0\n",
    "\n",
    "#plt.imshow(np.sqrt(Fk), cmap = 'bwr', vmin = -np.max(Fk), vmax =  np.max(Fk),origin='lower')\n",
    "#plt.colorbar()\n",
    "\n",
    "plt.imshow(np.log(Fk),origin='lower')\n",
    "plt.colorbar()\n",
    "\n",
    "\n",
    "#plt.savefig('foo.eps')"
   ]
  },
  {
   "cell_type": "code",
   "execution_count": 27,
   "metadata": {
    "button": false,
    "collapsed": false,
    "deletable": true,
    "new_sheet": false,
    "run_control": {
     "read_only": false
    }
   },
   "outputs": [
    {
     "name": "stdout",
     "output_type": "stream",
     "text": [
      "1e-07\n",
      "8.69284893258 % error in reconstruction\n",
      "99.0210366812 % midget cells\n",
      "3.36673862706e-07 L1\n",
      "43 48 warning\n",
      "1.49756995398e-07 1.51477513508e-05 densities\n",
      "\n"
     ]
    }
   ],
   "source": [
    "# Find best box for two types\n",
    "\n",
    "\n",
    "X1 = 0\n",
    "best_Obj = 0\n",
    "best_l1 = 0\n",
    "\n",
    "for X2 in range(X1+1, len(X)):\n",
    "    for X3 in range(X2+1,len(X)):\n",
    "\n",
    "        Obj1 = np.sum(column_Obj[X1:X2], axis = 0)\n",
    "        Obj2 = np.sum(column_Obj[X2:X3], axis = 0)\n",
    "\n",
    "        totalObj = Obj1[:,np.newaxis] + Obj2[:,np.newaxis].T\n",
    "\n",
    "        DX1 = X[X2]-X[X1]\n",
    "        DX2 = X[X3]-X[X2]\n",
    "\n",
    "        l1_1 = np.sqrt(DX1*np.sum(column_W[X1:X2], axis = 0))\n",
    "        l1_2 = np.sqrt(DX2*np.sum(column_W[X2:X3], axis = 0))\n",
    "\n",
    "        total_l1 = (l1_1[:,np.newaxis]+l1_2[:,np.newaxis].T)\n",
    "\n",
    "        Obj = np.max(totalObj - 1e17 * np.maximum(total_l1 - threshold, 0))\n",
    "\n",
    "        W = np.argmax(totalObj - 1e17 * np.maximum(total_l1 - threshold, 0))\n",
    "\n",
    "        W1 = W // Obj1.shape[0]\n",
    "        W2 = W % Obj1.shape[0]\n",
    "\n",
    "        if Obj>best_Obj:\n",
    "            best_Obj = totalObj[W1,W2]\n",
    "            best_l1 = total_l1[W1,W2]\n",
    "            best_X1 = X1\n",
    "            best_X2 = X2\n",
    "            best_X3 = X3\n",
    "            best_W1 = W1\n",
    "            best_W2 = W2\n",
    "            best_DX1 = DX1\n",
    "            best_DX2 = DX2\n",
    "            best_REC = (total_P -  best_Obj)/total_P\n",
    "\n",
    "print(threshold)\n",
    "print(best_REC*100,'% error in reconstruction')\n",
    "print(best_DX2/(best_DX1+best_DX2)*100,'% midget cells')\n",
    "print(best_l1, 'L1')\n",
    "print(best_W1, best_W2, 'warning')\n",
    "print(best_DX1, best_DX2, 'densities')\n",
    "print('')\n",
    "\n"
   ]
  },
  {
   "cell_type": "code",
   "execution_count": 28,
   "metadata": {
    "button": false,
    "collapsed": false,
    "deletable": true,
    "new_sheet": false,
    "run_control": {
     "read_only": false
    }
   },
   "outputs": [
    {
     "name": "stderr",
     "output_type": "stream",
     "text": [
      "/anaconda/lib/python3.6/site-packages/ipykernel/__main__.py:23: RuntimeWarning: divide by zero encountered in log\n"
     ]
    },
    {
     "data": {
      "image/png": "[encoded data removed]",
      "text/plain": [
       "<matplotlib.figure.Figure at 0x119870518>"
      ]
     },
     "metadata": {},
     "output_type": "display_data"
    },
    {
     "data": {
      "image/png": "[encoded data removed]",
      "text/plain": [
       "<matplotlib.figure.Figure at 0x119955390>"
      ]
     },
     "metadata": {},
     "output_type": "display_data"
    }
   ],
   "source": [
    "\n",
    "NTYP = 2\n",
    "W = P*F\n",
    "W[W<0] = 0\n",
    "\n",
    "for i in range(NTYP):\n",
    "    plt.figure(figsize = (4,4))\n",
    "\n",
    "    plt.contour(P, np.logspace(-4,0,10), linewidths = 2, linestyles = 'solid', colors = 'k')\n",
    "    \n",
    "    \n",
    "    if i == 0:\n",
    "        Fk = Ws[:,:,best_W1]/P\n",
    "        #Fk = Ws[:,:,best_W1]/(Ws[:,:,best_W1]+N)\n",
    "        Fk[:,0:best_X1] = 0\n",
    "        Fk[:,best_X2:] = 0\n",
    "    else:\n",
    "        Fk = Ws[:,:,best_W2]/P\n",
    "        #Fk = Ws[:,:,best_W2]/(Ws[:,:,best_W2]+N)\n",
    "        Fk[:,0:best_X2] = 0\n",
    "        Fk[:,best_X3:] = 0\n",
    "        \n",
    "    plt.imshow(np.log(Fk),origin='lower')\n",
    "    plt.colorbar()\n",
    "    \n",
    "    #plt.imshow(Fk, cmap = 'bwr', vmin = -np.max(Fk), vmax =  np.max(Fk),origin='lower')\n",
    "    #plt.colorbar()\n",
    "\n",
    "\n",
    "#plt.savefig('foo.eps')"
   ]
  },
  {
   "cell_type": "code",
   "execution_count": 29,
   "metadata": {
    "collapsed": false
   },
   "outputs": [
    {
     "data": {
      "text/plain": [
       "0.5606060606060606"
      ]
     },
     "execution_count": 29,
     "metadata": {},
     "output_type": "execute_result"
    }
   ],
   "source": [
    "37/66"
   ]
  },
  {
   "cell_type": "code",
   "execution_count": null,
   "metadata": {
    "collapsed": true
   },
   "outputs": [],
   "source": []
  },
  {
   "cell_type": "code",
   "execution_count": null,
   "metadata": {
    "collapsed": true
   },
   "outputs": [],
   "source": []
  },
  {
   "cell_type": "code",
   "execution_count": null,
   "metadata": {
    "collapsed": true
   },
   "outputs": [],
   "source": []
  }
 ],
 "metadata": {
  "kernelspec": {
   "display_name": "Python 3",
   "language": "python",
   "name": "python3"
  },
  "language_info": {
   "codemirror_mode": {
    "name": "ipython",
    "version": 3
   },
   "file_extension": ".py",
   "mimetype": "text/x-python",
   "name": "python",
   "nbconvert_exporter": "python",
   "pygments_lexer": "ipython3",
   "version": "3.6.0"
  }
 },
 "nbformat": 4,
 "nbformat_minor": 2
}
