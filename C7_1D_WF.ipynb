{
 "cells": [
  {
   "cell_type": "code",
   "execution_count": 1,
   "metadata": {
    "button": false,
    "collapsed": true,
    "deletable": true,
    "new_sheet": false,
    "run_control": {
     "read_only": false
    }
   },
   "outputs": [],
   "source": [
    "# Final version of the water-filling in 1dspace-time.\n",
    "\n",
    "# This is just 1D time. IS there a benefit of having two cell types in this scenario"
   ]
  },
  {
   "cell_type": "code",
   "execution_count": 2,
   "metadata": {
    "button": false,
    "collapsed": true,
    "deletable": true,
    "new_sheet": false,
    "run_control": {
     "read_only": false
    }
   },
   "outputs": [],
   "source": [
    "import numpy as np\n",
    "import matplotlib.pyplot as plt\n",
    "\n",
    "%matplotlib inline"
   ]
  },
  {
   "cell_type": "code",
   "execution_count": 3,
   "metadata": {
    "collapsed": true
   },
   "outputs": [],
   "source": [
    "# parameters\n",
    "\n",
    "\n",
    "NFREQ = 100 # discretization\n",
    "f1 = 1e-6 # lowest freq\n",
    "f2 = 1e0 # highest freq\n",
    "\n",
    "\n",
    "## equilibrated trapezoid\n",
    "N = 1 # noise level\n",
    "\n"
   ]
  },
  {
   "cell_type": "code",
   "execution_count": 5,
   "metadata": {
    "button": false,
    "collapsed": false,
    "deletable": true,
    "new_sheet": false,
    "run_control": {
     "read_only": false
    }
   },
   "outputs": [
    {
     "name": "stdout",
     "output_type": "stream",
     "text": [
      "(99,)\n",
      "999999.0\n"
     ]
    }
   ],
   "source": [
    "# Generate spectrum\n",
    "\n",
    "X = np.exp(np.linspace(np.log(f1),np.log(f2),NFREQ))\n",
    "T = np.exp(np.linspace(np.log(f1),np.log(f2),NFREQ))\n",
    "\n",
    "\n",
    "# Power density\n",
    "Sdensity = 1/(X[:-1]**2)\n",
    "S = np.diff(-1/X)\n",
    "\n",
    "print(S.shape)\n",
    "\n",
    "# Total Power\n",
    "total_S = np.sum(S)\n",
    "\n",
    "print(total_S)"
   ]
  },
  {
   "cell_type": "code",
   "execution_count": 13,
   "metadata": {
    "button": false,
    "collapsed": false,
    "deletable": true,
    "new_sheet": false,
    "run_control": {
     "read_only": false
    }
   },
   "outputs": [
    {
     "data": {
      "text/plain": [
       "(99, 100)"
      ]
     },
     "execution_count": 13,
     "metadata": {},
     "output_type": "execute_result"
    }
   ],
   "source": [
    "## Compute water filling for a range of lambdas\n",
    "\n",
    "# range of lambdas\n",
    "NLAMBDAS = 100\n",
    "lambdas = np.logspace(0,12,NLAMBDAS)\n",
    "\n",
    "# library of water-filling solutions for different lamdas\n",
    "Ws = list()\n",
    "for lambd in lambdas:\n",
    "    F = np.sqrt(N/(lambd*Sdensity)) - N/Sdensity #Filter Magnitue Square per mode\n",
    "    W = S*F #Total water per block\n",
    "    W[W<0] = 0 \n",
    "    \n",
    "    #plt.figure()\n",
    "    #plt.imshow(np.sqrt(W), cmap = 'seismic', vmin = -np.max(np.sqrt(W)), vmax =  np.max(np.sqrt(W)),origin='lower')\n",
    "    #plt.colorbar()\n",
    "    \n",
    "    Ws.append(W.T)\n",
    "\n",
    "Ws = np.array(Ws).T\n",
    "Ws.shape\n"
   ]
  },
  {
   "cell_type": "code",
   "execution_count": 14,
   "metadata": {
    "button": false,
    "collapsed": false,
    "deletable": true,
    "new_sheet": false,
    "run_control": {
     "read_only": false
    }
   },
   "outputs": [
    {
     "name": "stdout",
     "output_type": "stream",
     "text": [
      "(99, 100) (100, 100) (99, 100) (100, 100)\n"
     ]
    }
   ],
   "source": [
    "# Sum across temporal frequencies (we don't need those)\n",
    "\n",
    "# volume of each voxel\n",
    "Nf = np.diff(X)\n",
    "\n",
    "# Precompute variance per mode explained for all lambdas\n",
    "colVarExpl = S[:,np.newaxis]*Ws/(Ws+N*Nf[:,np.newaxis])\n",
    "# cumulative variance explained (it's going to fasten up things in the grid search)\n",
    "cumVarExpl = np.vstack((np.zeros(NLAMBDAS),np.cumsum(colVarExpl,axis = 0)))\n",
    "\n",
    "# Water filling array for all modes and lamdas\n",
    "colWs = Ws\n",
    "# Cumulative Water filling array (it's going to fasten up things in the grid search)\n",
    "cumWs = np.vstack((np.zeros(NLAMBDAS),np.cumsum(colWs,axis = 0)))\n",
    "\n",
    "print(colVarExpl.shape, cumVarExpl.shape,colWs.shape, cumWs.shape)"
   ]
  },
  {
   "cell_type": "code",
   "execution_count": 24,
   "metadata": {
    "collapsed": false
   },
   "outputs": [
    {
     "name": "stdout",
     "output_type": "stream",
     "text": [
      "(1, 100) (1, 100)\n",
      "RECONSTRUCTION ERROR:  6.51683228526 %\n",
      "BEST NCELLS: [22]\n",
      "BEST LAMBDAS: [ 62.]\n",
      "OBJ: 934830.742316\n",
      "\n",
      "RECONSTRUCTION ERROR:  4.8663997045 %\n",
      "BEST NCELLS: [26]\n",
      "BEST LAMBDAS: [ 62.]\n",
      "OBJ: 951335.051619\n",
      "\n",
      "RECONSTRUCTION ERROR:  3.76050802069 %\n",
      "BEST NCELLS: [26]\n",
      "BEST LAMBDAS: [ 57.]\n",
      "OBJ: 962393.957398\n",
      "\n",
      "RECONSTRUCTION ERROR:  2.79158567189 %\n",
      "BEST NCELLS: [30]\n",
      "BEST LAMBDAS: [ 57.]\n",
      "OBJ: 972083.171197\n",
      "\n",
      "RECONSTRUCTION ERROR:  2.07550600299 %\n",
      "BEST NCELLS: [31]\n",
      "BEST LAMBDAS: [ 53.]\n",
      "OBJ: 979243.960725\n",
      "\n",
      "RECONSTRUCTION ERROR:  1.58800047391 %\n",
      "BEST NCELLS: [34]\n",
      "BEST LAMBDAS: [ 52.]\n",
      "OBJ: 984119.011141\n",
      "\n",
      "RECONSTRUCTION ERROR:  1.15867695392 %\n",
      "BEST NCELLS: [36]\n",
      "BEST LAMBDAS: [ 49.]\n",
      "OBJ: 988412.242048\n",
      "\n",
      "RECONSTRUCTION ERROR:  0.8431191796 %\n",
      "BEST NCELLS: [39]\n",
      "BEST LAMBDAS: [ 47.]\n",
      "OBJ: 991567.816635\n",
      "\n",
      "RECONSTRUCTION ERROR:  0.617581801262 %\n",
      "BEST NCELLS: [40]\n",
      "BEST LAMBDAS: [ 43.]\n",
      "OBJ: 993823.188163\n",
      "\n",
      "RECONSTRUCTION ERROR:  0.47297685072 %\n",
      "BEST NCELLS: [43]\n",
      "BEST LAMBDAS: [ 42.]\n",
      "OBJ: 995269.236223\n",
      "\n",
      "RECONSTRUCTION ERROR:  0.34254112969 %\n",
      "BEST NCELLS: [45]\n",
      "BEST LAMBDAS: [ 39.]\n",
      "OBJ: 996573.592129\n",
      "\n",
      "RECONSTRUCTION ERROR:  0.248385888227 %\n",
      "BEST NCELLS: [47]\n",
      "BEST LAMBDAS: [ 36.]\n",
      "OBJ: 997515.143602\n",
      "\n",
      "RECONSTRUCTION ERROR:  0.179042314077 %\n",
      "BEST NCELLS: [50]\n",
      "BEST LAMBDAS: [ 34.]\n",
      "OBJ: 998208.57865\n",
      "\n",
      "RECONSTRUCTION ERROR:  0.129236214992 %\n",
      "BEST NCELLS: [52]\n",
      "BEST LAMBDAS: [ 31.]\n",
      "OBJ: 998706.639142\n",
      "\n",
      "RECONSTRUCTION ERROR:  0.0934466406721 %\n",
      "BEST NCELLS: [54]\n",
      "BEST LAMBDAS: [ 28.]\n",
      "OBJ: 999064.534528\n",
      "\n",
      "RECONSTRUCTION ERROR:  0.0697481421964 %\n",
      "BEST NCELLS: [55]\n",
      "BEST LAMBDAS: [ 24.]\n",
      "OBJ: 999301.519276\n",
      "\n",
      "RECONSTRUCTION ERROR:  0.0509922375225 %\n",
      "BEST NCELLS: [57]\n",
      "BEST LAMBDAS: [ 21.]\n",
      "OBJ: 999489.078135\n",
      "\n",
      "RECONSTRUCTION ERROR:  0.0370840237712 %\n",
      "BEST NCELLS: [61]\n",
      "BEST LAMBDAS: [ 21.]\n",
      "OBJ: 999628.160133\n",
      "\n",
      "RECONSTRUCTION ERROR:  0.0266825547833 %\n",
      "BEST NCELLS: [64]\n",
      "BEST LAMBDAS: [ 19.]\n",
      "OBJ: 999732.174719\n",
      "\n",
      "RECONSTRUCTION ERROR:  0.0191048949618 %\n",
      "BEST NCELLS: [66]\n",
      "BEST LAMBDAS: [ 16.]\n",
      "OBJ: 999807.951241\n",
      "\n",
      "(2, 10000) (2, 10000)\n",
      "RECONSTRUCTION ERROR:  5.83108766198 %\n",
      "BEST NCELLS: [14 24]\n",
      "BEST LAMBDAS: [ 61.  65.]\n",
      "OBJ: 941688.181691\n",
      "\n",
      "RECONSTRUCTION ERROR:  4.37219937377 %\n",
      "BEST NCELLS: [17 27]\n",
      "BEST LAMBDAS: [ 59.  64.]\n",
      "OBJ: 956277.049984\n",
      "\n",
      "RECONSTRUCTION ERROR:  3.25472978152 %\n",
      "BEST NCELLS: [17 29]\n",
      "BEST LAMBDAS: [ 56.  61.]\n",
      "OBJ: 967451.734732\n",
      "\n",
      "RECONSTRUCTION ERROR:  2.41236586304 %\n",
      "BEST NCELLS: [20 31]\n",
      "BEST LAMBDAS: [ 54.  58.]\n",
      "OBJ: 975875.365493\n",
      "\n",
      "RECONSTRUCTION ERROR:  1.76671909718 %\n",
      "BEST NCELLS: [18 33]\n",
      "BEST LAMBDAS: [ 50.  55.]\n",
      "OBJ: 982331.826695\n",
      "\n",
      "RECONSTRUCTION ERROR:  1.29363991061 %\n",
      "BEST NCELLS: [21 36]\n",
      "BEST LAMBDAS: [ 47.  54.]\n",
      "OBJ: 987062.61383\n",
      "\n",
      "RECONSTRUCTION ERROR:  0.94185849638 %\n",
      "BEST NCELLS: [22 38]\n",
      "BEST LAMBDAS: [ 44.  51.]\n",
      "OBJ: 990580.424455\n",
      "\n",
      "RECONSTRUCTION ERROR:  0.685706269743 %\n",
      "BEST NCELLS: [21 40]\n",
      "BEST LAMBDAS: [ 42.  47.]\n",
      "OBJ: 993141.94416\n",
      "\n",
      "RECONSTRUCTION ERROR:  0.49171427336 %\n",
      "BEST NCELLS: [26 43]\n",
      "BEST LAMBDAS: [ 39.  46.]\n",
      "OBJ: 995081.862184\n",
      "\n",
      "RECONSTRUCTION ERROR:  0.356369213544 %\n",
      "BEST NCELLS: [27 45]\n",
      "BEST LAMBDAS: [ 36.  43.]\n",
      "OBJ: 996435.311428\n",
      "\n",
      "RECONSTRUCTION ERROR:  0.255532523633 %\n",
      "BEST NCELLS: [28 48]\n",
      "BEST LAMBDAS: [ 33.  41.]\n",
      "OBJ: 997443.677319\n",
      "\n",
      "RECONSTRUCTION ERROR:  0.182295705426 %\n",
      "BEST NCELLS: [30 50]\n",
      "BEST LAMBDAS: [ 30.  38.]\n",
      "OBJ: 998176.044769\n",
      "\n",
      "RECONSTRUCTION ERROR:  0.130440665317 %\n",
      "BEST NCELLS: [32 52]\n",
      "BEST LAMBDAS: [ 27.  35.]\n",
      "OBJ: 998694.594651\n",
      "\n",
      "RECONSTRUCTION ERROR:  0.0931306918088 %\n",
      "BEST NCELLS: [35 55]\n",
      "BEST LAMBDAS: [ 25.  33.]\n",
      "OBJ: 999067.694013\n",
      "\n",
      "RECONSTRUCTION ERROR:  0.0663358269146 %\n",
      "BEST NCELLS: [35 57]\n",
      "BEST LAMBDAS: [ 21.  30.]\n",
      "OBJ: 999335.642394\n",
      "\n",
      "RECONSTRUCTION ERROR:  0.0473140581523 %\n",
      "BEST NCELLS: [38 60]\n",
      "BEST LAMBDAS: [ 19.  28.]\n",
      "OBJ: 999525.859892\n",
      "\n",
      "RECONSTRUCTION ERROR:  0.0336635863162 %\n",
      "BEST NCELLS: [40 62]\n",
      "BEST LAMBDAS: [ 16.  25.]\n",
      "OBJ: 999662.364473\n",
      "\n",
      "RECONSTRUCTION ERROR:  0.0239919802259 %\n",
      "BEST NCELLS: [41 65]\n",
      "BEST LAMBDAS: [ 13.  23.]\n",
      "OBJ: 999759.080438\n",
      "\n",
      "RECONSTRUCTION ERROR:  0.0168277387722 %\n",
      "BEST NCELLS: [44 67]\n",
      "BEST LAMBDAS: [ 10.  20.]\n",
      "OBJ: 999830.722781\n",
      "\n",
      "RECONSTRUCTION ERROR:  0.0119641561485 %\n",
      "BEST NCELLS: [44 69]\n",
      "BEST LAMBDAS: [  8.  16.]\n",
      "OBJ: 999879.358558\n",
      "\n"
     ]
    }
   ],
   "source": [
    "## Iterate over all possible decompositions between N cell types to find the best one\n",
    "\n",
    "RECS = list()\n",
    "STRS = list()\n",
    "\n",
    "# Number of types\n",
    "for NTYPES in range(1,3):\n",
    "\n",
    "    ## Create grid for grid search\n",
    "\n",
    "    # Create grid for grid search over strides for different types\n",
    "    STEP = 1 # step of the grid search\n",
    "    strides = np.arange(0,NFREQ,STEP)\n",
    "    NSTRIDES = len(strides)\n",
    "    g = [strides for i in range(NTYPES)]\n",
    "    g = np.meshgrid(*g)\n",
    "    stride_grid = np.array([gi.ravel() for gi in g])\n",
    "\n",
    "    # Create grid for grid serach over lambdas to find best objective\n",
    "    g = [np.arange(0,NLAMBDAS) for i in range(NTYPES)]\n",
    "    g = np.meshgrid(*g)\n",
    "    lambda_grid = np.array([gi.flatten() for gi in g])\n",
    "\n",
    "    print(stride_grid.shape,lambda_grid.shape)\n",
    "\n",
    "    recs = list()\n",
    "    strides = list()\n",
    "\n",
    "    # Total firing rate threshold ('number of spikes')\n",
    "    for NSPIKES in np.logspace(-4,-1,20):\n",
    "        #print(NSPIKES)\n",
    "\n",
    "        GRID = np.zeros(NTYPES)\n",
    "        NITER =  stride_grid.shape[1]\n",
    "\n",
    "        EXPL = np.zeros(NITER)\n",
    "        OBJ = np.zeros(NITER)\n",
    "        LAMB = np.zeros((NITER,NTYPES))\n",
    "        \n",
    "        # start grid search over strides of each type\n",
    "        for i in range(NITER):\n",
    "            lims = stride_grid[:,i] # end limit of the modes covered by each type\n",
    "\n",
    "            if np.all(np.diff(lims)>0) and lims[0]>0: # if all limits are in an \n",
    "                #increasing order (avoid switching types) \n",
    "\n",
    "\n",
    "                lims2 = [0,*lims]\n",
    "                \n",
    "                #print(lims)\n",
    "\n",
    "                all_varsExpl = list()\n",
    "                all_l1s = list()\n",
    "                for typ in range(NTYPES):\n",
    "\n",
    "                    # Variance explained for each lambda\n",
    "                    varExp = cumVarExpl[lims2[typ+1]] - cumVarExpl[lims2[typ]]\n",
    "\n",
    "                    # Budget of cells for each type\n",
    "                    budgetCells = X[lims2[typ+1]] - X[lims2[typ]]\n",
    "\n",
    "                    # penalty\n",
    "                    l1_penalty = np.sqrt(budgetCells*(cumWs[lims2[typ+1]]- cumWs[lims2[typ]]))\n",
    "\n",
    "                      \n",
    "                    all_varsExpl.append(varExp)\n",
    "                    all_l1s.append(l1_penalty)\n",
    "\n",
    "\n",
    "                all_varsExpl = np.array(all_varsExpl)\n",
    "                total_varsExpl = sum([all_varsExpl[ityp,lambda_grid[ityp]] for ityp in range(NTYPES)])\n",
    "                \n",
    "                all_l1s = np.array(all_l1s)\n",
    "                total_l1s = sum([all_l1s[ityp,lambda_grid[ityp]] for ityp in range(NTYPES)])\n",
    "                \n",
    "                # objective for each lambda\n",
    "                objective = total_varsExpl - 1e60 * np.maximum(total_l1s - NSPIKES, 0)   \n",
    "\n",
    "                best_lambdas_ind = np.argmax(objective)\n",
    "                \n",
    "                best_lambdas = lambda_grid[:,best_lambdas_ind]\n",
    "                \n",
    "\n",
    "                #if 0 in best_lambdas:\n",
    "                #    print('warning lambda LOWER bound reached',lims)\n",
    "                #if NLAMBDAS-1 in best_lambdas:\n",
    "                #    print('warning lambda UPPER bound reached')\n",
    "\n",
    "                best_objective = objective[best_lambdas_ind]\n",
    "\n",
    "                best_varExp = total_varsExpl[best_lambdas_ind]\n",
    "\n",
    "                EXPL[i] = best_varExp\n",
    "                LAMB[i,:] = best_lambdas        \n",
    "                OBJ[i] = best_objective\n",
    "                \n",
    "                #print(best_objective)\n",
    "                #print(best_varExp)\n",
    "                \n",
    "                #STRIDES[i,:] = best_strides\n",
    "\n",
    "                #print(lims,best_lambdas,best_objective)\n",
    "\n",
    "                #print(sumObjs.shape,lambda_grid.shape)\n",
    "                \n",
    "        \n",
    "        iter_max = np.argmax(OBJ)\n",
    "        \n",
    "        rec = (np.sum(S) - EXPL[iter_max])/np.sum(S)*100\n",
    "        st = stride_grid[:,iter_max]\n",
    "\n",
    "        recs.append(rec)\n",
    "        strides.append(st)\n",
    "        #print(np.argmax(EXPL))\n",
    "        print('RECONSTRUCTION ERROR: ',rec,'%')\n",
    "        print('BEST NCELLS:', stride_grid[:,iter_max])\n",
    "        print('BEST LAMBDAS:', LAMB[iter_max])\n",
    "        print('OBJ:', OBJ[iter_max])\n",
    "        print('')\n",
    "        \n",
    "    RECS.append(recs)\n",
    "    STRS.append(strides)"
   ]
  },
  {
   "cell_type": "code",
   "execution_count": 25,
   "metadata": {
    "collapsed": false
   },
   "outputs": [
    {
     "data": {
      "text/plain": [
       "<matplotlib.legend.Legend at 0x10c98a908>"
      ]
     },
     "execution_count": 25,
     "metadata": {},
     "output_type": "execute_result"
    },
    {
     "data": {
      "image/png": "[encoded data removed]",
      "text/plain": [
       "<matplotlib.figure.Figure at 0x10c98a9b0>"
      ]
     },
     "metadata": {},
     "output_type": "display_data"
    }
   ],
   "source": [
    "# Reconstruction error wrt spike budgets for different number of types\n",
    "\n",
    "\n",
    "plt.plot(np.log(np.array(RECS).T)/np.log(10),'-o')\n",
    "plt.xlabel('Total firing rate budget (a.u.)',fontsize = 16)\n",
    "plt.ylabel('Log(Rec Error)',fontsize = 16)\n",
    "#plt.yticks([-1,-2,-3])\n",
    "plt.legend(['1 type','2 types','3 types'])\n",
    "\n",
    "#plt.savefig('performance.eps')"
   ]
  },
  {
   "cell_type": "code",
   "execution_count": 28,
   "metadata": {
    "collapsed": false
   },
   "outputs": [
    {
     "data": {
      "text/plain": [
       "<matplotlib.text.Text at 0x10c2512b0>"
      ]
     },
     "execution_count": 28,
     "metadata": {},
     "output_type": "execute_result"
    },
    {
     "data": {
      "image/png": "[encoded data removed]",
      "text/plain": [
       "<matplotlib.figure.Figure at 0x114e8dc50>"
      ]
     },
     "metadata": {},
     "output_type": "display_data"
    }
   ],
   "source": [
    "# Ratio of reconstruction error between one type and two types\n",
    "\n",
    "r = np.array(RECS)\n",
    "plt.plot(100*r[1]/r[0],'-o')\n",
    "plt.xlabel('Total firing rate budget (a.u.)',fontsize = 16)\n",
    "plt.ylabel('Reconstruction error fraction (%)',fontsize = 16)\n",
    "#plt.legend(['1 type','2 types','3 types'])"
   ]
  },
  {
   "cell_type": "code",
   "execution_count": 27,
   "metadata": {
    "collapsed": false
   },
   "outputs": [
    {
     "data": {
      "text/plain": [
       "<matplotlib.text.Text at 0x10c9f0ef0>"
      ]
     },
     "execution_count": 27,
     "metadata": {},
     "output_type": "execute_result"
    },
    {
     "data": {
      "image/png": "[encoded data removed]",
      "text/plain": [
       "<matplotlib.figure.Figure at 0x10cb06780>"
      ]
     },
     "metadata": {},
     "output_type": "display_data"
    }
   ],
   "source": [
    "# plot evolution of density with budget\n",
    "\n",
    "plt.plot(np.log(X[np.array(STRS[1])]),'-o')\n",
    "#plt.plot(1/np.array(STRS[2]),'-o')\n",
    "plt.ylabel('Cell density (a.u)',fontsize = 16)\n",
    "plt.xlabel('Total firing rate budget (a.u.)',fontsize = 16)\n"
   ]
  },
  {
   "cell_type": "code",
   "execution_count": 23,
   "metadata": {
    "collapsed": false
   },
   "outputs": [
    {
     "data": {
      "text/plain": [
       "<matplotlib.text.Text at 0x10c759dd8>"
      ]
     },
     "execution_count": 23,
     "metadata": {},
     "output_type": "execute_result"
    },
    {
     "data": {
      "image/png": "[encoded data removed]",
      "text/plain": [
       "<matplotlib.figure.Figure at 0x10c2bceb8>"
      ]
     },
     "metadata": {},
     "output_type": "display_data"
    }
   ],
   "source": [
    "plt.plot(X[np.array(STRS[1])][:,1]/(X[np.array(STRS[1])][:,0]+X[np.array(STRS[1])][:,1]),'-o')\n",
    "plt.ylabel('Ratio midget/parasol',fontsize = 16)\n",
    "plt.xlabel('Total firing rate budget (a.u.)',fontsize = 16)"
   ]
  },
  {
   "cell_type": "code",
   "execution_count": 287,
   "metadata": {
    "collapsed": false
   },
   "outputs": [
    {
     "data": {
      "text/plain": [
       "[<matplotlib.lines.Line2D at 0x120b9fa90>,\n",
       " <matplotlib.lines.Line2D at 0x120b9fbe0>]"
      ]
     },
     "execution_count": 287,
     "metadata": {},
     "output_type": "execute_result"
    },
    {
     "data": {
      "image/png": "[encoded data removed]",
      "text/plain": [
       "<matplotlib.figure.Figure at 0x120ad2240>"
      ]
     },
     "metadata": {},
     "output_type": "display_data"
    }
   ],
   "source": [
    "plt.plot(-(np.array(RECS).T/100*np.sum(S)-np.sum(S)),'-o')"
   ]
  },
  {
   "cell_type": "code",
   "execution_count": null,
   "metadata": {
    "collapsed": true
   },
   "outputs": [],
   "source": []
  }
 ],
 "metadata": {
  "kernelspec": {
   "display_name": "Python 3",
   "language": "python",
   "name": "python3"
  },
  "language_info": {
   "codemirror_mode": {
    "name": "ipython",
    "version": 3
   },
   "file_extension": ".py",
   "mimetype": "text/x-python",
   "name": "python",
   "nbconvert_exporter": "python",
   "pygments_lexer": "ipython3",
   "version": "3.6.0"
  }
 },
 "nbformat": 4,
 "nbformat_minor": 2
}
