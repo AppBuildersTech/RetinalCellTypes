{
 "cells": [
  {
   "cell_type": "code",
   "execution_count": 1,
   "metadata": {
    "button": false,
    "collapsed": true,
    "deletable": true,
    "new_sheet": false,
    "run_control": {
     "read_only": false
    }
   },
   "outputs": [],
   "source": [
    "# Final version of the water-filling in 1dspace-time."
   ]
  },
  {
   "cell_type": "code",
   "execution_count": 274,
   "metadata": {
    "button": false,
    "collapsed": true,
    "deletable": true,
    "new_sheet": false,
    "run_control": {
     "read_only": false
    }
   },
   "outputs": [],
   "source": [
    "import numpy as np\n",
    "import matplotlib.pyplot as plt\n",
    "\n",
    "%matplotlib inline"
   ]
  },
  {
   "cell_type": "code",
   "execution_count": 275,
   "metadata": {
    "collapsed": true
   },
   "outputs": [],
   "source": [
    "# parameters\n",
    "\n",
    "\n",
    "NFREQ = 100 # discretization\n",
    "f1 = 1e-6 # lowest freq\n",
    "f2 = 1e0 # highest freq\n",
    "\n",
    "\n",
    "## equilibrated trapezoid\n",
    "N = 1 # noise level\n",
    "\n"
   ]
  },
  {
   "cell_type": "code",
   "execution_count": 276,
   "metadata": {
    "button": false,
    "collapsed": false,
    "deletable": true,
    "new_sheet": false,
    "run_control": {
     "read_only": false
    }
   },
   "outputs": [
    {
     "name": "stdout",
     "output_type": "stream",
     "text": [
      "(99, 99)\n",
      "999998000001.0\n"
     ]
    }
   ],
   "source": [
    "# Generate spectrum\n",
    "\n",
    "X = np.exp(np.linspace(np.log(f1),np.log(f2),NFREQ))\n",
    "T = np.exp(np.linspace(np.log(f1),np.log(f2),NFREQ))\n",
    "\n",
    "GX,GT = np.meshgrid(X[:-1],T[:-1])\n",
    "\n",
    "# Power density\n",
    "Sdensity = 1/(GX**2*GT**2)\n",
    "S = np.diff(-1/X)[:,np.newaxis]*np.diff(-1/T)[:,np.newaxis].T\n",
    "\n",
    "print(S.shape)\n",
    "\n",
    "# Total Power\n",
    "total_S = np.sum(S)\n",
    "\n",
    "print(total_S)"
   ]
  },
  {
   "cell_type": "code",
   "execution_count": 277,
   "metadata": {
    "button": false,
    "collapsed": false,
    "deletable": true,
    "new_sheet": false,
    "run_control": {
     "read_only": false
    }
   },
   "outputs": [
    {
     "data": {
      "text/plain": [
       "(99, 99, 100)"
      ]
     },
     "execution_count": 277,
     "metadata": {},
     "output_type": "execute_result"
    }
   ],
   "source": [
    "## Compute water filling for a range of lambdas\n",
    "\n",
    "# range of lambdas\n",
    "NLAMBDAS = 100\n",
    "lambdas = np.logspace(12,25,NLAMBDAS)\n",
    "\n",
    "# library of water-filling solutions for different lamdas\n",
    "Ws = list()\n",
    "for lambd in lambdas:\n",
    "    F = np.sqrt(N/(lambd*Sdensity)) - N/Sdensity #Filter Magnitue Square per mode\n",
    "    W = S*F #Total water per block\n",
    "    W[W<0] = 0 \n",
    "    \n",
    "    #plt.figure()\n",
    "    #plt.imshow(np.sqrt(W), cmap = 'seismic', vmin = -np.max(np.sqrt(W)), vmax =  np.max(np.sqrt(W)),origin='lower')\n",
    "    #plt.colorbar()\n",
    "    \n",
    "    Ws.append(W.T)\n",
    "\n",
    "Ws = np.array(Ws).T\n",
    "Ws.shape\n"
   ]
  },
  {
   "cell_type": "code",
   "execution_count": 278,
   "metadata": {
    "button": false,
    "collapsed": false,
    "deletable": true,
    "new_sheet": false,
    "run_control": {
     "read_only": false
    }
   },
   "outputs": [
    {
     "name": "stdout",
     "output_type": "stream",
     "text": [
      "(99, 100) (100, 100) (99, 100) (100, 100)\n"
     ]
    }
   ],
   "source": [
    "# Sum across temporal frequencies (we don't need those)\n",
    "\n",
    "# volume of each voxel\n",
    "Nf = np.diff(X)[:,np.newaxis]*np.diff(T)[:,np.newaxis].T\n",
    "\n",
    "# Precompute variance per mode explained for all lambdas\n",
    "colVarExpl = np.sum(S[:,:,np.newaxis]*Ws/(Ws+N*Nf[:,:,np.newaxis]),axis =0)\n",
    "# cumulative variance explained (it's going to fasten up things in the grid search)\n",
    "cumVarExpl = np.vstack((np.zeros(NLAMBDAS),np.cumsum(colVarExpl,axis = 0)))\n",
    "\n",
    "# Water filling array for all modes and lamdas\n",
    "colWs = np.sum(Ws,axis = 0)\n",
    "# Cumulative Water filling array (it's going to fasten up things in the grid search)\n",
    "cumWs = np.vstack((np.zeros(NLAMBDAS),np.cumsum(colWs,axis = 0)))\n",
    "\n",
    "print(colVarExpl.shape, cumVarExpl.shape,colWs.shape, cumWs.shape)"
   ]
  },
  {
   "cell_type": "code",
   "execution_count": 282,
   "metadata": {
    "collapsed": false
   },
   "outputs": [
    {
     "name": "stdout",
     "output_type": "stream",
     "text": [
      "(1, 100) (1, 100)\n",
      "RECONSTRUCTION ERROR:  17.2029405565 %\n",
      "BEST NCELLS: [17]\n",
      "BEST LAMBDAS: [ 58.]\n",
      "OBJ: 827968938495.0\n",
      "\n",
      "RECONSTRUCTION ERROR:  13.7956630869 %\n",
      "BEST NCELLS: [19]\n",
      "BEST LAMBDAS: [ 56.]\n",
      "OBJ: 862041645045.0\n",
      "\n",
      "RECONSTRUCTION ERROR:  11.2690051432 %\n",
      "BEST NCELLS: [22]\n",
      "BEST LAMBDAS: [ 55.]\n",
      "OBJ: 887308173949.0\n",
      "\n",
      "RECONSTRUCTION ERROR:  9.04328479019 %\n",
      "BEST NCELLS: [24]\n",
      "BEST LAMBDAS: [ 53.]\n",
      "OBJ: 909565332965.0\n",
      "\n",
      "RECONSTRUCTION ERROR:  7.23685132684 %\n",
      "BEST NCELLS: [26]\n",
      "BEST LAMBDAS: [ 51.]\n",
      "OBJ: 927629631470.0\n",
      "\n",
      "RECONSTRUCTION ERROR:  5.56807501007 %\n",
      "BEST NCELLS: [27]\n",
      "BEST LAMBDAS: [ 48.]\n",
      "OBJ: 944317361262.0\n",
      "\n",
      "RECONSTRUCTION ERROR:  4.31043898406 %\n",
      "BEST NCELLS: [28]\n",
      "BEST LAMBDAS: [ 45.]\n",
      "OBJ: 956893696369.0\n",
      "\n",
      "RECONSTRUCTION ERROR:  3.36381594777 %\n",
      "BEST NCELLS: [29]\n",
      "BEST LAMBDAS: [ 42.]\n",
      "OBJ: 966359907800.0\n",
      "\n",
      "RECONSTRUCTION ERROR:  2.63313059124 %\n",
      "BEST NCELLS: [31]\n",
      "BEST LAMBDAS: [ 40.]\n",
      "OBJ: 973666746751.0\n",
      "\n",
      "RECONSTRUCTION ERROR:  2.05857969832 %\n",
      "BEST NCELLS: [33]\n",
      "BEST LAMBDAS: [ 38.]\n",
      "OBJ: 979412244189.0\n",
      "\n",
      "RECONSTRUCTION ERROR:  1.52393365952 %\n",
      "BEST NCELLS: [36]\n",
      "BEST LAMBDAS: [ 36.]\n",
      "OBJ: 984758693884.0\n",
      "\n",
      "RECONSTRUCTION ERROR:  1.17104366791 %\n",
      "BEST NCELLS: [37]\n",
      "BEST LAMBDAS: [ 33.]\n",
      "OBJ: 988287586743.0\n",
      "\n",
      "RECONSTRUCTION ERROR:  0.910196554216 %\n",
      "BEST NCELLS: [38]\n",
      "BEST LAMBDAS: [ 30.]\n",
      "OBJ: 990896052663.0\n",
      "\n",
      "RECONSTRUCTION ERROR:  0.669838061603 %\n",
      "BEST NCELLS: [42]\n",
      "BEST LAMBDAS: [ 29.]\n",
      "OBJ: 993299632782.0\n",
      "\n",
      "RECONSTRUCTION ERROR:  0.511620392845 %\n",
      "BEST NCELLS: [43]\n",
      "BEST LAMBDAS: [ 26.]\n",
      "OBJ: 994881806305.0\n",
      "\n",
      "RECONSTRUCTION ERROR:  0.385516620439 %\n",
      "BEST NCELLS: [47]\n",
      "BEST LAMBDAS: [ 25.]\n",
      "OBJ: 996142841507.0\n",
      "\n",
      "RECONSTRUCTION ERROR:  0.285715456363 %\n",
      "BEST NCELLS: [47]\n",
      "BEST LAMBDAS: [ 21.]\n",
      "OBJ: 997140851152.0\n",
      "\n",
      "RECONSTRUCTION ERROR:  0.220372997058 %\n",
      "BEST NCELLS: [49]\n",
      "BEST LAMBDAS: [ 19.]\n",
      "OBJ: 997794274438.0\n",
      "\n",
      "RECONSTRUCTION ERROR:  0.158760579187 %\n",
      "BEST NCELLS: [51]\n",
      "BEST LAMBDAS: [ 16.]\n",
      "OBJ: 998410397384.0\n",
      "\n",
      "RECONSTRUCTION ERROR:  0.122104592393 %\n",
      "BEST NCELLS: [53]\n",
      "BEST LAMBDAS: [ 14.]\n",
      "OBJ: 998776956519.0\n",
      "\n",
      "(2, 10000) (2, 10000)\n",
      "RECONSTRUCTION ERROR:  15.7346195121 %\n",
      "BEST NCELLS: [ 8 19]\n",
      "BEST LAMBDAS: [ 56.  60.]\n",
      "OBJ: 842652119572.0\n",
      "\n",
      "RECONSTRUCTION ERROR:  12.5677128622 %\n",
      "BEST NCELLS: [10 21]\n",
      "BEST LAMBDAS: [ 53.  59.]\n",
      "OBJ: 874321122734.0\n",
      "\n",
      "RECONSTRUCTION ERROR:  9.92944108262 %\n",
      "BEST NCELLS: [12 22]\n",
      "BEST LAMBDAS: [ 51.  56.]\n",
      "OBJ: 900703787763.0\n",
      "\n",
      "RECONSTRUCTION ERROR:  7.79692217425 %\n",
      "BEST NCELLS: [12 24]\n",
      "BEST LAMBDAS: [ 48.  54.]\n",
      "OBJ: 922028934197.0\n",
      "\n",
      "RECONSTRUCTION ERROR:  6.0705969179 %\n",
      "BEST NCELLS: [14 27]\n",
      "BEST LAMBDAS: [ 47.  52.]\n",
      "OBJ: 939292152234.0\n",
      "\n",
      "RECONSTRUCTION ERROR:  4.67073225362 %\n",
      "BEST NCELLS: [15 28]\n",
      "BEST LAMBDAS: [ 43.  50.]\n",
      "OBJ: 953290770879.0\n",
      "\n",
      "RECONSTRUCTION ERROR:  3.57901878853 %\n",
      "BEST NCELLS: [16 30]\n",
      "BEST LAMBDAS: [ 40.  48.]\n",
      "OBJ: 964207883696.0\n",
      "\n",
      "RECONSTRUCTION ERROR:  2.71085931134 %\n",
      "BEST NCELLS: [19 33]\n",
      "BEST LAMBDAS: [ 39.  46.]\n",
      "OBJ: 972889461105.0\n",
      "\n",
      "RECONSTRUCTION ERROR:  2.05772859793 %\n",
      "BEST NCELLS: [20 35]\n",
      "BEST LAMBDAS: [ 37.  43.]\n",
      "OBJ: 979420755176.0\n",
      "\n",
      "RECONSTRUCTION ERROR:  1.54777829364 %\n",
      "BEST NCELLS: [19 36]\n",
      "BEST LAMBDAS: [ 33.  40.]\n",
      "OBJ: 984520248020.0\n",
      "\n",
      "RECONSTRUCTION ERROR:  1.15359745438 %\n",
      "BEST NCELLS: [23 39]\n",
      "BEST LAMBDAS: [ 31.  39.]\n",
      "OBJ: 988462048529.0\n",
      "\n",
      "RECONSTRUCTION ERROR:  0.857461157783 %\n",
      "BEST NCELLS: [23 42]\n",
      "BEST LAMBDAS: [ 28.  37.]\n",
      "OBJ: 991423405572.0\n",
      "\n",
      "RECONSTRUCTION ERROR:  0.634928336006 %\n",
      "BEST NCELLS: [24 43]\n",
      "BEST LAMBDAS: [ 26.  33.]\n",
      "OBJ: 993648729340.0\n",
      "\n",
      "RECONSTRUCTION ERROR:  0.469130617419 %\n",
      "BEST NCELLS: [24 45]\n",
      "BEST LAMBDAS: [ 22.  31.]\n",
      "OBJ: 995306703209.0\n",
      "\n",
      "RECONSTRUCTION ERROR:  0.344147744552 %\n",
      "BEST NCELLS: [26 48]\n",
      "BEST LAMBDAS: [ 20.  29.]\n",
      "OBJ: 996556529438.0\n",
      "\n",
      "RECONSTRUCTION ERROR:  0.252582337816 %\n",
      "BEST NCELLS: [31 51]\n",
      "BEST LAMBDAS: [ 18.  28.]\n",
      "OBJ: 997472181674.0\n",
      "\n",
      "RECONSTRUCTION ERROR:  0.183577734169 %\n",
      "BEST NCELLS: [31 53]\n",
      "BEST LAMBDAS: [ 15.  25.]\n",
      "OBJ: 998162226331.0\n",
      "\n",
      "RECONSTRUCTION ERROR:  0.133603972778 %\n",
      "BEST NCELLS: [33 55]\n",
      "BEST LAMBDAS: [ 13.  22.]\n",
      "OBJ: 998661962945.0\n",
      "\n",
      "RECONSTRUCTION ERROR:  0.0974199536442 %\n",
      "BEST NCELLS: [33 56]\n",
      "BEST LAMBDAS: [  9.  19.]\n",
      "OBJ: 999023802413.0\n",
      "\n",
      "RECONSTRUCTION ERROR:  0.0704231270488 %\n",
      "BEST NCELLS: [36 60]\n",
      "BEST LAMBDAS: [  7.  18.]\n",
      "OBJ: 999293770139.0\n",
      "\n"
     ]
    }
   ],
   "source": [
    "## Iterate over all possible decompositions between N cell types to find the best one\n",
    "\n",
    "RECS = list()\n",
    "STRS = list()\n",
    "\n",
    "# Number of types\n",
    "for NTYPES in range(1,3):\n",
    "\n",
    "    ## Create grid for grid search\n",
    "\n",
    "    # Create grid for grid search over strides for different types\n",
    "    STEP = 1 # step of the grid search\n",
    "    strides = np.arange(0,NFREQ,STEP)\n",
    "    NSTRIDES = len(strides)\n",
    "    g = [strides for i in range(NTYPES)]\n",
    "    g = np.meshgrid(*g)\n",
    "    stride_grid = np.array([gi.ravel() for gi in g])\n",
    "\n",
    "    # Create grid for grid serach over lambdas to find best objective\n",
    "    g = [np.arange(0,NLAMBDAS) for i in range(NTYPES)]\n",
    "    g = np.meshgrid(*g)\n",
    "    lambda_grid = np.array([gi.flatten() for gi in g])\n",
    "\n",
    "    print(stride_grid.shape,lambda_grid.shape)\n",
    "\n",
    "    recs = list()\n",
    "    strides = list()\n",
    "\n",
    "    # Total firing rate threshold ('number of spikes')\n",
    "    for NSPIKES in np.logspace(-7,-4,20):\n",
    "        #print(NSPIKES)\n",
    "\n",
    "        GRID = np.zeros(NTYPES)\n",
    "        NITER =  stride_grid.shape[1]\n",
    "\n",
    "        EXPL = np.zeros(NITER)\n",
    "        OBJ = np.zeros(NITER)\n",
    "        LAMB = np.zeros((NITER,NTYPES))\n",
    "        \n",
    "        # start grid search over strides of each type\n",
    "        for i in range(NITER):\n",
    "            lims = stride_grid[:,i] # end limit of the modes covered by each type\n",
    "\n",
    "            if np.all(np.diff(lims)>0) and lims[0]>0: # if all limits are in an \n",
    "                #increasing order (avoid switching types) \n",
    "\n",
    "\n",
    "                lims2 = [0,*lims]\n",
    "                \n",
    "                #print(lims)\n",
    "\n",
    "                all_varsExpl = list()\n",
    "                all_l1s = list()\n",
    "                for typ in range(NTYPES):\n",
    "\n",
    "                    # Variance explained for each lambda\n",
    "                    varExp = cumVarExpl[lims2[typ+1]] - cumVarExpl[lims2[typ]]\n",
    "\n",
    "                    # Budget of cells for each type\n",
    "                    budgetCells = X[lims2[typ+1]] - X[lims2[typ]]\n",
    "\n",
    "                    # penalty\n",
    "                    l1_penalty = np.sqrt(budgetCells*(cumWs[lims2[typ+1]]- cumWs[lims2[typ]]))\n",
    "\n",
    "                      \n",
    "                    all_varsExpl.append(varExp)\n",
    "                    all_l1s.append(l1_penalty)\n",
    "\n",
    "\n",
    "                all_varsExpl = np.array(all_varsExpl)\n",
    "                total_varsExpl = sum([all_varsExpl[ityp,lambda_grid[ityp]] for ityp in range(NTYPES)])\n",
    "                \n",
    "                all_l1s = np.array(all_l1s)\n",
    "                total_l1s = sum([all_l1s[ityp,lambda_grid[ityp]] for ityp in range(NTYPES)])\n",
    "                \n",
    "                # objective for each lambda\n",
    "                objective = total_varsExpl - 1e60 * np.maximum(total_l1s - NSPIKES, 0)   \n",
    "\n",
    "                best_lambdas_ind = np.argmax(objective)\n",
    "                \n",
    "                best_lambdas = lambda_grid[:,best_lambdas_ind]\n",
    "                \n",
    "\n",
    "                #if 0 in best_lambdas:\n",
    "                #    print('warning lambda LOWER bound reached',lims)\n",
    "                #if NLAMBDAS-1 in best_lambdas:\n",
    "                #    print('warning lambda UPPER bound reached')\n",
    "\n",
    "                best_objective = objective[best_lambdas_ind]\n",
    "\n",
    "                best_varExp = total_varsExpl[best_lambdas_ind]\n",
    "\n",
    "                EXPL[i] = best_varExp\n",
    "                LAMB[i,:] = best_lambdas        \n",
    "                OBJ[i] = best_objective\n",
    "                \n",
    "                #print(best_objective)\n",
    "                #print(best_varExp)\n",
    "                \n",
    "                #STRIDES[i,:] = best_strides\n",
    "\n",
    "                #print(lims,best_lambdas,best_objective)\n",
    "\n",
    "                #print(sumObjs.shape,lambda_grid.shape)\n",
    "                \n",
    "        \n",
    "        iter_max = np.argmax(OBJ)\n",
    "        \n",
    "        rec = (np.sum(S) - EXPL[iter_max])/np.sum(S)*100\n",
    "        st = stride_grid[:,iter_max]\n",
    "\n",
    "        recs.append(rec)\n",
    "        strides.append(st)\n",
    "        #print(np.argmax(EXPL))\n",
    "        print('RECONSTRUCTION ERROR: ',rec,'%')\n",
    "        print('BEST NCELLS:', stride_grid[:,iter_max])\n",
    "        print('BEST LAMBDAS:', LAMB[iter_max])\n",
    "        print('OBJ:', OBJ[iter_max])\n",
    "        print('')\n",
    "        \n",
    "    RECS.append(recs)\n",
    "    STRS.append(strides)"
   ]
  },
  {
   "cell_type": "code",
   "execution_count": 283,
   "metadata": {
    "collapsed": false
   },
   "outputs": [
    {
     "data": {
      "text/plain": [
       "<matplotlib.legend.Legend at 0x11fee7cf8>"
      ]
     },
     "execution_count": 283,
     "metadata": {},
     "output_type": "execute_result"
    },
    {
     "data": {
      "image/png": "[encoded data removed]",
      "text/plain": [
       "<matplotlib.figure.Figure at 0x11fee75c0>"
      ]
     },
     "metadata": {},
     "output_type": "display_data"
    }
   ],
   "source": [
    "# Reconstruction error wrt spike budgets for different number of types\n",
    "\n",
    "\n",
    "plt.plot(np.log(np.array(RECS).T)/np.log(10),'-o')\n",
    "plt.xlabel('Total firing rate budget (a.u.)',fontsize = 16)\n",
    "plt.ylabel('Log(Rec Error)',fontsize = 16)\n",
    "#plt.yticks([-1,-2,-3])\n",
    "plt.legend(['1 type','2 types','3 types'])\n",
    "\n",
    "#plt.savefig('performance.eps')"
   ]
  },
  {
   "cell_type": "code",
   "execution_count": 284,
   "metadata": {
    "collapsed": false
   },
   "outputs": [
    {
     "data": {
      "text/plain": [
       "<matplotlib.text.Text at 0x11fefbb70>"
      ]
     },
     "execution_count": 284,
     "metadata": {},
     "output_type": "execute_result"
    },
    {
     "data": {
      "image/png": "[encoded data removed]",
      "text/plain": [
       "<matplotlib.figure.Figure at 0x11ffeb4a8>"
      ]
     },
     "metadata": {},
     "output_type": "display_data"
    }
   ],
   "source": [
    "# Ratio of reconstruction error between one type and two types\n",
    "\n",
    "r = np.array(RECS)\n",
    "plt.plot(100*r[1]/r[0],'-o')\n",
    "plt.xlabel('Total firing rate budget (a.u.)',fontsize = 16)\n",
    "plt.ylabel('Reconstruction error discount (%)',fontsize = 16)\n",
    "#plt.legend(['1 type','2 types','3 types'])"
   ]
  },
  {
   "cell_type": "code",
   "execution_count": 285,
   "metadata": {
    "collapsed": false
   },
   "outputs": [
    {
     "data": {
      "text/plain": [
       "<matplotlib.text.Text at 0x11fff64a8>"
      ]
     },
     "execution_count": 285,
     "metadata": {},
     "output_type": "execute_result"
    },
    {
     "data": {
      "image/png": "[encoded data removed]",
      "text/plain": [
       "<matplotlib.figure.Figure at 0x12002c3c8>"
      ]
     },
     "metadata": {},
     "output_type": "display_data"
    }
   ],
   "source": [
    "# plot evolution of density with budget\n",
    "\n",
    "plt.plot(np.log(X[np.array(STRS[1])]),'-o')\n",
    "#plt.plot(1/np.array(STRS[2]),'-o')\n",
    "plt.ylabel('Cell density (a.u)',fontsize = 16)\n",
    "plt.xlabel('Total firing rate budget (a.u.)',fontsize = 16)\n"
   ]
  },
  {
   "cell_type": "code",
   "execution_count": 286,
   "metadata": {
    "collapsed": false
   },
   "outputs": [
    {
     "data": {
      "text/plain": [
       "<matplotlib.text.Text at 0x1201f3b38>"
      ]
     },
     "execution_count": 286,
     "metadata": {},
     "output_type": "execute_result"
    },
    {
     "data": {
      "image/png": "[encoded data removed]",
      "text/plain": [
       "<matplotlib.figure.Figure at 0x11ff19278>"
      ]
     },
     "metadata": {},
     "output_type": "display_data"
    }
   ],
   "source": [
    "plt.plot(X[np.array(STRS[1])][:,1]/(X[np.array(STRS[1])][:,0]+X[np.array(STRS[1])][:,1]),'-o')\n",
    "plt.ylabel('Ratio midget/parasol',fontsize = 16)\n",
    "plt.xlabel('Total firing rate budget (a.u.)',fontsize = 16)"
   ]
  },
  {
   "cell_type": "code",
   "execution_count": 287,
   "metadata": {
    "collapsed": false
   },
   "outputs": [
    {
     "data": {
      "text/plain": [
       "[<matplotlib.lines.Line2D at 0x120b9fa90>,\n",
       " <matplotlib.lines.Line2D at 0x120b9fbe0>]"
      ]
     },
     "execution_count": 287,
     "metadata": {},
     "output_type": "execute_result"
    },
    {
     "data": {
      "image/png": "[encoded data removed]",
      "text/plain": [
       "<matplotlib.figure.Figure at 0x120ad2240>"
      ]
     },
     "metadata": {},
     "output_type": "display_data"
    }
   ],
   "source": [
    "plt.plot(-(np.array(RECS).T/100*np.sum(S)-np.sum(S)),'-o')"
   ]
  },
  {
   "cell_type": "code",
   "execution_count": null,
   "metadata": {
    "collapsed": true
   },
   "outputs": [],
   "source": []
  }
 ],
 "metadata": {
  "kernelspec": {
   "display_name": "Python 3",
   "language": "python",
   "name": "python3"
  },
  "language_info": {
   "codemirror_mode": {
    "name": "ipython",
    "version": 3
   },
   "file_extension": ".py",
   "mimetype": "text/x-python",
   "name": "python",
   "nbconvert_exporter": "python",
   "pygments_lexer": "ipython3",
   "version": "3.6.0"
  }
 },
 "nbformat": 4,
 "nbformat_minor": 2
}
