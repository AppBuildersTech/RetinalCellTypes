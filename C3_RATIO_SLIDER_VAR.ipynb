{
 "cells": [
  {
   "cell_type": "code",
   "execution_count": 1,
   "metadata": {
    "button": false,
    "collapsed": true,
    "deletable": true,
    "new_sheet": false,
    "run_control": {
     "read_only": false
    }
   },
   "outputs": [],
   "source": [
    "# Final version of the water-filling in 1dspace-time.\n",
    "# slide ratio and get the best reconstruction error for each ratio between two type"
   ]
  },
  {
   "cell_type": "code",
   "execution_count": 2,
   "metadata": {
    "button": false,
    "collapsed": true,
    "deletable": true,
    "new_sheet": false,
    "run_control": {
     "read_only": false
    }
   },
   "outputs": [],
   "source": [
    "import numpy as np\n",
    "import matplotlib.pyplot as plt\n",
    "\n",
    "%matplotlib inline"
   ]
  },
  {
   "cell_type": "code",
   "execution_count": 3,
   "metadata": {
    "button": false,
    "collapsed": true,
    "deletable": true,
    "new_sheet": false,
    "run_control": {
     "read_only": false
    }
   },
   "outputs": [],
   "source": [
    "# parameters\n",
    "\n",
    "\n",
    "NFREQ = 300 # discretization\n",
    "f1 = 1e-6 # lowest freq\n",
    "f2 = 1e0 # highest freq\n",
    "\n",
    "\n",
    "## equilibrated trapezoid\n",
    "N = 1 # noise level\n",
    "\n"
   ]
  },
  {
   "cell_type": "code",
   "execution_count": 4,
   "metadata": {
    "button": false,
    "collapsed": false,
    "deletable": true,
    "new_sheet": false,
    "run_control": {
     "read_only": false
    }
   },
   "outputs": [
    {
     "name": "stdout",
     "output_type": "stream",
     "text": [
      "(299, 299)\n",
      "999998000000.9995\n"
     ]
    }
   ],
   "source": [
    "# Generate spectrum\n",
    "\n",
    "X = np.exp(np.linspace(np.log(f1),np.log(f2),NFREQ))\n",
    "T = np.exp(np.linspace(np.log(f1),np.log(f2),NFREQ))\n",
    "\n",
    "GX,GT = np.meshgrid(X[:-1],T[:-1])\n",
    "\n",
    "# Power density\n",
    "Sdensity = 1/(GX**2*GT**2)\n",
    "S = np.diff(-1/X)[:,np.newaxis]*np.diff(-1/T)[:,np.newaxis].T\n",
    "\n",
    "print(S.shape)\n",
    "\n",
    "# Total Power\n",
    "total_S = np.sum(S)\n",
    "\n",
    "print(total_S)"
   ]
  },
  {
   "cell_type": "code",
   "execution_count": 5,
   "metadata": {
    "button": false,
    "collapsed": false,
    "deletable": true,
    "new_sheet": false,
    "run_control": {
     "read_only": false
    }
   },
   "outputs": [
    {
     "data": {
      "text/plain": [
       "(299, 299, 200)"
      ]
     },
     "execution_count": 5,
     "metadata": {},
     "output_type": "execute_result"
    }
   ],
   "source": [
    "## Compute water filling for a range of lambdas\n",
    "\n",
    "# range of lambdas\n",
    "NLAMBDAS = 200\n",
    "#lambdas = np.logspace(12,25,NLAMBDAS)\n",
    "lambdas = np.logspace(6,25,NLAMBDAS)\n",
    "\n",
    "# library of water-filling solutions for different lamdas\n",
    "Ws = list()\n",
    "for lambd in lambdas:\n",
    "    F = np.sqrt(N/(lambd*Sdensity)) - N/Sdensity #Filter Magnitue Square per mode\n",
    "    W = S*F #Total water per block\n",
    "    W[W<0] = 0 \n",
    "    \n",
    "    #plt.figure()\n",
    "    #plt.imshow(np.sqrt(W), cmap = 'seismic', vmin = -np.max(np.sqrt(W)), vmax =  np.max(np.sqrt(W)),origin='lower')\n",
    "    #plt.colorbar()\n",
    "    \n",
    "    Ws.append(W.T)\n",
    "\n",
    "Ws = np.array(Ws).T\n",
    "Ws.shape\n"
   ]
  },
  {
   "cell_type": "code",
   "execution_count": 6,
   "metadata": {
    "button": false,
    "collapsed": false,
    "deletable": true,
    "new_sheet": false,
    "run_control": {
     "read_only": false
    }
   },
   "outputs": [
    {
     "name": "stdout",
     "output_type": "stream",
     "text": [
      "(299, 200) (300, 200) (299, 200) (300, 200)\n"
     ]
    }
   ],
   "source": [
    "# Sum across temporal frequencies (we don't need those)\n",
    "\n",
    "# volume of each voxel\n",
    "Nf = np.diff(X)[:,np.newaxis]*np.diff(T)[:,np.newaxis].T\n",
    "\n",
    "# Precompute variance per mode explained for all lambdas\n",
    "colVarExpl = np.sum(S[:,:,np.newaxis]*Ws/(Ws+N*Nf[:,:,np.newaxis]),axis =0)\n",
    "# cumulative variance explained (it's going to fasten up things in the grid search)\n",
    "cumVarExpl = np.vstack((np.zeros(NLAMBDAS),np.cumsum(colVarExpl,axis = 0)))\n",
    "\n",
    "# Water filling array for all modes and lamdas\n",
    "colWs = np.sum(Ws,axis = 0)\n",
    "# Cumulative Water filling array (it's going to fasten up things in the grid search)\n",
    "cumWs = np.vstack((np.zeros(NLAMBDAS),np.cumsum(colWs,axis = 0)))\n",
    "\n",
    "print(colVarExpl.shape, cumVarExpl.shape,colWs.shape, cumWs.shape)"
   ]
  },
  {
   "cell_type": "code",
   "execution_count": 7,
   "metadata": {
    "button": false,
    "collapsed": false,
    "deletable": true,
    "new_sheet": false,
    "run_control": {
     "read_only": false
    }
   },
   "outputs": [
    {
     "name": "stdout",
     "output_type": "stream",
     "text": [
      "(2, 90000) (2, 40000)\n",
      "RECONSTRUCTION ERROR:  0.5143181721732693 %\n",
      "BEST NCELLS: [ 76 134]\n",
      "BEST LAMBDAS: [ 96. 107.]\n",
      "OBJ: 994854828565.6251\n",
      "\n"
     ]
    }
   ],
   "source": [
    "## Iterate over all possible decompositions between N cell types to find the best one\n",
    "\n",
    "\n",
    "\n",
    "# Number of types\n",
    "NTYPES = 2\n",
    "\n",
    "## Create grid for grid search\n",
    "\n",
    "# Create grid for grid search over strides for different types\n",
    "STEP = 1 # step of the grid search\n",
    "strides = np.arange(0,NFREQ,STEP)\n",
    "NSTRIDES = len(strides)\n",
    "g = [strides for i in range(NTYPES)]\n",
    "g = np.meshgrid(*g)\n",
    "stride_grid = np.array([gi.ravel() for gi in g])\n",
    "\n",
    "# Create grid for grid serach over lambdas to find best objective\n",
    "g = [np.arange(0,NLAMBDAS) for i in range(NTYPES)]\n",
    "g = np.meshgrid(*g)\n",
    "lambda_grid = np.array([gi.flatten() for gi in g])\n",
    "\n",
    "print(stride_grid.shape,lambda_grid.shape)\n",
    "\n",
    "recs = list()\n",
    "strides = list()\n",
    "\n",
    "# Total firing rate threshold ('number of spikes')\n",
    "NSPIKES = 1e-5\n",
    "\n",
    "\n",
    "GRID = np.zeros(NTYPES)\n",
    "NITER =  stride_grid.shape[1]\n",
    "\n",
    "EXPL = np.nan* np.zeros(NITER)\n",
    "OBJ = np.zeros(NITER)\n",
    "L1s = np.zeros(NITER)\n",
    "LAMB = np.zeros((NITER,NTYPES))\n",
    "\n",
    "# start grid search over strides of each type\n",
    "for i in range(NITER):\n",
    "    lims = stride_grid[:,i] # end limit of the modes covered by each type\n",
    "\n",
    "    if np.all(np.diff(lims)>0) and lims[0]>0: # if all limits are in an \n",
    "        #increasing order (avoid switching types) \n",
    "\n",
    "\n",
    "        lims2 = [0,*lims]\n",
    "\n",
    "        #print(lims)\n",
    "\n",
    "        all_varsExpl = list()\n",
    "        all_l1s = list()\n",
    "        for typ in range(NTYPES):\n",
    "\n",
    "            # Variance explained for each lambda\n",
    "            varExp = cumVarExpl[lims2[typ+1]] - cumVarExpl[lims2[typ]]\n",
    "\n",
    "            # Budget of cells for each type\n",
    "            budgetCells = X[lims2[typ+1]] - X[lims2[typ]]\n",
    "\n",
    "            # penalty\n",
    "            l1_penalty = np.sqrt(budgetCells*(cumWs[lims2[typ+1]]- cumWs[lims2[typ]]))\n",
    "\n",
    "\n",
    "            all_varsExpl.append(varExp)\n",
    "            all_l1s.append(l1_penalty)\n",
    "\n",
    "\n",
    "        all_varsExpl = np.array(all_varsExpl)\n",
    "        total_varsExpl = sum([all_varsExpl[ityp,lambda_grid[ityp]] for ityp in range(NTYPES)])\n",
    "\n",
    "        all_l1s = np.array(all_l1s)\n",
    "        total_l1s = sum([all_l1s[ityp,lambda_grid[ityp]] for ityp in range(NTYPES)])\n",
    "\n",
    "        # objective for each lambda\n",
    "        objective = total_varsExpl - 1e60 * np.maximum(total_l1s - NSPIKES, 0)   \n",
    "\n",
    "        best_lambdas_ind = np.argmax(objective)\n",
    "\n",
    "        best_lambdas = lambda_grid[:,best_lambdas_ind]\n",
    "\n",
    "\n",
    "        #if 0 in best_lambdas:\n",
    "        #    print('warning lambda LOWER bound reached',lims)\n",
    "        #if NLAMBDAS-1 in best_lambdas:\n",
    "        #    print('warning lambda UPPER bound reached')\n",
    "\n",
    "        best_objective = objective[best_lambdas_ind]\n",
    "\n",
    "        best_varExp = total_varsExpl[best_lambdas_ind]\n",
    "        \n",
    "        best_L1 = total_l1s[best_lambdas_ind]\n",
    "\n",
    "        EXPL[i] = best_varExp\n",
    "        LAMB[i,:] = best_lambdas        \n",
    "        OBJ[i] = best_objective\n",
    "        L1s[i] = best_L1 \n",
    "\n",
    "        #print(best_objective)\n",
    "        #print(best_varExp)\n",
    "\n",
    "        #STRIDES[i,:] = best_strides\n",
    "\n",
    "        #print(lims,best_lambdas,best_objective)\n",
    "\n",
    "        #print(sumObjs.shape,lambda_grid.shape)\n",
    "\n",
    "\n",
    "iter_max = np.argmax(OBJ)\n",
    "\n",
    "rec = (np.sum(S) - EXPL[iter_max])/np.sum(S)*100\n",
    "st = stride_grid[:,iter_max]\n",
    "\n",
    "recs.append(rec)\n",
    "strides.append(st)\n",
    "#print(np.argmax(EXPL))\n",
    "print('RECONSTRUCTION ERROR: ',rec,'%')\n",
    "print('BEST NCELLS:', stride_grid[:,iter_max])\n",
    "print('BEST LAMBDAS:', LAMB[iter_max])\n",
    "print('OBJ:', OBJ[iter_max])\n",
    "print('')\n",
    "\n",
    "RECS = (np.sum(S) - EXPL)/np.sum(S)*100"
   ]
  },
  {
   "cell_type": "code",
   "execution_count": 8,
   "metadata": {
    "button": false,
    "collapsed": false,
    "deletable": true,
    "new_sheet": false,
    "run_control": {
     "read_only": false
    }
   },
   "outputs": [
    {
     "name": "stderr",
     "output_type": "stream",
     "text": [
      "/anaconda/lib/python3.6/site-packages/ipykernel/__main__.py:4: RuntimeWarning: divide by zero encountered in true_divide\n",
      "/anaconda/lib/python3.6/site-packages/ipykernel/__main__.py:4: RuntimeWarning: invalid value encountered in true_divide\n"
     ]
    }
   ],
   "source": [
    "stride_grid.shape\n",
    "density_midget = X[stride_grid[1]]- X[stride_grid[0]]\n",
    "density_parasol = X[stride_grid[0]]- X[0]\n",
    "ratios = density_midget/(density_midget+density_parasol)"
   ]
  },
  {
   "cell_type": "code",
   "execution_count": 9,
   "metadata": {
    "button": false,
    "collapsed": false,
    "deletable": true,
    "new_sheet": false,
    "run_control": {
     "read_only": false
    }
   },
   "outputs": [
    {
     "name": "stderr",
     "output_type": "stream",
     "text": [
      "/anaconda/lib/python3.6/site-packages/ipykernel/__main__.py:1: RuntimeWarning: invalid value encountered in less_equal\n",
      "  if __name__ == '__main__':\n"
     ]
    }
   ],
   "source": [
    "ratios[ratios<=1e-19]=np.nan"
   ]
  },
  {
   "cell_type": "code",
   "execution_count": 10,
   "metadata": {
    "button": false,
    "collapsed": false,
    "deletable": true,
    "new_sheet": false,
    "run_control": {
     "read_only": false
    }
   },
   "outputs": [
    {
     "name": "stderr",
     "output_type": "stream",
     "text": [
      "/anaconda/lib/python3.6/site-packages/ipykernel/__main__.py:10: RuntimeWarning: invalid value encountered in greater_equal\n",
      "/anaconda/lib/python3.6/site-packages/ipykernel/__main__.py:10: RuntimeWarning: invalid value encountered in less_equal\n"
     ]
    },
    {
     "data": {
      "text/plain": [
       "<matplotlib.text.Text at 0x10eb31630>"
      ]
     },
     "execution_count": 10,
     "metadata": {},
     "output_type": "execute_result"
    },
    {
     "data": {
      "image/png": "[encoded data removed]",
      "text/plain": [
       "<matplotlib.figure.Figure at 0x1135639b0>"
      ]
     },
     "metadata": {},
     "output_type": "display_data"
    }
   ],
   "source": [
    "# For reguraly spaced ratios, compute the optimal reconstruction error\n",
    "\n",
    "#bins = np.logspace(np.log(np.nanmin(ratios))/np.log(10),np.log(np.nanmax(ratios))/np.log(10),500)\n",
    "bins = np.linspace(np.nanmin(ratios),np.nanmax(ratios),3000)\n",
    "\n",
    "kept_ratios = list()\n",
    "kept_recs = list()\n",
    "\n",
    "for i in range(len(bins)-1):\n",
    "    keep = (ratios>=bins[i]) & (ratios<=bins[i+1])\n",
    "    if np.sum(keep)>0 and not np.isnan(np.nanmin(RECS[keep])):\n",
    "        kept_recs.append(np.nanmin(RECS[keep]))\n",
    "        kept_ratios.append(bins[i])\n",
    "        #print(np.sum(keep), np.log(np.nanmin(RECS[keep])))\n",
    "\n",
    "        \n",
    "kept_ratios = np.array(kept_ratios)\n",
    "kept_recs = np.array(kept_recs)\n",
    "#boolean = np.array([False,*(np.diff(kept_recs)<0)])\n",
    "#kept_recs[boolean] = np.nan\n",
    "\n",
    "fig, ax = plt.subplots(1,1,figsize = (6,4))        \n",
    "ax.plot(kept_ratios,kept_recs,'-o')\n",
    "#ax.plot([kept_ratios[ind_min],kept_ratios[ind_min]], [0.5,0.8],'--r')\n",
    "ax.set_xlabel('Ratio of midget to parasol cells', fontsize = 18)\n",
    "ax.set_ylabel('Reconstruction error (%)', fontsize = 18)\n",
    "#ax.set_ylim([0.5,0.8])\n",
    "#ax.set_xlim([0.54,1])\n",
    "\n",
    "#plt.savefig('ratio_rec.eps',bbox_inches = 'tight', pad_inches = .1)\n"
   ]
  },
  {
   "cell_type": "code",
   "execution_count": 11,
   "metadata": {
    "button": false,
    "collapsed": false,
    "deletable": true,
    "new_sheet": false,
    "run_control": {
     "read_only": false
    }
   },
   "outputs": [
    {
     "data": {
      "text/plain": [
       "<matplotlib.figure.Figure at 0x11d00cb38>"
      ]
     },
     "metadata": {},
     "output_type": "display_data"
    }
   ],
   "source": [
    "# Compute enveloppe\n",
    "\n",
    "plt.clf()\n",
    "def CalculateEdges(x, y):\n",
    "    edge_list = [];\n",
    "    for i in range(len(x)):\n",
    "        (cur_x, cur_y) = (x[i], y[i])\n",
    "        beaten_in_x = x>cur_x;\n",
    "        beaten_in_minus_x = x<cur_x;\n",
    "\n",
    "        beaten_in_y = y>cur_y;\n",
    "\n",
    "        if(np.sum(beaten_in_x * beaten_in_y)==0):\n",
    "            edge_list.append((cur_x, cur_y));\n",
    "            #print('here!')\n",
    "\n",
    "        if(np.sum(beaten_in_minus_x * beaten_in_y)==0):\n",
    "            edge_list.append((cur_x, cur_y));\n",
    "         #   print('here!')\n",
    "\n",
    "\n",
    "    edge_list = list(set(edge_list)); #Make all entries unique     \n",
    "    edge_list.sort();\n",
    "\n",
    "    return (np.array(edge_list)[:, 0], np.array(edge_list)[:, 1])\n",
    "\n",
    "#print(edge_list)\n",
    "\n",
    "\n",
    "x_input = kept_ratios\n",
    "y_input = -kept_recs\n",
    "\n",
    "\n",
    "(x_edges, y_edges) = CalculateEdges(x_input,y_input);\n",
    "\n",
    "env_ratios = x_edges\n",
    "env_recs = -y_edges\n",
    "\n",
    "#plt.scatter(x_input,y_input)\n",
    "#plt.plot(x_edges, -y_edges, '-o')"
   ]
  },
  {
   "cell_type": "code",
   "execution_count": 12,
   "metadata": {
    "button": false,
    "collapsed": false,
    "deletable": true,
    "new_sheet": false,
    "run_control": {
     "read_only": false
    }
   },
   "outputs": [
    {
     "data": {
      "image/png": "[encoded data removed]",
      "text/plain": [
       "<matplotlib.figure.Figure at 0x11d00c160>"
      ]
     },
     "metadata": {},
     "output_type": "display_data"
    }
   ],
   "source": [
    "\n",
    "ind_min = np.argmin(env_recs)   \n",
    "\n",
    "fig, ax = plt.subplots(1,1,figsize = (6,4))        \n",
    "ax.plot(env_ratios,env_recs,'-k',linewidth = 3)\n",
    "ax.plot([env_ratios[ind_min],env_ratios[ind_min]], [0.5,0.8],'--r')\n",
    "ax.set_xlabel('Fraction midget cells', fontsize = 18)\n",
    "ax.set_ylabel('Reconstruction error (%)', fontsize = 18)\n",
    "ax.set_xlim([0.5,1.01])\n",
    "ax.set_ylim([0.5,0.8])\n",
    "\n",
    "plt.savefig('ratio_rec.eps',bbox_inches = 'tight', pad_inches = .1)"
   ]
  },
  {
   "cell_type": "code",
   "execution_count": 13,
   "metadata": {
    "button": false,
    "collapsed": false,
    "deletable": true,
    "new_sheet": false,
    "run_control": {
     "read_only": false
    }
   },
   "outputs": [
    {
     "name": "stdout",
     "output_type": "stream",
     "text": [
      "0.9331385302847698\n"
     ]
    }
   ],
   "source": [
    "print(env_ratios[ind_min]) "
   ]
  },
  {
   "cell_type": "code",
   "execution_count": null,
   "metadata": {
    "button": false,
    "collapsed": true,
    "deletable": true,
    "new_sheet": false,
    "run_control": {
     "read_only": false
    }
   },
   "outputs": [],
   "source": []
  }
 ],
 "metadata": {
  "kernelspec": {
   "display_name": "Python 3",
   "language": "python",
   "name": "python3"
  },
  "language_info": {
   "codemirror_mode": {
    "name": "ipython",
    "version": 3
   },
   "file_extension": ".py",
   "mimetype": "text/x-python",
   "name": "python",
   "nbconvert_exporter": "python",
   "pygments_lexer": "ipython3",
   "version": "3.6.0"
  }
 },
 "nbformat": 4,
 "nbformat_minor": 2
}
