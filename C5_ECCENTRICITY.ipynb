{
 "cells": [
  {
   "cell_type": "code",
   "execution_count": 1,
   "metadata": {
    "button": false,
    "collapsed": true,
    "deletable": true,
    "new_sheet": false,
    "run_control": {
     "read_only": false
    }
   },
   "outputs": [],
   "source": [
    "# Final version of the water-filling in 1dspace-time."
   ]
  },
  {
   "cell_type": "code",
   "execution_count": 2,
   "metadata": {
    "button": false,
    "collapsed": true,
    "deletable": true,
    "new_sheet": false,
    "run_control": {
     "read_only": false
    }
   },
   "outputs": [],
   "source": [
    "import numpy as np\n",
    "import matplotlib.pyplot as plt\n",
    "\n",
    "%matplotlib inline"
   ]
  },
  {
   "cell_type": "code",
   "execution_count": 3,
   "metadata": {
    "collapsed": true
   },
   "outputs": [],
   "source": [
    "# parameters\n",
    "\n",
    "\n",
    "NFREQ = 300 # discretization\n",
    "f1 = 1e-5 # lowest freq\n",
    "f2 = 1e1 # highest freq\n",
    "\n",
    "\n",
    "## equilibrated trapezoid\n",
    "N = 1 # noise level\n",
    "\n"
   ]
  },
  {
   "cell_type": "code",
   "execution_count": 4,
   "metadata": {
    "button": false,
    "collapsed": false,
    "deletable": true,
    "new_sheet": false,
    "run_control": {
     "read_only": false
    }
   },
   "outputs": [
    {
     "name": "stdout",
     "output_type": "stream",
     "text": [
      "(299, 299)\n",
      "9999980000.010004\n"
     ]
    }
   ],
   "source": [
    "# Generate spectrum\n",
    "\n",
    "X = np.exp(np.linspace(np.log(f1),np.log(f2),NFREQ))\n",
    "T = np.exp(np.linspace(np.log(f1),np.log(f2),NFREQ))\n",
    "\n",
    "GX,GT = np.meshgrid(X[:-1],T[:-1])\n",
    "\n",
    "# Power density\n",
    "Sdensity = 1/(GX**2*GT**2)\n",
    "S = np.diff(-1/X)[:,np.newaxis]*np.diff(-1/T)[:,np.newaxis].T\n",
    "\n",
    "print(S.shape)\n",
    "\n",
    "# Total Power\n",
    "total_S = np.sum(S)\n",
    "\n",
    "print(total_S)"
   ]
  },
  {
   "cell_type": "code",
   "execution_count": 5,
   "metadata": {
    "button": false,
    "collapsed": false,
    "deletable": true,
    "new_sheet": false,
    "run_control": {
     "read_only": false
    }
   },
   "outputs": [
    {
     "data": {
      "text/plain": [
       "(299, 299, 200)"
      ]
     },
     "execution_count": 5,
     "metadata": {},
     "output_type": "execute_result"
    }
   ],
   "source": [
    "## Compute water filling for a range of lambdas\n",
    "\n",
    "# range of lambdas\n",
    "NLAMBDAS = 200\n",
    "lambdas = np.logspace(8,20,NLAMBDAS)\n",
    "\n",
    "# library of water-filling solutions for different lamdas\n",
    "Ws = list()\n",
    "for lambd in lambdas:\n",
    "    F = np.sqrt(N/(lambd*Sdensity)) - N/Sdensity #Filter Magnitue Square per mode\n",
    "    W = S*F #Total water per block\n",
    "    W[W<0] = 0 \n",
    "    \n",
    "    #plt.figure()\n",
    "    #plt.imshow(np.sqrt(W), cmap = 'seismic', vmin = -np.max(np.sqrt(W)), vmax =  np.max(np.sqrt(W)),origin='lower')\n",
    "    #plt.colorbar()\n",
    "    \n",
    "    Ws.append(W.T)\n",
    "\n",
    "Ws = np.array(Ws).T\n",
    "Ws.shape\n"
   ]
  },
  {
   "cell_type": "code",
   "execution_count": 6,
   "metadata": {
    "button": false,
    "collapsed": false,
    "deletable": true,
    "new_sheet": false,
    "run_control": {
     "read_only": false
    }
   },
   "outputs": [
    {
     "name": "stdout",
     "output_type": "stream",
     "text": [
      "(299, 200) (300, 200) (299, 200) (300, 200)\n"
     ]
    }
   ],
   "source": [
    "# Sum across temporal frequencies (we don't need those)\n",
    "\n",
    "# volume of each voxel\n",
    "Nf = np.diff(X)[:,np.newaxis]*np.diff(T)[:,np.newaxis].T\n",
    "\n",
    "# Precompute variance per mode explained for all lambdas\n",
    "colVarExpl = np.sum(S[:,:,np.newaxis]*Ws/(Ws+N*Nf[:,:,np.newaxis]),axis =0)\n",
    "# cumulative variance explained (it's going to fasten up things in the grid search)\n",
    "cumVarExpl = np.vstack((np.zeros(NLAMBDAS),np.cumsum(colVarExpl,axis = 0)))\n",
    "\n",
    "# Water filling array for all modes and lamdas\n",
    "colWs = np.sum(Ws,axis = 0)\n",
    "# Cumulative Water filling array (it's going to fasten up things in the grid search)\n",
    "cumWs = np.vstack((np.zeros(NLAMBDAS),np.cumsum(colWs,axis = 0)))\n",
    "\n",
    "print(colVarExpl.shape, cumVarExpl.shape,colWs.shape, cumWs.shape)"
   ]
  },
  {
   "cell_type": "code",
   "execution_count": 7,
   "metadata": {
    "collapsed": false
   },
   "outputs": [
    {
     "name": "stdout",
     "output_type": "stream",
     "text": [
      "(1, 300) (1, 200)\n",
      "RECONSTRUCTION ERROR:  30.66502233773426 %\n",
      "BEST NCELLS: [39]\n",
      "BEST LAMBDAS: [142.]\n",
      "OBJ: 6933483899.237978\n",
      "\n",
      "RECONSTRUCTION ERROR:  24.281175062114528 %\n",
      "BEST NCELLS: [43]\n",
      "BEST LAMBDAS: [135.]\n",
      "OBJ: 7571867350.031135\n",
      "\n",
      "RECONSTRUCTION ERROR:  18.761198848739383 %\n",
      "BEST NCELLS: [48]\n",
      "BEST LAMBDAS: [128.]\n",
      "OBJ: 8123863867.373959\n",
      "\n",
      "RECONSTRUCTION ERROR:  14.239982660781775 %\n",
      "BEST NCELLS: [56]\n",
      "BEST LAMBDAS: [123.]\n",
      "OBJ: 8575984581.926934\n",
      "\n",
      "RECONSTRUCTION ERROR:  10.68771691417325 %\n",
      "BEST NCELLS: [63]\n",
      "BEST LAMBDAS: [117.]\n",
      "OBJ: 8931210446.134993\n",
      "\n",
      "RECONSTRUCTION ERROR:  7.898381686624971 %\n",
      "BEST NCELLS: [69]\n",
      "BEST LAMBDAS: [110.]\n",
      "OBJ: 9210143411.023054\n",
      "\n",
      "RECONSTRUCTION ERROR:  5.7169550281455175 %\n",
      "BEST NCELLS: [79]\n",
      "BEST LAMBDAS: [105.]\n",
      "OBJ: 9428285640.585886\n",
      "\n",
      "RECONSTRUCTION ERROR:  4.115344423695461 %\n",
      "BEST NCELLS: [84]\n",
      "BEST LAMBDAS: [97.]\n",
      "OBJ: 9588446380.708931\n",
      "\n",
      "RECONSTRUCTION ERROR:  2.934200388390021 %\n",
      "BEST NCELLS: [91]\n",
      "BEST LAMBDAS: [90.]\n",
      "OBJ: 9706560548.010786\n",
      "\n",
      "RECONSTRUCTION ERROR:  2.0636286057358486 %\n",
      "BEST NCELLS: [100]\n",
      "BEST LAMBDAS: [84.]\n",
      "OBJ: 9793617552.161934\n",
      "\n",
      "RECONSTRUCTION ERROR:  1.4497401653746287 %\n",
      "BEST NCELLS: [109]\n",
      "BEST LAMBDAS: [78.]\n",
      "OBJ: 9855006273.42043\n",
      "\n",
      "RECONSTRUCTION ERROR:  1.0065935038948097 %\n",
      "BEST NCELLS: [115]\n",
      "BEST LAMBDAS: [70.]\n",
      "OBJ: 9899320850.939123\n",
      "\n",
      "RECONSTRUCTION ERROR:  0.6994713781507358 %\n",
      "BEST NCELLS: [126]\n",
      "BEST LAMBDAS: [65.]\n",
      "OBJ: 9930033002.089136\n",
      "\n",
      "RECONSTRUCTION ERROR:  0.4793512105629989 %\n",
      "BEST NCELLS: [134]\n",
      "BEST LAMBDAS: [58.]\n",
      "OBJ: 9952044974.823898\n",
      "\n",
      "RECONSTRUCTION ERROR:  0.32753027300154064 %\n",
      "BEST NCELLS: [142]\n",
      "BEST LAMBDAS: [51.]\n",
      "OBJ: 9967227038.215872\n",
      "\n",
      "RECONSTRUCTION ERROR:  0.22199199983416895 %\n",
      "BEST NCELLS: [147]\n",
      "BEST LAMBDAS: [42.]\n",
      "OBJ: 9977780844.424965\n",
      "\n",
      "RECONSTRUCTION ERROR:  0.14965043544455814 %\n",
      "BEST NCELLS: [157]\n",
      "BEST LAMBDAS: [36.]\n",
      "OBJ: 9985014986.39562\n",
      "\n",
      "RECONSTRUCTION ERROR:  0.10105200061187668 %\n",
      "BEST NCELLS: [167]\n",
      "BEST LAMBDAS: [30.]\n",
      "OBJ: 9989874820.159206\n",
      "\n",
      "RECONSTRUCTION ERROR:  0.06746749506080764 %\n",
      "BEST NCELLS: [174]\n",
      "BEST LAMBDAS: [22.]\n",
      "OBJ: 9993233263.997416\n",
      "\n",
      "RECONSTRUCTION ERROR:  0.04518954364608234 %\n",
      "BEST NCELLS: [181]\n",
      "BEST LAMBDAS: [14.]\n",
      "OBJ: 9995461054.6833\n",
      "\n",
      "(2, 90000) (2, 40000)\n",
      "RECONSTRUCTION ERROR:  29.31693533177686 %\n",
      "BEST NCELLS: [20 42]\n",
      "BEST LAMBDAS: [137. 147.]\n",
      "OBJ: 7068292330.216452\n",
      "\n",
      "RECONSTRUCTION ERROR:  22.82086078209845 %\n",
      "BEST NCELLS: [27 49]\n",
      "BEST LAMBDAS: [133. 141.]\n",
      "OBJ: 7717898485.970033\n",
      "\n",
      "RECONSTRUCTION ERROR:  17.388086313956585 %\n",
      "BEST NCELLS: [31 56]\n",
      "BEST LAMBDAS: [126. 136.]\n",
      "OBJ: 8261174846.229869\n",
      "\n",
      "RECONSTRUCTION ERROR:  12.970408167695144 %\n",
      "BEST NCELLS: [34 62]\n",
      "BEST LAMBDAS: [118. 130.]\n",
      "OBJ: 8702941777.320826\n",
      "\n",
      "RECONSTRUCTION ERROR:  9.488055930284288 %\n",
      "BEST NCELLS: [37 69]\n",
      "BEST LAMBDAS: [111. 123.]\n",
      "OBJ: 9051176304.591812\n",
      "\n",
      "RECONSTRUCTION ERROR:  6.830800411466102 %\n",
      "BEST NCELLS: [42 77]\n",
      "BEST LAMBDAS: [104. 117.]\n",
      "OBJ: 9316901325.022793\n",
      "\n",
      "RECONSTRUCTION ERROR:  4.852393084802868 %\n",
      "BEST NCELLS: [46 86]\n",
      "BEST LAMBDAS: [ 98. 110.]\n",
      "OBJ: 9514741662.007849\n",
      "\n",
      "RECONSTRUCTION ERROR:  3.3938310457459306 %\n",
      "BEST NCELLS: [50 93]\n",
      "BEST LAMBDAS: [ 90. 103.]\n",
      "OBJ: 9660597574.20128\n",
      "\n",
      "RECONSTRUCTION ERROR:  2.346741650079387 %\n",
      "BEST NCELLS: [ 54 102]\n",
      "BEST LAMBDAS: [82. 97.]\n",
      "OBJ: 9765306304.35016\n",
      "\n",
      "RECONSTRUCTION ERROR:  1.604786071721512 %\n",
      "BEST NCELLS: [ 61 110]\n",
      "BEST LAMBDAS: [75. 90.]\n",
      "OBJ: 9839501713.794907\n",
      "\n",
      "RECONSTRUCTION ERROR:  1.088019126617819 %\n",
      "BEST NCELLS: [ 67 119]\n",
      "BEST LAMBDAS: [67. 84.]\n",
      "OBJ: 9891178304.951939\n",
      "\n",
      "RECONSTRUCTION ERROR:  0.7318295874042656 %\n",
      "BEST NCELLS: [ 72 127]\n",
      "BEST LAMBDAS: [60. 76.]\n",
      "OBJ: 9926797187.635422\n",
      "\n",
      "RECONSTRUCTION ERROR:  0.48856566202156326 %\n",
      "BEST NCELLS: [ 78 137]\n",
      "BEST LAMBDAS: [51. 71.]\n",
      "OBJ: 9951123531.520931\n",
      "\n",
      "RECONSTRUCTION ERROR:  0.32381801283963546 %\n",
      "BEST NCELLS: [ 85 145]\n",
      "BEST LAMBDAS: [43. 64.]\n",
      "OBJ: 9967598263.48961\n",
      "\n",
      "RECONSTRUCTION ERROR:  0.21341412338744337 %\n",
      "BEST NCELLS: [ 89 153]\n",
      "BEST LAMBDAS: [35. 56.]\n",
      "OBJ: 9978638630.354063\n",
      "\n",
      "RECONSTRUCTION ERROR:  0.13981607628110632 %\n",
      "BEST NCELLS: [ 95 163]\n",
      "BEST LAMBDAS: [28. 49.]\n",
      "OBJ: 9985998420.345095\n",
      "\n",
      "RECONSTRUCTION ERROR:  0.09127598975539085 %\n",
      "BEST NCELLS: [101 172]\n",
      "BEST LAMBDAS: [20. 42.]\n",
      "OBJ: 9990852419.289654\n",
      "\n",
      "RECONSTRUCTION ERROR:  0.05931145402095051 %\n",
      "BEST NCELLS: [109 182]\n",
      "BEST LAMBDAS: [12. 36.]\n",
      "OBJ: 9994048866.470194\n",
      "\n",
      "RECONSTRUCTION ERROR:  0.038387458124327 %\n",
      "BEST NCELLS: [116 192]\n",
      "BEST LAMBDAS: [ 5. 29.]\n",
      "OBJ: 9996141261.87506\n",
      "\n",
      "RECONSTRUCTION ERROR:  0.024854941931424242 %\n",
      "BEST NCELLS: [125 202]\n",
      "BEST LAMBDAS: [ 0. 21.]\n",
      "OBJ: 9997494510.787848\n",
      "\n"
     ]
    }
   ],
   "source": [
    "## Iterate over all possible decompositions between N cell types to find the best one\n",
    "\n",
    "RECS = list()\n",
    "STRS = list()\n",
    "\n",
    "# Number of types\n",
    "for NTYPES in range(1,3):\n",
    "\n",
    "    ## Create grid for grid search\n",
    "\n",
    "    # Create grid for grid search over strides for different types\n",
    "    STEP = 1 # step of the grid search\n",
    "    strides = np.arange(0,NFREQ,STEP)\n",
    "    NSTRIDES = len(strides)\n",
    "    g = [strides for i in range(NTYPES)]\n",
    "    g = np.meshgrid(*g)\n",
    "    stride_grid = np.array([gi.ravel() for gi in g])\n",
    "\n",
    "    # Create grid for grid serach over lambdas to find best objective\n",
    "    g = [np.arange(0,NLAMBDAS) for i in range(NTYPES)]\n",
    "    g = np.meshgrid(*g)\n",
    "    lambda_grid = np.array([gi.flatten() for gi in g])\n",
    "\n",
    "    print(stride_grid.shape,lambda_grid.shape)\n",
    "\n",
    "    recs = list()\n",
    "    strides = list()\n",
    "\n",
    "    # Total firing rate threshold ('number of spikes')\n",
    "    for NSPIKES in np.logspace(-6,-2,20):\n",
    "        #print(NSPIKES)\n",
    "\n",
    "        GRID = np.zeros(NTYPES)\n",
    "        NITER =  stride_grid.shape[1]\n",
    "\n",
    "        EXPL = np.zeros(NITER)\n",
    "        OBJ = np.zeros(NITER)\n",
    "        LAMB = np.zeros((NITER,NTYPES))\n",
    "        \n",
    "        # start grid search over strides of each type\n",
    "        for i in range(NITER):\n",
    "            lims = stride_grid[:,i] # end limit of the modes covered by each type\n",
    "\n",
    "            if np.all(np.diff(lims)>0) and lims[0]>0: # if all limits are in an \n",
    "                #increasing order (avoid switching types) \n",
    "\n",
    "\n",
    "                lims2 = [0,*lims]\n",
    "                \n",
    "                #print(lims)\n",
    "\n",
    "                all_varsExpl = list()\n",
    "                all_l1s = list()\n",
    "                for typ in range(NTYPES):\n",
    "\n",
    "                    # Variance explained for each lambda\n",
    "                    varExp = cumVarExpl[lims2[typ+1]] - cumVarExpl[lims2[typ]]\n",
    "\n",
    "                    # Budget of cells for each type\n",
    "                    budgetCells = X[lims2[typ+1]] - X[lims2[typ]]\n",
    "\n",
    "                    # penalty\n",
    "                    l1_penalty = np.sqrt(budgetCells*(cumWs[lims2[typ+1]]- cumWs[lims2[typ]]))\n",
    "\n",
    "                      \n",
    "                    all_varsExpl.append(varExp)\n",
    "                    all_l1s.append(l1_penalty)\n",
    "\n",
    "\n",
    "                all_varsExpl = np.array(all_varsExpl)\n",
    "                total_varsExpl = sum([all_varsExpl[ityp,lambda_grid[ityp]] for ityp in range(NTYPES)])\n",
    "                \n",
    "                all_l1s = np.array(all_l1s)\n",
    "                total_l1s = sum([all_l1s[ityp,lambda_grid[ityp]] for ityp in range(NTYPES)])\n",
    "                \n",
    "                # objective for each lambda\n",
    "                objective = total_varsExpl - 1e60 * np.maximum(total_l1s - NSPIKES, 0)   \n",
    "\n",
    "                best_lambdas_ind = np.argmax(objective)\n",
    "                \n",
    "                best_lambdas = lambda_grid[:,best_lambdas_ind]\n",
    "                \n",
    "\n",
    "                #if 0 in best_lambdas:\n",
    "                #    print('warning lambda LOWER bound reached',lims)\n",
    "                #if NLAMBDAS-1 in best_lambdas:\n",
    "                #    print('warning lambda UPPER bound reached')\n",
    "\n",
    "                best_objective = objective[best_lambdas_ind]\n",
    "\n",
    "                best_varExp = total_varsExpl[best_lambdas_ind]\n",
    "\n",
    "                EXPL[i] = best_varExp\n",
    "                LAMB[i,:] = best_lambdas        \n",
    "                OBJ[i] = best_objective\n",
    "                \n",
    "                #print(best_objective)\n",
    "                #print(best_varExp)\n",
    "                \n",
    "                #STRIDES[i,:] = best_strides\n",
    "\n",
    "                #print(lims,best_lambdas,best_objective)\n",
    "\n",
    "                #print(sumObjs.shape,lambda_grid.shape)\n",
    "                \n",
    "        \n",
    "        iter_max = np.argmax(OBJ)\n",
    "        \n",
    "        rec = (np.sum(S) - EXPL[iter_max])/np.sum(S)*100\n",
    "        st = stride_grid[:,iter_max]\n",
    "\n",
    "        recs.append(rec)\n",
    "        strides.append(st)\n",
    "        #print(np.argmax(EXPL))\n",
    "        print('RECONSTRUCTION ERROR: ',rec,'%')\n",
    "        print('BEST NCELLS:', stride_grid[:,iter_max])\n",
    "        print('BEST LAMBDAS:', LAMB[iter_max])\n",
    "        print('OBJ:', OBJ[iter_max])\n",
    "        print('')\n",
    "        \n",
    "    RECS.append(recs)\n",
    "    STRS.append(strides)"
   ]
  },
  {
   "cell_type": "code",
   "execution_count": 8,
   "metadata": {
    "collapsed": false
   },
   "outputs": [
    {
     "data": {
      "text/plain": [
       "<matplotlib.legend.Legend at 0x10bb462e8>"
      ]
     },
     "execution_count": 8,
     "metadata": {},
     "output_type": "execute_result"
    },
    {
     "data": {
      "image/png": "[encoded data removed]",
      "text/plain": [
       "<matplotlib.figure.Figure at 0x117d680b8>"
      ]
     },
     "metadata": {},
     "output_type": "display_data"
    }
   ],
   "source": [
    "# Reconstruction error wrt spike budgets for different number of types\n",
    "\n",
    "\n",
    "plt.plot(np.log(np.array(RECS).T)/np.log(10),'-o')\n",
    "plt.xlabel('Total firing rate budget (a.u.)',fontsize = 16)\n",
    "plt.ylabel('Log(Rec Error)',fontsize = 16)\n",
    "#plt.yticks([-1,-2,-3])\n",
    "plt.legend(['1 type','2 types','3 types'])\n",
    "\n",
    "#plt.savefig('performance.eps')"
   ]
  },
  {
   "cell_type": "code",
   "execution_count": 9,
   "metadata": {
    "collapsed": false
   },
   "outputs": [
    {
     "data": {
      "text/plain": [
       "<matplotlib.text.Text at 0x10adb87f0>"
      ]
     },
     "execution_count": 9,
     "metadata": {},
     "output_type": "execute_result"
    },
    {
     "data": {
      "image/png": "[encoded data removed]",
      "text/plain": [
       "<matplotlib.figure.Figure at 0x10adb84e0>"
      ]
     },
     "metadata": {},
     "output_type": "display_data"
    }
   ],
   "source": [
    "# Ratio of reconstruction error between one type and two types\n",
    "\n",
    "r = np.array(RECS)\n",
    "plt.plot(100*r[1]/r[0],'-o')\n",
    "plt.xlabel('Total firing rate budget (a.u.)',fontsize = 16)\n",
    "plt.ylabel('Reconstruction error discount (%)',fontsize = 16)\n",
    "#plt.legend(['1 type','2 types','3 types'])"
   ]
  },
  {
   "cell_type": "code",
   "execution_count": 10,
   "metadata": {
    "collapsed": false
   },
   "outputs": [
    {
     "data": {
      "text/plain": [
       "<matplotlib.text.Text at 0x1190c1278>"
      ]
     },
     "execution_count": 10,
     "metadata": {},
     "output_type": "execute_result"
    },
    {
     "data": {
      "image/png": "[encoded data removed]",
      "text/plain": [
       "<matplotlib.figure.Figure at 0x11b4677b8>"
      ]
     },
     "metadata": {},
     "output_type": "display_data"
    }
   ],
   "source": [
    "# plot evolution of density with budget\n",
    "\n",
    "plt.plot(np.log(X[np.array(STRS[1])]),'-o')\n",
    "#plt.plot(1/np.array(STRS[2]),'-o')\n",
    "plt.ylabel('Cell density (a.u)',fontsize = 16)\n",
    "plt.xlabel('Total firing rate budget (a.u.)',fontsize = 16)\n"
   ]
  },
  {
   "cell_type": "code",
   "execution_count": 11,
   "metadata": {
    "collapsed": false
   },
   "outputs": [
    {
     "data": {
      "text/plain": [
       "<matplotlib.text.Text at 0x11b4edf60>"
      ]
     },
     "execution_count": 11,
     "metadata": {},
     "output_type": "execute_result"
    },
    {
     "data": {
      "image/png": "[encoded data removed]",
      "text/plain": [
       "<matplotlib.figure.Figure at 0x117cebeb8>"
      ]
     },
     "metadata": {},
     "output_type": "display_data"
    }
   ],
   "source": [
    "plt.plot(X[np.array(STRS[1])][:,1]/(X[np.array(STRS[1])][:,0]+X[np.array(STRS[1])][:,1]),'-o')\n",
    "plt.ylabel('Ratio midget/parasol',fontsize = 16)\n",
    "plt.xlabel('Total firing rate budget (a.u.)',fontsize = 16)"
   ]
  },
  {
   "cell_type": "code",
   "execution_count": 12,
   "metadata": {
    "collapsed": false
   },
   "outputs": [
    {
     "data": {
      "text/plain": [
       "[<matplotlib.lines.Line2D at 0x11b609ba8>]"
      ]
     },
     "execution_count": 12,
     "metadata": {},
     "output_type": "execute_result"
    },
    {
     "data": {
      "image/png": "[encoded data removed]",
      "text/plain": [
       "<matplotlib.figure.Figure at 0x11b4675c0>"
      ]
     },
     "metadata": {},
     "output_type": "display_data"
    }
   ],
   "source": [
    "# plot ratio of midget cells against total density of cells\n",
    "\n",
    "\n",
    "strides = np.array(STRS[1]) # two types\n",
    "density_midget = X[strides[:,1]]- X[strides[:,0]]\n",
    "density_parasol = X[strides[:,0]]- X[0]\n",
    "ratios = density_midget/(density_midget+density_parasol)\n",
    "total_density = density_midget+density_parasol\n",
    "\n",
    "plt.plot(total_density, ratios,'.')"
   ]
  },
  {
   "cell_type": "code",
   "execution_count": 13,
   "metadata": {
    "collapsed": false
   },
   "outputs": [
    {
     "data": {
      "text/plain": [
       "[<matplotlib.lines.Line2D at 0x11b54d400>]"
      ]
     },
     "execution_count": 13,
     "metadata": {},
     "output_type": "execute_result"
    },
    {
     "data": {
      "image/png": "[encoded data removed]",
      "text/plain": [
       "<matplotlib.figure.Figure at 0x11b58c2b0>"
      ]
     },
     "metadata": {},
     "output_type": "display_data"
    }
   ],
   "source": [
    "# Dacey 1992 dendritic field size\n",
    "\n",
    "#x = np.linspace(0.4,13,100)\n",
    "x = np.linspace(0.4,20,100)\n",
    "dendr_midget = 8.64*x**1.04\n",
    "dendr_parasol = 70.2*x**0.65\n",
    "\n",
    "plt.plot(np.log(dendr_midget)/np.log(10))\n",
    "plt.plot(np.log(dendr_parasol)/np.log(10))"
   ]
  },
  {
   "cell_type": "code",
   "execution_count": 14,
   "metadata": {
    "collapsed": false
   },
   "outputs": [],
   "source": [
    "# Density\n",
    "\n",
    "overlap_midget = 1\n",
    "density_midget_data = overlap_midget/dendr_midget**2\n",
    "\n",
    "overlap_parasol = 3\n",
    "density_parasol_data = overlap_parasol/dendr_parasol**2\n",
    "\n",
    "total_density_data = density_midget_data+density_parasol_data\n",
    "\n",
    "ratios_data = density_midget_data/(total_density_data)"
   ]
  },
  {
   "cell_type": "code",
   "execution_count": 19,
   "metadata": {
    "collapsed": false
   },
   "outputs": [
    {
     "data": {
      "image/png": "[encoded data removed]",
      "text/plain": [
       "<matplotlib.figure.Figure at 0x11b81bfd0>"
      ]
     },
     "metadata": {},
     "output_type": "display_data"
    }
   ],
   "source": [
    "plt.plot(np.log(total_density_data)/np.log(10), ratios_data,'-k', linewidth = 2)\n",
    "plt.plot(np.log(total_density*0.8)/np.log(10), ratios,'or')\n",
    "plt.xlabel('Total density of cells (log units)', fontsize = 18)\n",
    "plt.ylabel('Fraction midget cells', fontsize = 18)\n",
    "plt.legend(['Data (Dacey 1992)','Simulation'], fontsize = 18)\n",
    "plt.grid('on')\n",
    "\n",
    "plt.savefig('eccentricty.eps',bbox_inches = 'tight', pad_inches = .1)"
   ]
  },
  {
   "cell_type": "code",
   "execution_count": null,
   "metadata": {
    "collapsed": true
   },
   "outputs": [],
   "source": []
  },
  {
   "cell_type": "code",
   "execution_count": null,
   "metadata": {
    "collapsed": true
   },
   "outputs": [],
   "source": []
  },
  {
   "cell_type": "code",
   "execution_count": null,
   "metadata": {
    "collapsed": true
   },
   "outputs": [],
   "source": []
  },
  {
   "cell_type": "code",
   "execution_count": null,
   "metadata": {
    "collapsed": true
   },
   "outputs": [],
   "source": []
  },
  {
   "cell_type": "code",
   "execution_count": null,
   "metadata": {
    "collapsed": true
   },
   "outputs": [],
   "source": []
  },
  {
   "cell_type": "code",
   "execution_count": null,
   "metadata": {
    "collapsed": true
   },
   "outputs": [],
   "source": []
  },
  {
   "cell_type": "code",
   "execution_count": 16,
   "metadata": {
    "collapsed": false
   },
   "outputs": [
    {
     "data": {
      "text/plain": [
       "[<matplotlib.lines.Line2D at 0x11b7fbc88>]"
      ]
     },
     "execution_count": 16,
     "metadata": {},
     "output_type": "execute_result"
    },
    {
     "data": {
      "image/png": "[encoded data removed]",
      "text/plain": [
       "<matplotlib.figure.Figure at 0x11b7bac88>"
      ]
     },
     "metadata": {},
     "output_type": "display_data"
    }
   ],
   "source": [
    "m1 = 1.3*10**6\n",
    "p1 = 1.6*10**5\n",
    "\n",
    "m2 = 1.5*10**5\n",
    "p2 = 9*10**4\n",
    "\n",
    "m3 = 8*10**4\n",
    "p3 = 1.8*10**4\n",
    "\n",
    "plt.plot(m1+p1,m1/(m1+p1),'.')\n",
    "plt.plot(m2+p2,m2/(m2+p2),'.')\n",
    "plt.plot(m3+p3,m3/(m3+p3),'.')"
   ]
  },
  {
   "cell_type": "code",
   "execution_count": 17,
   "metadata": {
    "collapsed": false
   },
   "outputs": [
    {
     "data": {
      "text/plain": [
       "[<matplotlib.lines.Line2D at 0x11b898828>,\n",
       " <matplotlib.lines.Line2D at 0x11b898978>]"
      ]
     },
     "execution_count": 17,
     "metadata": {},
     "output_type": "execute_result"
    },
    {
     "data": {
      "image/png": "[encoded data removed]",
      "text/plain": [
       "<matplotlib.figure.Figure at 0x11b69c9e8>"
      ]
     },
     "metadata": {},
     "output_type": "display_data"
    }
   ],
   "source": [
    "plt.plot(-(np.array(RECS).T/100*np.sum(S)-np.sum(S)),'-o')"
   ]
  },
  {
   "cell_type": "code",
   "execution_count": null,
   "metadata": {
    "collapsed": true
   },
   "outputs": [],
   "source": []
  }
 ],
 "metadata": {
  "kernelspec": {
   "display_name": "Python [default]",
   "language": "python",
   "name": "python3"
  },
  "language_info": {
   "codemirror_mode": {
    "name": "ipython",
    "version": 3
   },
   "file_extension": ".py",
   "mimetype": "text/x-python",
   "name": "python",
   "nbconvert_exporter": "python",
   "pygments_lexer": "ipython3",
   "version": "3.5.2"
  }
 },
 "nbformat": 4,
 "nbformat_minor": 2
}
