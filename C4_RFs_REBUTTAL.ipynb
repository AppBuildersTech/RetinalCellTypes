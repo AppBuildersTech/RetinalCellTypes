{
 "cells": [
  {
   "cell_type": "code",
   "execution_count": 58,
   "metadata": {
    "button": false,
    "collapsed": true,
    "deletable": true,
    "new_sheet": false,
    "run_control": {
     "read_only": false
    }
   },
   "outputs": [],
   "source": [
    "# Final version of the water-filling in 1dspace-time.\n",
    "# Get a nice looking RF for midget and parasol\n",
    "# compare spatial and temporal slices to real data"
   ]
  },
  {
   "cell_type": "code",
   "execution_count": 59,
   "metadata": {
    "button": false,
    "collapsed": true,
    "deletable": true,
    "new_sheet": false,
    "run_control": {
     "read_only": false
    }
   },
   "outputs": [],
   "source": [
    "import numpy as np\n",
    "import matplotlib.pyplot as plt\n",
    "\n",
    "%matplotlib inline"
   ]
  },
  {
   "cell_type": "code",
   "execution_count": 60,
   "metadata": {
    "button": false,
    "collapsed": true,
    "deletable": true,
    "new_sheet": false,
    "run_control": {
     "read_only": false
    }
   },
   "outputs": [],
   "source": [
    "## Parameters\n",
    "\n",
    "\n",
    "NFREQ = 300 # discretization\n",
    "f1 = 0 # lowest freq\n",
    "f2 = 1e-3 # highest freq\n",
    "\n",
    "\n",
    "## equilibrated trapezoid\n",
    "N = 1 # noise level\n",
    "\n"
   ]
  },
  {
   "cell_type": "code",
   "execution_count": 61,
   "metadata": {
    "button": false,
    "collapsed": true,
    "deletable": true,
    "new_sheet": false,
    "run_control": {
     "read_only": false
    }
   },
   "outputs": [],
   "source": [
    "X = np.linspace(f1,f2,NFREQ)\n",
    "T = np.linspace(f1,f2,NFREQ)"
   ]
  },
  {
   "cell_type": "code",
   "execution_count": 62,
   "metadata": {
    "button": false,
    "collapsed": false,
    "deletable": true,
    "new_sheet": false,
    "run_control": {
     "read_only": false
    }
   },
   "outputs": [
    {
     "name": "stdout",
     "output_type": "stream",
     "text": [
      "(299, 299)\n",
      "inf\n"
     ]
    },
    {
     "name": "stderr",
     "output_type": "stream",
     "text": [
      "/anaconda/lib/python3.6/site-packages/ipykernel/__main__.py:8: RuntimeWarning: divide by zero encountered in true_divide\n",
      "/anaconda/lib/python3.6/site-packages/ipykernel/__main__.py:9: RuntimeWarning: divide by zero encountered in true_divide\n"
     ]
    }
   ],
   "source": [
    "## Generate spectrum\n",
    "\n",
    "\n",
    "\n",
    "GX,GT = np.meshgrid(X[:-1],T[:-1])\n",
    "\n",
    "# Power density\n",
    "Sdensity = 1/(GX**2*GT**2)\n",
    "S = np.diff(-1/X)[:,np.newaxis]*np.diff(-1/T)[:,np.newaxis].T\n",
    "\n",
    "print(S.shape)\n",
    "\n",
    "# Total Power\n",
    "total_S = np.sum(S)\n",
    "\n",
    "print(total_S)"
   ]
  },
  {
   "cell_type": "code",
   "execution_count": 63,
   "metadata": {
    "button": false,
    "collapsed": false,
    "deletable": true,
    "new_sheet": false,
    "run_control": {
     "read_only": false
    }
   },
   "outputs": [
    {
     "name": "stderr",
     "output_type": "stream",
     "text": [
      "/anaconda/lib/python3.6/site-packages/ipykernel/__main__.py:12: RuntimeWarning: invalid value encountered in multiply\n",
      "/anaconda/lib/python3.6/site-packages/ipykernel/__main__.py:13: RuntimeWarning: invalid value encountered in less\n"
     ]
    },
    {
     "data": {
      "text/plain": [
       "(299, 299, 100)"
      ]
     },
     "execution_count": 63,
     "metadata": {},
     "output_type": "execute_result"
    }
   ],
   "source": [
    "## Compute water filling for a range of lambdas\n",
    "\n",
    "# range of lambdas\n",
    "NLAMBDAS = 100\n",
    "#lambdas = np.logspace(12,25,NLAMBDAS)\n",
    "lambdas = np.logspace(0,25,NLAMBDAS)\n",
    "\n",
    "# library of water-filling solutions for different lamdas\n",
    "Ws = list()\n",
    "for lambd in lambdas:\n",
    "    F = np.sqrt(N/(lambd*Sdensity)) - N/Sdensity #Filter Magnitue Square per mode\n",
    "    W = S*F #Total water per block\n",
    "    W[W<0] = 0 \n",
    "    \n",
    "    #plt.figure()\n",
    "    #plt.imshow(np.sqrt(W), cmap = 'seismic', vmin = -np.max(np.sqrt(W)), vmax =  np.max(np.sqrt(W)),origin='lower')\n",
    "    #plt.colorbar()\n",
    "    \n",
    "    Ws.append(W.T)\n",
    "\n",
    "Ws = np.array(Ws).T\n",
    "Ws.shape\n"
   ]
  },
  {
   "cell_type": "code",
   "execution_count": 64,
   "metadata": {
    "button": false,
    "collapsed": false,
    "deletable": true,
    "new_sheet": false,
    "run_control": {
     "read_only": false
    }
   },
   "outputs": [
    {
     "name": "stdout",
     "output_type": "stream",
     "text": [
      "(299, 100) (300, 100) (299, 100) (300, 100)\n"
     ]
    }
   ],
   "source": [
    "## Sum across temporal frequencies (we don't need those)\n",
    "\n",
    "# volume of each voxel\n",
    "Nf = np.diff(X)[:,np.newaxis]*np.diff(T)[:,np.newaxis].T\n",
    "\n",
    "# Precompute variance per mode explained for all lambdas\n",
    "colVarExpl = np.sum(S[:,:,np.newaxis]*Ws/(Ws+N*Nf[:,:,np.newaxis]),axis =0)\n",
    "# cumulative variance explained (it's going to fasten up things in the grid search)\n",
    "cumVarExpl = np.vstack((np.zeros(NLAMBDAS),np.cumsum(colVarExpl,axis = 0)))\n",
    "\n",
    "# Water filling array for all modes and lamdas\n",
    "colWs = np.sum(Ws,axis = 0)\n",
    "# Cumulative Water filling array (it's going to fasten up things in the grid search)\n",
    "cumWs = np.vstack((np.zeros(NLAMBDAS),np.cumsum(colWs,axis = 0)))\n",
    "\n",
    "print(colVarExpl.shape, cumVarExpl.shape,colWs.shape, cumWs.shape)"
   ]
  },
  {
   "cell_type": "code",
   "execution_count": 65,
   "metadata": {
    "button": false,
    "collapsed": false,
    "deletable": true,
    "new_sheet": false,
    "run_control": {
     "read_only": false
    }
   },
   "outputs": [
    {
     "name": "stdout",
     "output_type": "stream",
     "text": [
      "(2, 90000) (2, 10000)\n",
      "RECONSTRUCTION ERROR:  nan %\n",
      "BEST NCELLS: [1 2]\n",
      "BEST LAMBDAS: [ 0.  0.]\n",
      "OBJ: nan\n",
      "\n"
     ]
    }
   ],
   "source": [
    "## Iterate over all possible decompositions between N cell types to find the best one\n",
    "\n",
    "\n",
    "\n",
    "# Number of types\n",
    "NTYPES = 2\n",
    "\n",
    "## Create grid for grid search\n",
    "\n",
    "# Create grid for grid search over strides for different types\n",
    "STEP = 1 # step of the grid search\n",
    "strides = np.arange(0,NFREQ,STEP)\n",
    "NSTRIDES = len(strides)\n",
    "g = [strides for i in range(NTYPES)]\n",
    "g = np.meshgrid(*g)\n",
    "stride_grid = np.array([gi.ravel() for gi in g])\n",
    "\n",
    "# Create grid for grid serach over lambdas to find best objective\n",
    "g = [np.arange(0,NLAMBDAS) for i in range(NTYPES)]\n",
    "g = np.meshgrid(*g)\n",
    "lambda_grid = np.array([gi.flatten() for gi in g])\n",
    "\n",
    "print(stride_grid.shape,lambda_grid.shape)\n",
    "\n",
    "recs = list()\n",
    "strides = list()\n",
    "\n",
    "# Total firing rate threshold ('number of spikes')\n",
    "NSPIKES = 1\n",
    "\n",
    "\n",
    "GRID = np.zeros(NTYPES)\n",
    "NITER =  stride_grid.shape[1]\n",
    "\n",
    "EXPL = np.nan* np.zeros(NITER)\n",
    "OBJ = np.zeros(NITER)\n",
    "L1s = np.zeros(NITER)\n",
    "LAMB = np.zeros((NITER,NTYPES))\n",
    "\n",
    "# start grid search over strides of each type\n",
    "for i in range(NITER):\n",
    "    lims = stride_grid[:,i] # end limit of the modes covered by each type\n",
    "\n",
    "    if np.all(np.diff(lims)>0) and lims[0]>0: # if all limits are in an \n",
    "        #increasing order (avoid switching types) \n",
    "\n",
    "\n",
    "        lims2 = [0,*lims]\n",
    "\n",
    "        #print(lims)\n",
    "\n",
    "        all_varsExpl = list()\n",
    "        all_l1s = list()\n",
    "        for typ in range(NTYPES):\n",
    "\n",
    "            # Variance explained for each lambda\n",
    "            varExp = cumVarExpl[lims2[typ+1]] - cumVarExpl[lims2[typ]]\n",
    "\n",
    "            # Budget of cells for each type\n",
    "            budgetCells = X[lims2[typ+1]] - X[lims2[typ]]\n",
    "\n",
    "            # penalty\n",
    "            l1_penalty = np.sqrt(budgetCells*(cumWs[lims2[typ+1]]- cumWs[lims2[typ]]))\n",
    "\n",
    "\n",
    "            all_varsExpl.append(varExp)\n",
    "            all_l1s.append(l1_penalty)\n",
    "\n",
    "\n",
    "        all_varsExpl = np.array(all_varsExpl)\n",
    "        total_varsExpl = sum([all_varsExpl[ityp,lambda_grid[ityp]] for ityp in range(NTYPES)])\n",
    "\n",
    "        all_l1s = np.array(all_l1s)\n",
    "        total_l1s = sum([all_l1s[ityp,lambda_grid[ityp]] for ityp in range(NTYPES)])\n",
    "\n",
    "        # objective for each lambda\n",
    "        objective = total_varsExpl - 1e60 * np.maximum(total_l1s - NSPIKES, 0)   \n",
    "\n",
    "        best_lambdas_ind = np.argmax(objective)\n",
    "\n",
    "        best_lambdas = lambda_grid[:,best_lambdas_ind]\n",
    "\n",
    "\n",
    "        #if 0 in best_lambdas:\n",
    "        #    print('warning lambda LOWER bound reached',lims)\n",
    "        #if NLAMBDAS-1 in best_lambdas:\n",
    "        #    print('warning lambda UPPER bound reached')\n",
    "\n",
    "        best_objective = objective[best_lambdas_ind]\n",
    "\n",
    "        best_varExp = total_varsExpl[best_lambdas_ind]\n",
    "        \n",
    "        best_L1 = total_l1s[best_lambdas_ind]\n",
    "\n",
    "        EXPL[i] = best_varExp\n",
    "        LAMB[i,:] = best_lambdas        \n",
    "        OBJ[i] = best_objective\n",
    "        L1s[i] = best_L1 \n",
    "\n",
    "        #print(best_objective)\n",
    "        #print(best_varExp)\n",
    "\n",
    "        #STRIDES[i,:] = best_strides\n",
    "\n",
    "        #print(lims,best_lambdas,best_objective)\n",
    "\n",
    "        #print(sumObjs.shape,lambda_grid.shape)\n",
    "\n",
    "\n",
    "iter_max = np.argmax(OBJ)\n",
    "\n",
    "rec = (np.sum(S) - EXPL[iter_max])/np.sum(S)*100\n",
    "st = stride_grid[:,iter_max]\n",
    "\n",
    "recs.append(rec)\n",
    "strides.append(st)\n",
    "#print(np.argmax(EXPL))\n",
    "print('RECONSTRUCTION ERROR: ',rec,'%')\n",
    "print('BEST NCELLS:', stride_grid[:,iter_max])\n",
    "print('BEST LAMBDAS:', LAMB[iter_max])\n",
    "print('OBJ:', OBJ[iter_max])\n",
    "print('')\n",
    "\n",
    "RECS = (np.sum(S) - EXPL)/np.sum(S)*100"
   ]
  },
  {
   "cell_type": "code",
   "execution_count": 66,
   "metadata": {
    "button": false,
    "collapsed": false,
    "deletable": true,
    "new_sheet": false,
    "run_control": {
     "read_only": false
    }
   },
   "outputs": [
    {
     "name": "stdout",
     "output_type": "stream",
     "text": [
      "[ 0.  0.] [1 2]\n"
     ]
    }
   ],
   "source": [
    "## lambda indices, stride indices\n",
    "\n",
    "print(LAMB[iter_max], stride_grid[:,iter_max])\n",
    "\n",
    "(lambda_parasol, lambda_midget) = LAMB[iter_max]\n",
    "(lim_parasol, lim_midget) = stride_grid[:,iter_max]"
   ]
  },
  {
   "cell_type": "code",
   "execution_count": 22,
   "metadata": {
    "button": false,
    "collapsed": false,
    "deletable": true,
    "new_sheet": false,
    "run_control": {
     "read_only": false
    }
   },
   "outputs": [
    {
     "name": "stderr",
     "output_type": "stream",
     "text": [
      "/Applications/Pineapple.app/Contents/Frameworks/Python.framework/Versions/3.5/lib/python3.5/site-packages/ipykernel/__main__.py:3: DeprecationWarning: using a non-integer number instead of an integer will result in an error in the future\n",
      "  app.launch_new_instance()\n",
      "/Applications/Pineapple.app/Contents/Frameworks/Python.framework/Versions/3.5/lib/python3.5/site-packages/ipykernel/__main__.py:6: DeprecationWarning: using a non-integer number instead of an integer will result in an error in the future\n",
      "/Applications/Pineapple.app/Contents/Frameworks/Python.framework/Versions/3.5/lib/python3.5/site-packages/matplotlib/collections.py:590: FutureWarning: elementwise comparison failed; returning scalar instead, but in the future will perform elementwise comparison\n",
      "  if self._edgecolors == str('face'):\n"
     ]
    },
    {
     "data": {
      "image/png": "[encoded data removed]",
      "text/plain": [
       "<matplotlib.figure.Figure at 0x113d73908>"
      ]
     },
     "metadata": {},
     "output_type": "display_data"
    },
    {
     "data": {
      "image/png": "[encoded data removed]",
      "text/plain": [
       "<matplotlib.figure.Figure at 0x1149ab6a0>"
      ]
     },
     "metadata": {},
     "output_type": "display_data"
    }
   ],
   "source": [
    "## LOOK at RF in Fourier space\n",
    "\n",
    "F_parasol = Ws[:,:,lambda_parasol]/Sdensity\n",
    "F_parasol[:,lim_parasol:] = 0\n",
    "\n",
    "F_midget = Ws[:,:,lambda_midget]/Sdensity\n",
    "F_midget[:,:lim_parasol] = 0\n",
    "F_midget[:,lim_midget:] = 0\n",
    "\n",
    "\n",
    "#fig, axs = plt.subplots(1,2,figsize = (8,4))\n",
    "plt.figure()\n",
    "plt.xticks([])\n",
    "plt.yticks([])\n",
    "#plt.contour(S, np.logspace(5,10,10), linewidths = 2, linestyles = 'solid', colors = 'k')\n",
    "plt.imshow(F_parasol,origin='lower')\n",
    "plt.xlabel('k (real scale)', fontsize = 18)\n",
    "plt.ylabel(r'$\\omega$ (log scale)', fontsize = 18)\n",
    "plt.colorbar()\n",
    "\n",
    "plt.savefig('RF_parasol.png',bbox_inches = 'tight', pad_inches = .1)\n",
    "\n",
    "plt.figure()\n",
    "plt.xticks([])\n",
    "plt.yticks([])\n",
    "#plt.contour(S, np.logspace(5,10,10), linewidths = 2, linestyles = 'solid', colors = 'k')\n",
    "plt.imshow(F_midget,origin='lower')\n",
    "plt.xlabel('k (real scale)', fontsize = 18)\n",
    "plt.colorbar()\n",
    "\n",
    "plt.savefig('RF_midget.png',bbox_inches = 'tight', pad_inches = .1)\n",
    "\n",
    "\n",
    "#plt.imshow(np.sqrt(Fk), cmap = 'bwr', vmin = -np.max(Fk), vmax =  np.max(Fk),origin='lower')\n",
    "#plt.colorbar()\n",
    "\n",
    "\n",
    "\n"
   ]
  },
  {
   "cell_type": "code",
   "execution_count": 11,
   "metadata": {
    "button": false,
    "collapsed": false,
    "deletable": true,
    "new_sheet": false,
    "run_control": {
     "read_only": false
    }
   },
   "outputs": [
    {
     "data": {
      "text/plain": [
       "array([[  0.00000000e+00,   9.34305490e-23,   2.48529562e-22, ...,\n",
       "          5.48757089e-20,   5.50617111e-20,   5.52477132e-20],\n",
       "       [  0.00000000e+00,   5.26404616e-18,   1.40016661e-17, ...,\n",
       "          3.03063006e-15,   3.04069438e-15,   3.05075728e-15],\n",
       "       [  0.00000000e+00,   1.40016661e-17,   3.72400810e-17, ...,\n",
       "          7.89835779e-15,   7.92402252e-15,   7.94967976e-15],\n",
       "       ..., \n",
       "       [  0.00000000e+00,   3.03063006e-15,   7.89835779e-15, ...,\n",
       "          0.00000000e+00,   0.00000000e+00,   0.00000000e+00],\n",
       "       [  0.00000000e+00,   3.04069438e-15,   7.92402252e-15, ...,\n",
       "          0.00000000e+00,   0.00000000e+00,   0.00000000e+00],\n",
       "       [  0.00000000e+00,   3.05075728e-15,   7.94967976e-15, ...,\n",
       "          0.00000000e+00,   0.00000000e+00,   0.00000000e+00]])"
      ]
     },
     "execution_count": 11,
     "metadata": {},
     "output_type": "execute_result"
    }
   ],
   "source": [
    "F_midget"
   ]
  },
  {
   "cell_type": "code",
   "execution_count": 10,
   "metadata": {
    "button": false,
    "collapsed": false,
    "deletable": true,
    "new_sheet": false,
    "run_control": {
     "read_only": false
    }
   },
   "outputs": [
    {
     "data": {
      "text/plain": [
       "(299, 299)"
      ]
     },
     "execution_count": 10,
     "metadata": {},
     "output_type": "execute_result"
    }
   ],
   "source": [
    "F_parasol.shape"
   ]
  },
  {
   "cell_type": "code",
   "execution_count": 11,
   "metadata": {
    "button": false,
    "collapsed": false,
    "deletable": true,
    "new_sheet": false,
    "run_control": {
     "read_only": false
    }
   },
   "outputs": [
    {
     "name": "stderr",
     "output_type": "stream",
     "text": [
      "/anaconda/lib/python3.6/site-packages/ipykernel/__main__.py:6: RuntimeWarning: divide by zero encountered in log\n",
      "/anaconda/lib/python3.6/site-packages/ipykernel/__main__.py:7: RuntimeWarning: divide by zero encountered in log\n"
     ]
    },
    {
     "data": {
      "image/png": "[encoded data removed]",
      "text/plain": [
       "<matplotlib.figure.Figure at 0x117c4ef60>"
      ]
     },
     "metadata": {},
     "output_type": "display_data"
    }
   ],
   "source": [
    "y = F_parasol[:,lim_parasol-1]\n",
    "\n",
    "#y = np.concatenate((y,[1e-50]))\n",
    "\n",
    "plt.figure(figsize = (4,4))\n",
    "plt.plot(np.log(T[80:-1])/np.log(10)+4.6,np.log(y[80:])/np.log(10))\n",
    "plt.plot(np.log(T[80:-1])/np.log(10)+4.6,np.log(F_midget[80:,lim_parasol+1])/np.log(10))\n",
    "plt.xlabel(r'$\\omega$ (log scale)',fontsize = 18)\n",
    "plt.ylabel(r'Sensitivity ($F^2$)',fontsize = 18)\n",
    "\n",
    "plt.ylabel(r'RMS firing rate',fontsize = 40)\n",
    "plt.xticks([])\n",
    "plt.yticks([])\n",
    "plt.legend(['Parasol-like','Midget-like'],fontsize = 18, loc = 'upper left')\n",
    "\n",
    "plt.savefig('Temporal_RF.png',bbox_inches = 'tight', pad_inches = .1)\n"
   ]
  },
  {
   "cell_type": "code",
   "execution_count": 12,
   "metadata": {
    "button": false,
    "collapsed": false,
    "deletable": true,
    "new_sheet": false,
    "run_control": {
     "read_only": false
    }
   },
   "outputs": [
    {
     "data": {
      "text/plain": [
       "<matplotlib.legend.Legend at 0x117c97080>"
      ]
     },
     "execution_count": 12,
     "metadata": {},
     "output_type": "execute_result"
    },
    {
     "data": {
      "image/png": "[encoded data removed]",
      "text/plain": [
       "<matplotlib.figure.Figure at 0x117c3c518>"
      ]
     },
     "metadata": {},
     "output_type": "display_data"
    }
   ],
   "source": [
    "import pandas as pd\n",
    "df=pd.read_csv('midget_RF.csv', sep=',',header=None)\n",
    "M = df.values\n",
    "df=pd.read_csv('parasol_RF.csv', sep=',',header=None)\n",
    "P = df.values\n",
    "\n",
    "plt.figure(figsize = (4,4))\n",
    "\n",
    "plt.plot(np.log(P[:,0])/np.log(10),np.log(P[:,1])/np.log(10),'-o')\n",
    "plt.plot(np.log(M[:,0])/np.log(10),np.log(M[:,1])/np.log(10),'-o')\n",
    "plt.xticks([])\n",
    "plt.yticks([])\n",
    "plt.xlabel(r'$\\omega$ (log scale)',fontsize = 18)\n",
    "plt.ylabel(r'Sensitivity ($F^2$)',fontsize = 18)\n",
    "\n",
    "plt.legend(['Parasol','Midget'],fontsize = 18 , loc = 'upper left')"
   ]
  },
  {
   "cell_type": "code",
   "execution_count": null,
   "metadata": {
    "button": false,
    "collapsed": false,
    "deletable": true,
    "new_sheet": false,
    "run_control": {
     "read_only": false
    }
   },
   "outputs": [],
   "source": [
    "\n"
   ]
  },
  {
   "cell_type": "code",
   "execution_count": null,
   "metadata": {
    "button": false,
    "collapsed": true,
    "deletable": true,
    "new_sheet": false,
    "run_control": {
     "read_only": false
    }
   },
   "outputs": [],
   "source": []
  },
  {
   "cell_type": "code",
   "execution_count": null,
   "metadata": {
    "button": false,
    "collapsed": true,
    "deletable": true,
    "new_sheet": false,
    "run_control": {
     "read_only": false
    }
   },
   "outputs": [],
   "source": []
  },
  {
   "cell_type": "code",
   "execution_count": null,
   "metadata": {
    "button": false,
    "collapsed": true,
    "deletable": true,
    "new_sheet": false,
    "run_control": {
     "read_only": false
    }
   },
   "outputs": [],
   "source": []
  },
  {
   "cell_type": "code",
   "execution_count": null,
   "metadata": {
    "button": false,
    "collapsed": true,
    "deletable": true,
    "new_sheet": false,
    "run_control": {
     "read_only": false
    }
   },
   "outputs": [],
   "source": []
  },
  {
   "cell_type": "code",
   "execution_count": null,
   "metadata": {
    "button": false,
    "collapsed": true,
    "deletable": true,
    "new_sheet": false,
    "run_control": {
     "read_only": false
    }
   },
   "outputs": [],
   "source": []
  },
  {
   "cell_type": "code",
   "execution_count": 13,
   "metadata": {
    "button": false,
    "collapsed": false,
    "deletable": true,
    "new_sheet": false,
    "run_control": {
     "read_only": false
    }
   },
   "outputs": [
    {
     "name": "stdout",
     "output_type": "stream",
     "text": [
      "[ 24.  26.] [ 89 160]\n"
     ]
    }
   ],
   "source": [
    "## lambda indices, stride indices\n",
    "\n",
    "print(LAMB[iter_max], stride_grid[:,iter_max])\n",
    "\n",
    "lambda_single = LAMB[iter_max]\n",
    "lim_single = stride_grid[:,iter_max]"
   ]
  },
  {
   "cell_type": "code",
   "execution_count": 14,
   "metadata": {
    "button": false,
    "collapsed": false,
    "deletable": true,
    "new_sheet": false,
    "run_control": {
     "read_only": false
    }
   },
   "outputs": [
    {
     "data": {
      "text/plain": [
       "[<matplotlib.lines.Line2D at 0x11ad12ac8>,\n",
       " <matplotlib.lines.Line2D at 0x11ad12cf8>]"
      ]
     },
     "execution_count": 14,
     "metadata": {},
     "output_type": "execute_result"
    },
    {
     "data": {
      "image/png": "[encoded data removed]",
      "text/plain": [
       "<matplotlib.figure.Figure at 0x117c4edd8>"
      ]
     },
     "metadata": {},
     "output_type": "display_data"
    }
   ],
   "source": [
    "import csv\n",
    "\n",
    "\n",
    "# Read CSV file\n",
    "with open('midget_RF.csv', 'r') as fp:\n",
    "    reader = csv.reader(fp, delimiter=',', quotechar='\"')\n",
    "    # next(reader, None)  # skip the headers\n",
    "    M = np.array([row for row in reader])\n",
    "    \n",
    "with open('parasol_RF.csv', 'r') as fp:\n",
    "    reader = csv.reader(fp, delimiter=',', quotechar='\"')\n",
    "    # next(reader, None)  # skip the headers\n",
    "    P = np.array([row for row in reader])\n",
    "    \n",
    "    \n",
    "plt.plot(M)"
   ]
  },
  {
   "cell_type": "code",
   "execution_count": null,
   "metadata": {
    "button": false,
    "collapsed": true,
    "deletable": true,
    "new_sheet": false,
    "run_control": {
     "read_only": false
    }
   },
   "outputs": [],
   "source": []
  },
  {
   "cell_type": "code",
   "execution_count": null,
   "metadata": {
    "button": false,
    "collapsed": true,
    "deletable": true,
    "new_sheet": false,
    "run_control": {
     "read_only": false
    }
   },
   "outputs": [],
   "source": []
  },
  {
   "cell_type": "code",
   "execution_count": null,
   "metadata": {
    "button": false,
    "collapsed": true,
    "deletable": true,
    "new_sheet": false,
    "run_control": {
     "read_only": false
    }
   },
   "outputs": [],
   "source": []
  },
  {
   "cell_type": "code",
   "execution_count": 15,
   "metadata": {
    "button": false,
    "collapsed": false,
    "deletable": true,
    "new_sheet": false,
    "run_control": {
     "read_only": false
    }
   },
   "outputs": [
    {
     "name": "stderr",
     "output_type": "stream",
     "text": [
      "/anaconda/lib/python3.6/site-packages/ipykernel/__main__.py:3: VisibleDeprecationWarning: using a non-integer number instead of an integer will result in an error in the future\n",
      "  app.launch_new_instance()\n"
     ]
    },
    {
     "ename": "IndexError",
     "evalue": "failed to coerce slice entry of type numpy.ndarray to integer",
     "output_type": "error",
     "traceback": [
      "\u001b[0;31m---------------------------------------------------------------------------\u001b[0m",
      "\u001b[0;31mIndexError\u001b[0m                                Traceback (most recent call last)",
      "\u001b[0;32m<ipython-input-15-76bc50108771>\u001b[0m in \u001b[0;36m<module>\u001b[0;34m()\u001b[0m\n\u001b[1;32m      2\u001b[0m \u001b[0;34m\u001b[0m\u001b[0m\n\u001b[1;32m      3\u001b[0m \u001b[0mF_single\u001b[0m \u001b[0;34m=\u001b[0m \u001b[0mWs\u001b[0m\u001b[0;34m[\u001b[0m\u001b[0;34m:\u001b[0m\u001b[0;34m,\u001b[0m\u001b[0;34m:\u001b[0m\u001b[0;34m,\u001b[0m\u001b[0mlambda_parasol\u001b[0m\u001b[0;34m]\u001b[0m\u001b[0;34m/\u001b[0m\u001b[0mSdensity\u001b[0m\u001b[0;34m\u001b[0m\u001b[0m\n\u001b[0;32m----> 4\u001b[0;31m \u001b[0mF_single\u001b[0m\u001b[0;34m[\u001b[0m\u001b[0;34m:\u001b[0m\u001b[0;34m,\u001b[0m\u001b[0mlim_single\u001b[0m\u001b[0;34m:\u001b[0m\u001b[0;34m]\u001b[0m \u001b[0;34m=\u001b[0m \u001b[0;36m0\u001b[0m\u001b[0;34m\u001b[0m\u001b[0m\n\u001b[0m\u001b[1;32m      5\u001b[0m \u001b[0;34m\u001b[0m\u001b[0m\n\u001b[1;32m      6\u001b[0m \u001b[0;34m\u001b[0m\u001b[0m\n",
      "\u001b[0;31mIndexError\u001b[0m: failed to coerce slice entry of type numpy.ndarray to integer"
     ]
    }
   ],
   "source": [
    "## LOOK at RF in Fourier space\n",
    "\n",
    "F_single = Ws[:,:,lambda_parasol]/Sdensity\n",
    "F_single[:,lim_single:] = 0\n",
    "\n",
    "\n",
    "\n",
    "#fig, axs = plt.subplots(1,2,figsize = (8,4))\n",
    "plt.figure()\n",
    "plt.xticks([])\n",
    "plt.yticks([])\n",
    "plt.contour(S, np.logspace(5,10,10), linewidths = 2, linestyles = 'solid', colors = 'k')\n",
    "plt.imshow(np.log(F_single),origin='lower')\n",
    "plt.xlabel('k (log scale)', fontsize = 18)\n",
    "plt.ylabel(r'$\\omega$ (log scale)', fontsize = 18)\n",
    "plt.colorbar()\n",
    "\n",
    "plt.savefig('RF_single.png',bbox_inches = 'tight', pad_inches = .1)"
   ]
  },
  {
   "cell_type": "code",
   "execution_count": null,
   "metadata": {
    "button": false,
    "collapsed": true,
    "deletable": true,
    "new_sheet": false,
    "run_control": {
     "read_only": false
    }
   },
   "outputs": [],
   "source": []
  },
  {
   "cell_type": "code",
   "execution_count": null,
   "metadata": {
    "button": false,
    "collapsed": true,
    "deletable": true,
    "new_sheet": false,
    "run_control": {
     "read_only": false
    }
   },
   "outputs": [],
   "source": []
  },
  {
   "cell_type": "code",
   "execution_count": null,
   "metadata": {
    "button": false,
    "collapsed": true,
    "deletable": true,
    "new_sheet": false,
    "run_control": {
     "read_only": false
    }
   },
   "outputs": [],
   "source": []
  },
  {
   "cell_type": "code",
   "execution_count": null,
   "metadata": {
    "button": false,
    "collapsed": true,
    "deletable": true,
    "new_sheet": false,
    "run_control": {
     "read_only": false
    }
   },
   "outputs": [],
   "source": []
  },
  {
   "cell_type": "code",
   "execution_count": null,
   "metadata": {
    "button": false,
    "collapsed": true,
    "deletable": true,
    "new_sheet": false,
    "run_control": {
     "read_only": false
    }
   },
   "outputs": [],
   "source": []
  },
  {
   "cell_type": "code",
   "execution_count": null,
   "metadata": {
    "button": false,
    "collapsed": true,
    "deletable": true,
    "new_sheet": false,
    "run_control": {
     "read_only": false
    }
   },
   "outputs": [],
   "source": []
  },
  {
   "cell_type": "code",
   "execution_count": null,
   "metadata": {
    "button": false,
    "collapsed": true,
    "deletable": true,
    "new_sheet": false,
    "run_control": {
     "read_only": false
    }
   },
   "outputs": [],
   "source": []
  },
  {
   "cell_type": "code",
   "execution_count": null,
   "metadata": {
    "button": false,
    "collapsed": true,
    "deletable": true,
    "new_sheet": false,
    "run_control": {
     "read_only": false
    }
   },
   "outputs": [],
   "source": []
  },
  {
   "cell_type": "code",
   "execution_count": null,
   "metadata": {
    "button": false,
    "collapsed": true,
    "deletable": true,
    "new_sheet": false,
    "run_control": {
     "read_only": false
    }
   },
   "outputs": [],
   "source": []
  },
  {
   "cell_type": "code",
   "execution_count": null,
   "metadata": {
    "button": false,
    "collapsed": false,
    "deletable": true,
    "new_sheet": false,
    "run_control": {
     "read_only": false
    }
   },
   "outputs": [],
   "source": [
    "\n",
    "from mpl_toolkits.mplot3d import Axes3D\n",
    "import matplotlib.pyplot as plt\n",
    "from matplotlib import cm\n",
    "from matplotlib.ticker import LinearLocator, FormatStrFormatter\n",
    "import numpy as np\n",
    "\n",
    "\n",
    "fig = plt.figure()\n",
    "ax = fig.gca(projection='3d')\n",
    "\n",
    "# Make data.\n",
    "#X = np.arange(-5, 5, 0.25)\n",
    "#Y = np.arange(-5, 5, 0.25)\n",
    "#X, Y = np.meshgrid(X, Y)\n",
    "#R = np.sqrt(X**2 + Y**2)\n",
    "#Z = np.sin(R)\n",
    "\n",
    "Z = np.log(F_parasol)\n",
    "\n",
    "#Z[Z<-80] = -80\n",
    "\n",
    "# Plot the surface.\n",
    "surf = ax.plot_wireframe(GX, GT, Z, rstride=5, cstride=5)\n",
    "\n",
    "\n",
    "# Customize the z axis.\n",
    "ax.set_xlim(0, 0.002)\n",
    "ax.set_ylim(0, 0.002)\n",
    "\n",
    "#ax.view_init(90, 40)\n",
    "#ax.set_zlim(-1.01, 1.01)\n",
    "#ax.zaxis.set_major_locator(LinearLocator(10))\n",
    "#ax.zaxis.set_major_formatter(FormatStrFormatter('%.02f'))\n",
    "\n",
    "# Add a color bar which maps values to colors.\n",
    "#fig.colorbar(surf, shrink=0.5, aspect=5)\n",
    "\n",
    "plt.show()"
   ]
  },
  {
   "cell_type": "code",
   "execution_count": null,
   "metadata": {
    "button": false,
    "collapsed": false,
    "deletable": true,
    "new_sheet": false,
    "run_control": {
     "read_only": false
    }
   },
   "outputs": [],
   "source": [
    "v = np.logspace(-1,1,100)\n",
    "\n",
    "# 2.1 Hz\n",
    "kc = 108.5\n",
    "rc = 0.031\n",
    "tc = 169.4\n",
    "xc = 0.008\n",
    "ks = 46.8\n",
    "rs = 0.199\n",
    "ts = -22.2\n",
    "xs = 0.021\n",
    "\n",
    "L1 = kc*rc*np.sqrt(np.pi)*np.exp(-(np.pi*rc*v)**2+1j*(np.pi/180)*(tc-360*xc*v)) \n",
    "+ks*rs*np.sqrt(np.pi)*np.exp(-(np.pi*rs*v)**2+1j*(np.pi/180)*(ts-360*xs*v))\n",
    "\n",
    "# 8.5 Hz\n",
    "kc = 158.3\n",
    "rc = 0.033\n",
    "tc = 40.5\n",
    "xc = 0.011\n",
    "ks = 101.4\n",
    "rs = 0.232\n",
    "ts = -162\n",
    "xs = 0.029\n",
    "\n",
    "L2 = kc*rc*np.sqrt(np.pi)*np.exp(-(np.pi*rc*v)**2+1j*(np.pi/180)*(tc-360*xc*v)) \n",
    "+ks*rs*np.sqrt(np.pi)*np.exp(-(np.pi*rs*v)**2+1j*(np.pi/180)*(ts-360*xs*v))\n",
    "\n",
    "# 16.9 Hz\n",
    "kc = 113\n",
    "rc = 0.031\n",
    "tc = -124.9\n",
    "xc = 0.012\n",
    "ks = 72.9\n",
    "rs = 0.455\n",
    "ts = 19.7\n",
    "xs = -0.042\n",
    "\n",
    "L3 = kc*rc*np.sqrt(np.pi)*np.exp(-(np.pi*rc*v)**2+1j*(np.pi/180)*(tc-360*xc*v)) \n",
    "+ks*rs*np.sqrt(np.pi)*np.exp(-(np.pi*rs*v)**2+1j*(np.pi/180)*(ts-360*xs*v))\n",
    "\n",
    "\n",
    "plt.plot(np.log(np.abs(L1)**2))\n",
    "plt.plot(np.log(np.abs(L2)**2))\n",
    "plt.plot(np.log(np.abs(L3)**2))"
   ]
  },
  {
   "cell_type": "code",
   "execution_count": null,
   "metadata": {
    "button": false,
    "collapsed": false,
    "deletable": true,
    "new_sheet": false,
    "run_control": {
     "read_only": false
    }
   },
   "outputs": [],
   "source": [
    "plt.plot(np.log(F_parasol[10]))\n",
    "plt.plot(np.log(F_parasol[11]))\n",
    "plt.plot(np.log(F_parasol[12]))\n",
    "\n"
   ]
  },
  {
   "cell_type": "code",
   "execution_count": null,
   "metadata": {
    "button": false,
    "collapsed": false,
    "deletable": true,
    "new_sheet": false,
    "run_control": {
     "read_only": false
    }
   },
   "outputs": [],
   "source": []
  },
  {
   "cell_type": "code",
   "execution_count": null,
   "metadata": {
    "button": false,
    "collapsed": false,
    "deletable": true,
    "new_sheet": false,
    "run_control": {
     "read_only": false
    }
   },
   "outputs": [],
   "source": [
    "1+i"
   ]
  },
  {
   "cell_type": "code",
   "execution_count": null,
   "metadata": {
    "button": false,
    "collapsed": true,
    "deletable": true,
    "new_sheet": false,
    "run_control": {
     "read_only": false
    }
   },
   "outputs": [],
   "source": []
  },
  {
   "cell_type": "code",
   "execution_count": null,
   "metadata": {
    "button": false,
    "collapsed": true,
    "deletable": true,
    "new_sheet": false,
    "run_control": {
     "read_only": false
    }
   },
   "outputs": [],
   "source": []
  },
  {
   "cell_type": "code",
   "execution_count": null,
   "metadata": {
    "button": false,
    "collapsed": true,
    "deletable": true,
    "new_sheet": false,
    "run_control": {
     "read_only": false
    }
   },
   "outputs": [],
   "source": []
  },
  {
   "cell_type": "code",
   "execution_count": null,
   "metadata": {
    "button": false,
    "collapsed": true,
    "deletable": true,
    "new_sheet": false,
    "run_control": {
     "read_only": false
    }
   },
   "outputs": [],
   "source": []
  },
  {
   "cell_type": "code",
   "execution_count": null,
   "metadata": {
    "button": false,
    "collapsed": true,
    "deletable": true,
    "new_sheet": false,
    "run_control": {
     "read_only": false
    }
   },
   "outputs": [],
   "source": []
  },
  {
   "cell_type": "code",
   "execution_count": null,
   "metadata": {
    "button": false,
    "collapsed": true,
    "deletable": true,
    "new_sheet": false,
    "run_control": {
     "read_only": false
    }
   },
   "outputs": [],
   "source": []
  },
  {
   "cell_type": "code",
   "execution_count": null,
   "metadata": {
    "button": false,
    "collapsed": false,
    "deletable": true,
    "new_sheet": false,
    "run_control": {
     "read_only": false
    }
   },
   "outputs": [],
   "source": []
  },
  {
   "cell_type": "code",
   "execution_count": null,
   "metadata": {
    "button": false,
    "collapsed": false,
    "deletable": true,
    "new_sheet": false,
    "run_control": {
     "read_only": false
    }
   },
   "outputs": [],
   "source": [
    "plt.plot(np.log(F_parasol[0]))"
   ]
  },
  {
   "cell_type": "code",
   "execution_count": null,
   "metadata": {
    "button": false,
    "collapsed": false,
    "deletable": true,
    "new_sheet": false,
    "run_control": {
     "read_only": false
    }
   },
   "outputs": [],
   "source": [
    "plt.plot(np.log(F_midget[0]))"
   ]
  },
  {
   "cell_type": "code",
   "execution_count": null,
   "metadata": {
    "button": false,
    "collapsed": true,
    "deletable": true,
    "new_sheet": false,
    "run_control": {
     "read_only": false
    }
   },
   "outputs": [],
   "source": [
    "#"
   ]
  }
 ],
 "metadata": {
  "kernelspec": {
   "display_name": "Python 3",
   "language": "python",
   "name": "python3"
  },
  "language_info": {
   "codemirror_mode": {
    "name": "ipython",
    "version": 3
   },
   "file_extension": ".py",
   "mimetype": "text/x-python",
   "name": "python",
   "nbconvert_exporter": "python",
   "pygments_lexer": "ipython3",
   "version": "3.6.0"
  }
 },
 "nbformat": 4,
 "nbformat_minor": 2
}
