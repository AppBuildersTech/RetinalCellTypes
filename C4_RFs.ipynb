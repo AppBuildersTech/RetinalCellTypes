{
 "cells": [
  {
   "cell_type": "code",
   "execution_count": 1,
   "metadata": {
    "button": false,
    "collapsed": true,
    "deletable": true,
    "new_sheet": false,
    "run_control": {
     "read_only": false
    }
   },
   "outputs": [],
   "source": [
    "# Final version of the water-filling in 1dspace-time.\n",
    "# Get a nice looking RF for midget and parasol\n",
    "# compare spatial and temporal slices to real data"
   ]
  },
  {
   "cell_type": "code",
   "execution_count": 2,
   "metadata": {
    "button": false,
    "collapsed": true,
    "deletable": true,
    "new_sheet": false,
    "run_control": {
     "read_only": false
    }
   },
   "outputs": [],
   "source": [
    "import numpy as np\n",
    "import matplotlib.pyplot as plt\n",
    "\n",
    "%matplotlib inline"
   ]
  },
  {
   "cell_type": "code",
   "execution_count": 3,
   "metadata": {
    "button": false,
    "collapsed": true,
    "deletable": true,
    "new_sheet": false,
    "run_control": {
     "read_only": false
    }
   },
   "outputs": [],
   "source": [
    "## Parameters\n",
    "\n",
    "\n",
    "NFREQ = 300 # discretization\n",
    "f1 = 1e-6 # lowest freq\n",
    "f2 = 1e-1 # highest freq\n",
    "\n",
    "\n",
    "## equilibrated trapezoid\n",
    "N = 1 # noise level\n",
    "\n"
   ]
  },
  {
   "cell_type": "code",
   "execution_count": 4,
   "metadata": {
    "button": false,
    "collapsed": false,
    "deletable": true,
    "new_sheet": false,
    "run_control": {
     "read_only": false
    }
   },
   "outputs": [
    {
     "name": "stdout",
     "output_type": "stream",
     "text": [
      "(299, 299)\n",
      "999980000099.9994\n"
     ]
    }
   ],
   "source": [
    "## Generate spectrum\n",
    "\n",
    "X = np.exp(np.linspace(np.log(f1),np.log(f2),NFREQ))\n",
    "T = np.exp(np.linspace(np.log(f1),np.log(f2),NFREQ))\n",
    "\n",
    "GX,GT = np.meshgrid(X[:-1],T[:-1])\n",
    "\n",
    "# Power density\n",
    "Sdensity = 1/(GX**2*GT**2)\n",
    "S = np.diff(-1/X)[:,np.newaxis]*np.diff(-1/T)[:,np.newaxis].T\n",
    "\n",
    "print(S.shape)\n",
    "\n",
    "# Total Power\n",
    "total_S = np.sum(S)\n",
    "\n",
    "print(total_S)"
   ]
  },
  {
   "cell_type": "code",
   "execution_count": 5,
   "metadata": {
    "button": false,
    "collapsed": false,
    "deletable": true,
    "new_sheet": false,
    "run_control": {
     "read_only": false
    }
   },
   "outputs": [
    {
     "data": {
      "text/plain": [
       "(299, 299, 50)"
      ]
     },
     "execution_count": 5,
     "metadata": {},
     "output_type": "execute_result"
    }
   ],
   "source": [
    "## Compute water filling for a range of lambdas\n",
    "\n",
    "# range of lambdas\n",
    "NLAMBDAS = 50\n",
    "#lambdas = np.logspace(12,25,NLAMBDAS)\n",
    "lambdas = np.logspace(6,25,NLAMBDAS)\n",
    "\n",
    "# library of water-filling solutions for different lamdas\n",
    "Ws = list()\n",
    "for lambd in lambdas:\n",
    "    F = np.sqrt(N/(lambd*Sdensity)) - N/Sdensity #Filter Magnitue Square per mode\n",
    "    W = S*F #Total water per block\n",
    "    W[W<0] = 0 \n",
    "    \n",
    "    #plt.figure()\n",
    "    #plt.imshow(np.sqrt(W), cmap = 'seismic', vmin = -np.max(np.sqrt(W)), vmax =  np.max(np.sqrt(W)),origin='lower')\n",
    "    #plt.colorbar()\n",
    "    \n",
    "    Ws.append(W.T)\n",
    "\n",
    "Ws = np.array(Ws).T\n",
    "Ws.shape\n"
   ]
  },
  {
   "cell_type": "code",
   "execution_count": 6,
   "metadata": {
    "button": false,
    "collapsed": false,
    "deletable": true,
    "new_sheet": false,
    "run_control": {
     "read_only": false
    }
   },
   "outputs": [
    {
     "name": "stdout",
     "output_type": "stream",
     "text": [
      "(299, 50) (300, 50) (299, 50) (300, 50)\n"
     ]
    }
   ],
   "source": [
    "## Sum across temporal frequencies (we don't need those)\n",
    "\n",
    "# volume of each voxel\n",
    "Nf = np.diff(X)[:,np.newaxis]*np.diff(T)[:,np.newaxis].T\n",
    "\n",
    "# Precompute variance per mode explained for all lambdas\n",
    "colVarExpl = np.sum(S[:,:,np.newaxis]*Ws/(Ws+N*Nf[:,:,np.newaxis]),axis =0)\n",
    "# cumulative variance explained (it's going to fasten up things in the grid search)\n",
    "cumVarExpl = np.vstack((np.zeros(NLAMBDAS),np.cumsum(colVarExpl,axis = 0)))\n",
    "\n",
    "# Water filling array for all modes and lamdas\n",
    "colWs = np.sum(Ws,axis = 0)\n",
    "# Cumulative Water filling array (it's going to fasten up things in the grid search)\n",
    "cumWs = np.vstack((np.zeros(NLAMBDAS),np.cumsum(colWs,axis = 0)))\n",
    "\n",
    "print(colVarExpl.shape, cumVarExpl.shape,colWs.shape, cumWs.shape)"
   ]
  },
  {
   "cell_type": "code",
   "execution_count": 7,
   "metadata": {
    "button": false,
    "collapsed": false,
    "deletable": true,
    "new_sheet": false,
    "run_control": {
     "read_only": false
    }
   },
   "outputs": [
    {
     "name": "stdout",
     "output_type": "stream",
     "text": [
      "(2, 90000) (2, 2500)\n",
      "RECONSTRUCTION ERROR:  0.5188864598036506 %\n",
      "BEST NCELLS: [ 89 160]\n",
      "BEST LAMBDAS: [24. 26.]\n",
      "OBJ: 994791239278.736\n",
      "\n"
     ]
    }
   ],
   "source": [
    "## Iterate over all possible decompositions between N cell types to find the best one\n",
    "\n",
    "\n",
    "\n",
    "# Number of types\n",
    "NTYPES = 2\n",
    "\n",
    "## Create grid for grid search\n",
    "\n",
    "# Create grid for grid search over strides for different types\n",
    "STEP = 1 # step of the grid search\n",
    "strides = np.arange(0,NFREQ,STEP)\n",
    "NSTRIDES = len(strides)\n",
    "g = [strides for i in range(NTYPES)]\n",
    "g = np.meshgrid(*g)\n",
    "stride_grid = np.array([gi.ravel() for gi in g])\n",
    "\n",
    "# Create grid for grid serach over lambdas to find best objective\n",
    "g = [np.arange(0,NLAMBDAS) for i in range(NTYPES)]\n",
    "g = np.meshgrid(*g)\n",
    "lambda_grid = np.array([gi.flatten() for gi in g])\n",
    "\n",
    "print(stride_grid.shape,lambda_grid.shape)\n",
    "\n",
    "recs = list()\n",
    "strides = list()\n",
    "\n",
    "# Total firing rate threshold ('number of spikes')\n",
    "NSPIKES = 1e-5\n",
    "\n",
    "\n",
    "GRID = np.zeros(NTYPES)\n",
    "NITER =  stride_grid.shape[1]\n",
    "\n",
    "EXPL = np.nan* np.zeros(NITER)\n",
    "OBJ = np.zeros(NITER)\n",
    "L1s = np.zeros(NITER)\n",
    "LAMB = np.zeros((NITER,NTYPES))\n",
    "\n",
    "# start grid search over strides of each type\n",
    "for i in range(NITER):\n",
    "    lims = stride_grid[:,i] # end limit of the modes covered by each type\n",
    "\n",
    "    if np.all(np.diff(lims)>0) and lims[0]>0: # if all limits are in an \n",
    "        #increasing order (avoid switching types) \n",
    "\n",
    "\n",
    "        lims2 = [0,*lims]\n",
    "\n",
    "        #print(lims)\n",
    "\n",
    "        all_varsExpl = list()\n",
    "        all_l1s = list()\n",
    "        for typ in range(NTYPES):\n",
    "\n",
    "            # Variance explained for each lambda\n",
    "            varExp = cumVarExpl[lims2[typ+1]] - cumVarExpl[lims2[typ]]\n",
    "\n",
    "            # Budget of cells for each type\n",
    "            budgetCells = X[lims2[typ+1]] - X[lims2[typ]]\n",
    "\n",
    "            # penalty\n",
    "            l1_penalty = np.sqrt(budgetCells*(cumWs[lims2[typ+1]]- cumWs[lims2[typ]]))\n",
    "\n",
    "\n",
    "            all_varsExpl.append(varExp)\n",
    "            all_l1s.append(l1_penalty)\n",
    "\n",
    "\n",
    "        all_varsExpl = np.array(all_varsExpl)\n",
    "        total_varsExpl = sum([all_varsExpl[ityp,lambda_grid[ityp]] for ityp in range(NTYPES)])\n",
    "\n",
    "        all_l1s = np.array(all_l1s)\n",
    "        total_l1s = sum([all_l1s[ityp,lambda_grid[ityp]] for ityp in range(NTYPES)])\n",
    "\n",
    "        # objective for each lambda\n",
    "        objective = total_varsExpl - 1e60 * np.maximum(total_l1s - NSPIKES, 0)   \n",
    "\n",
    "        best_lambdas_ind = np.argmax(objective)\n",
    "\n",
    "        best_lambdas = lambda_grid[:,best_lambdas_ind]\n",
    "\n",
    "\n",
    "        #if 0 in best_lambdas:\n",
    "        #    print('warning lambda LOWER bound reached',lims)\n",
    "        #if NLAMBDAS-1 in best_lambdas:\n",
    "        #    print('warning lambda UPPER bound reached')\n",
    "\n",
    "        best_objective = objective[best_lambdas_ind]\n",
    "\n",
    "        best_varExp = total_varsExpl[best_lambdas_ind]\n",
    "        \n",
    "        best_L1 = total_l1s[best_lambdas_ind]\n",
    "\n",
    "        EXPL[i] = best_varExp\n",
    "        LAMB[i,:] = best_lambdas        \n",
    "        OBJ[i] = best_objective\n",
    "        L1s[i] = best_L1 \n",
    "\n",
    "        #print(best_objective)\n",
    "        #print(best_varExp)\n",
    "\n",
    "        #STRIDES[i,:] = best_strides\n",
    "\n",
    "        #print(lims,best_lambdas,best_objective)\n",
    "\n",
    "        #print(sumObjs.shape,lambda_grid.shape)\n",
    "\n",
    "\n",
    "iter_max = np.argmax(OBJ)\n",
    "\n",
    "rec = (np.sum(S) - EXPL[iter_max])/np.sum(S)*100\n",
    "st = stride_grid[:,iter_max]\n",
    "\n",
    "recs.append(rec)\n",
    "strides.append(st)\n",
    "#print(np.argmax(EXPL))\n",
    "print('RECONSTRUCTION ERROR: ',rec,'%')\n",
    "print('BEST NCELLS:', stride_grid[:,iter_max])\n",
    "print('BEST LAMBDAS:', LAMB[iter_max])\n",
    "print('OBJ:', OBJ[iter_max])\n",
    "print('')\n",
    "\n",
    "RECS = (np.sum(S) - EXPL)/np.sum(S)*100"
   ]
  },
  {
   "cell_type": "code",
   "execution_count": 8,
   "metadata": {
    "button": false,
    "collapsed": false,
    "deletable": true,
    "new_sheet": false,
    "run_control": {
     "read_only": false
    }
   },
   "outputs": [
    {
     "name": "stdout",
     "output_type": "stream",
     "text": [
      "[24. 26.] [ 89 160]\n"
     ]
    }
   ],
   "source": [
    "## lambda indices, stride indices\n",
    "\n",
    "print(LAMB[iter_max], stride_grid[:,iter_max])\n",
    "\n",
    "(lambda_parasol, lambda_midget) = LAMB[iter_max]\n",
    "(lim_parasol, lim_midget) = stride_grid[:,iter_max]"
   ]
  },
  {
   "cell_type": "code",
   "execution_count": 9,
   "metadata": {
    "collapsed": false
   },
   "outputs": [
    {
     "data": {
      "text/plain": [
       "0.9350305739585387"
      ]
     },
     "execution_count": 9,
     "metadata": {},
     "output_type": "execute_result"
    }
   ],
   "source": [
    "(X[lim_midget] - X[lim_parasol])/(X[lim_midget])"
   ]
  },
  {
   "cell_type": "code",
   "execution_count": 31,
   "metadata": {
    "button": false,
    "collapsed": false,
    "deletable": true,
    "new_sheet": false,
    "run_control": {
     "read_only": false
    }
   },
   "outputs": [
    {
     "ename": "AttributeError",
     "evalue": "module 'matplotlib.pyplot' has no attribute 'imsc'",
     "output_type": "error",
     "traceback": [
      "\u001b[0;31m---------------------------------------------------------------------------\u001b[0m",
      "\u001b[0;31mAttributeError\u001b[0m                            Traceback (most recent call last)",
      "\u001b[0;32m<ipython-input-31-87dd95850a9a>\u001b[0m in \u001b[0;36m<module>\u001b[0;34m()\u001b[0m\n\u001b[1;32m     25\u001b[0m \u001b[0mplt\u001b[0m\u001b[0;34m.\u001b[0m\u001b[0myticks\u001b[0m\u001b[0;34m(\u001b[0m\u001b[0;34m[\u001b[0m\u001b[0;34m]\u001b[0m\u001b[0;34m)\u001b[0m\u001b[0;34m\u001b[0m\u001b[0m\n\u001b[1;32m     26\u001b[0m \u001b[0mplt\u001b[0m\u001b[0;34m.\u001b[0m\u001b[0mcontour\u001b[0m\u001b[0;34m(\u001b[0m\u001b[0mS\u001b[0m\u001b[0;34m,\u001b[0m \u001b[0mnp\u001b[0m\u001b[0;34m.\u001b[0m\u001b[0mlogspace\u001b[0m\u001b[0;34m(\u001b[0m\u001b[0;36m5\u001b[0m\u001b[0;34m,\u001b[0m\u001b[0;36m10\u001b[0m\u001b[0;34m,\u001b[0m\u001b[0;36m10\u001b[0m\u001b[0;34m)\u001b[0m\u001b[0;34m,\u001b[0m \u001b[0mlinewidths\u001b[0m \u001b[0;34m=\u001b[0m \u001b[0;36m2\u001b[0m\u001b[0;34m,\u001b[0m \u001b[0mlinestyles\u001b[0m \u001b[0;34m=\u001b[0m \u001b[0;34m'solid'\u001b[0m\u001b[0;34m,\u001b[0m \u001b[0mcolors\u001b[0m \u001b[0;34m=\u001b[0m \u001b[0;34m'k'\u001b[0m\u001b[0;34m)\u001b[0m\u001b[0;34m\u001b[0m\u001b[0m\n\u001b[0;32m---> 27\u001b[0;31m \u001b[0mplt\u001b[0m\u001b[0;34m.\u001b[0m\u001b[0mimsc\u001b[0m\u001b[0;34m(\u001b[0m\u001b[0mnp\u001b[0m\u001b[0;34m.\u001b[0m\u001b[0mlog\u001b[0m\u001b[0;34m(\u001b[0m\u001b[0mF_midget\u001b[0m\u001b[0;34m+\u001b[0m\u001b[0;36m1e-100\u001b[0m\u001b[0;34m)\u001b[0m\u001b[0;34m,\u001b[0m\u001b[0morigin\u001b[0m\u001b[0;34m=\u001b[0m\u001b[0;34m'lower'\u001b[0m\u001b[0;34m,\u001b[0m \u001b[0mcmap\u001b[0m \u001b[0;34m=\u001b[0m \u001b[0;34m'gray_r'\u001b[0m\u001b[0;34m,\u001b[0m \u001b[0mvmin\u001b[0m \u001b[0;34m=\u001b[0m \u001b[0;34m-\u001b[0m\u001b[0;36m77\u001b[0m\u001b[0;34m,\u001b[0m \u001b[0mvmax\u001b[0m \u001b[0;34m=\u001b[0m \u001b[0;34m-\u001b[0m\u001b[0;36m62\u001b[0m\u001b[0;34m)\u001b[0m\u001b[0;34m\u001b[0m\u001b[0m\n\u001b[0m\u001b[1;32m     28\u001b[0m \u001b[0mplt\u001b[0m\u001b[0;34m.\u001b[0m\u001b[0mxlabel\u001b[0m\u001b[0;34m(\u001b[0m\u001b[0;34m'k (log scale)'\u001b[0m\u001b[0;34m,\u001b[0m \u001b[0mfontsize\u001b[0m \u001b[0;34m=\u001b[0m \u001b[0;36m18\u001b[0m\u001b[0;34m)\u001b[0m\u001b[0;34m\u001b[0m\u001b[0m\n\u001b[1;32m     29\u001b[0m \u001b[0mplt\u001b[0m\u001b[0;34m.\u001b[0m\u001b[0mcolorbar\u001b[0m\u001b[0;34m(\u001b[0m\u001b[0;34m)\u001b[0m\u001b[0;34m\u001b[0m\u001b[0m\n",
      "\u001b[0;31mAttributeError\u001b[0m: module 'matplotlib.pyplot' has no attribute 'imsc'"
     ]
    },
    {
     "data": {
      "image/png": "[encoded data removed]",
      "text/plain": [
       "<matplotlib.figure.Figure at 0x11a5ea630>"
      ]
     },
     "metadata": {},
     "output_type": "display_data"
    },
    {
     "data": {
      "image/png": "[encoded data removed]",
      "text/plain": [
       "<matplotlib.figure.Figure at 0x11a503908>"
      ]
     },
     "metadata": {},
     "output_type": "display_data"
    }
   ],
   "source": [
    "## LOOK at RF in Fourier space\n",
    "\n",
    "F_parasol = Ws[:,:,lambda_parasol.astype(int)]/Sdensity\n",
    "F_parasol[:,lim_parasol:] = 0\n",
    "\n",
    "F_midget = Ws[:,:,lambda_midget.astype(int)]/Sdensity\n",
    "F_midget[:,:lim_parasol] = 0\n",
    "F_midget[:,lim_midget:] = 0\n",
    "\n",
    "\n",
    "#fig, axs = plt.subplots(1,2,figsize = (8,4))\n",
    "plt.figure()\n",
    "plt.xticks([])\n",
    "plt.yticks([])\n",
    "plt.contour(S, np.logspace(5,10,10), linewidths = 2, linestyles = 'solid', colors = 'k')\n",
    "plt.imshow(np.log(F_parasol+1e-100),origin='lower', cmap = 'gray_r', vmin = -77, vmax = -62)\n",
    "plt.xlabel('k (log scale)', fontsize = 18)\n",
    "plt.ylabel(r'$\\omega$ (log scale)', fontsize = 18)\n",
    "plt.colorbar()\n",
    "\n",
    "plt.savefig('RF_parasol.eps',bbox_inches = 'tight', pad_inches = .1)\n",
    "\n",
    "plt.figure()\n",
    "plt.xticks([])\n",
    "plt.yticks([])\n",
    "plt.contour(S, np.logspace(5,10,10), linewidths = 2, linestyles = 'solid', colors = 'k')\n",
    "plt.imsc(np.log(F_midget+1e-100),origin='lower', cmap = 'gray_r', vmin = -77, vmax = -62)\n",
    "plt.xlabel('k (log scale)', fontsize = 18)\n",
    "plt.colorbar()\n",
    "\n",
    "plt.savefig('RF_midget.eps',bbox_inches = 'tight', pad_inches = .1)\n",
    "\n",
    "\n",
    "#plt.imshow(np.sqrt(Fk), cmap = 'bwr', vmin = -np.max(Fk), vmax =  np.max(Fk),origin='lower')\n",
    "#plt.colorbar()\n",
    "\n",
    "\n",
    "\n"
   ]
  },
  {
   "cell_type": "code",
   "execution_count": 29,
   "metadata": {
    "collapsed": false
   },
   "outputs": [
    {
     "data": {
      "text/plain": [
       "-230.25850929940458"
      ]
     },
     "execution_count": 29,
     "metadata": {},
     "output_type": "execute_result"
    }
   ],
   "source": [
    "np.min(np.log(F_midget+1e-100))"
   ]
  },
  {
   "cell_type": "code",
   "execution_count": 11,
   "metadata": {
    "button": false,
    "collapsed": false,
    "deletable": true,
    "new_sheet": false,
    "run_control": {
     "read_only": false
    }
   },
   "outputs": [
    {
     "name": "stderr",
     "output_type": "stream",
     "text": [
      "/anaconda/lib/python3.6/site-packages/ipykernel/__main__.py:6: RuntimeWarning: divide by zero encountered in log\n",
      "/anaconda/lib/python3.6/site-packages/ipykernel/__main__.py:7: RuntimeWarning: divide by zero encountered in log\n"
     ]
    },
    {
     "data": {
      "image/png": "[encoded data removed]",
      "text/plain": [
       "<matplotlib.figure.Figure at 0x115f4d588>"
      ]
     },
     "metadata": {},
     "output_type": "display_data"
    }
   ],
   "source": [
    "y = F_parasol[:,lim_parasol-1]\n",
    "\n",
    "#y = np.concatenate((y,[1e-50]))\n",
    "\n",
    "plt.figure(figsize = (4,4))\n",
    "plt.plot(np.log(T[80:-1])/np.log(10)+4.6,np.log(y[80:])/np.log(10), linewidth = 4)\n",
    "plt.plot(np.log(T[80:-1])/np.log(10)+4.6,np.log(F_midget[80:,lim_parasol+1])/np.log(10), linewidth = 4)\n",
    "plt.xlabel(r'$\\omega$ (log scale)',fontsize = 24)\n",
    "plt.ylabel(r'Sensitivity ($F^2$)',fontsize = 24)\n",
    "\n",
    "plt.xticks([])\n",
    "plt.yticks([])\n",
    "plt.legend(['\"Parasol\"','\"Midget\"'],fontsize = 14, loc = 'upper left')\n",
    "\n",
    "plt.savefig('Temporal_RF.png',bbox_inches = 'tight', pad_inches = .1)\n"
   ]
  },
  {
   "cell_type": "code",
   "execution_count": 12,
   "metadata": {
    "button": false,
    "collapsed": false,
    "deletable": true,
    "new_sheet": false,
    "run_control": {
     "read_only": false
    }
   },
   "outputs": [
    {
     "data": {
      "image/png": "[encoded data removed]",
      "text/plain": [
       "<matplotlib.figure.Figure at 0x124b30dd8>"
      ]
     },
     "metadata": {},
     "output_type": "display_data"
    }
   ],
   "source": [
    "import pandas as pd\n",
    "df=pd.read_csv('midget_RF.csv', sep=',',header=None)\n",
    "M = df.values\n",
    "df=pd.read_csv('parasol_RF.csv', sep=',',header=None)\n",
    "P = df.values\n",
    "\n",
    "plt.figure(figsize = (4,4))\n",
    "\n",
    "plt.plot(np.log(P[:,0])/np.log(10),np.log(P[:,1])/np.log(10),'-o', linewidth = 4)\n",
    "plt.plot(np.log(M[:,0])/np.log(10),np.log(M[:,1])/np.log(10),'-o', linewidth = 4)\n",
    "plt.xticks([])\n",
    "plt.yticks([])\n",
    "plt.xlabel(r'$\\omega$ (log scale)',fontsize = 24)\n",
    "#plt.ylabel(r'Sensitivity ($F^2$)',fontsize = 24)\n",
    "\n",
    "plt.legend(['Pa.','Mi.'],fontsize = 15 )\n",
    "\n",
    "plt.savefig('sensitivity2.eps',bbox_inches = 'tight', pad_inches = .1)"
   ]
  },
  {
   "cell_type": "code",
   "execution_count": 13,
   "metadata": {
    "button": false,
    "collapsed": false,
    "deletable": true,
    "new_sheet": false,
    "run_control": {
     "read_only": false
    }
   },
   "outputs": [
    {
     "name": "stdout",
     "output_type": "stream",
     "text": [
      "[24. 26.] [ 89 160]\n"
     ]
    }
   ],
   "source": [
    "## lambda indices, stride indices\n",
    "\n",
    "print(LAMB[iter_max], stride_grid[:,iter_max])\n",
    "\n",
    "lambda_single = LAMB[iter_max]\n",
    "lim_single = stride_grid[:,iter_max]"
   ]
  },
  {
   "cell_type": "code",
   "execution_count": 14,
   "metadata": {
    "button": false,
    "collapsed": false,
    "deletable": true,
    "new_sheet": false,
    "run_control": {
     "read_only": false
    }
   },
   "outputs": [
    {
     "data": {
      "image/png": "[encoded data removed]",
      "text/plain": [
       "<matplotlib.figure.Figure at 0x11519e6d8>"
      ]
     },
     "metadata": {},
     "output_type": "display_data"
    }
   ],
   "source": [
    "## LOOK at RF in Fourier space\n",
    "\n",
    "F_single = Ws[:,:,lambda_parasol.astype(int)]/Sdensity\n",
    "F_single[:,lim_single[0].astype(int):] = 0\n",
    "\n",
    "\n",
    "\n",
    "#fig, axs = plt.subplots(1,2,figsize = (8,4))\n",
    "plt.figure()\n",
    "plt.xticks([])\n",
    "plt.yticks([])\n",
    "plt.contour(S, np.logspace(5,10,10), linewidths = 2, linestyles = 'solid', colors = 'k')\n",
    "plt.imshow(np.log(F_single+1e-100),origin='lower',cmap='gray_r', vmin = -77, vmax = -62)\n",
    "plt.xlabel('k (log scale)', fontsize = 18)\n",
    "plt.ylabel(r'$\\omega$ (log scale)', fontsize = 18)\n",
    "plt.colorbar()\n",
    "\n",
    "plt.savefig('RF_single.eps',bbox_inches = 'tight', pad_inches = .1)"
   ]
  },
  {
   "cell_type": "code",
   "execution_count": 15,
   "metadata": {
    "button": false,
    "collapsed": false,
    "deletable": true,
    "new_sheet": false,
    "run_control": {
     "read_only": false
    }
   },
   "outputs": [
    {
     "data": {
      "text/plain": [
       "array([ 89, 160])"
      ]
     },
     "execution_count": 15,
     "metadata": {},
     "output_type": "execute_result"
    }
   ],
   "source": [
    "lim_single"
   ]
  },
  {
   "cell_type": "code",
   "execution_count": 16,
   "metadata": {
    "button": false,
    "collapsed": false,
    "deletable": true,
    "new_sheet": false,
    "run_control": {
     "read_only": false
    }
   },
   "outputs": [
    {
     "data": {
      "text/plain": [
       "0.0"
      ]
     },
     "execution_count": 16,
     "metadata": {},
     "output_type": "execute_result"
    }
   ],
   "source": [
    "np.min(F_single)\n"
   ]
  },
  {
   "cell_type": "code",
   "execution_count": null,
   "metadata": {
    "button": false,
    "collapsed": true,
    "deletable": true,
    "new_sheet": false,
    "run_control": {
     "read_only": false
    }
   },
   "outputs": [],
   "source": []
  },
  {
   "cell_type": "code",
   "execution_count": null,
   "metadata": {
    "button": false,
    "collapsed": true,
    "deletable": true,
    "new_sheet": false,
    "run_control": {
     "read_only": false
    }
   },
   "outputs": [],
   "source": []
  },
  {
   "cell_type": "code",
   "execution_count": null,
   "metadata": {
    "button": false,
    "collapsed": true,
    "deletable": true,
    "new_sheet": false,
    "run_control": {
     "read_only": false
    }
   },
   "outputs": [],
   "source": []
  },
  {
   "cell_type": "code",
   "execution_count": null,
   "metadata": {
    "button": false,
    "collapsed": true,
    "deletable": true,
    "new_sheet": false,
    "run_control": {
     "read_only": false
    }
   },
   "outputs": [],
   "source": []
  },
  {
   "cell_type": "code",
   "execution_count": null,
   "metadata": {
    "button": false,
    "collapsed": true,
    "deletable": true,
    "new_sheet": false,
    "run_control": {
     "read_only": false
    }
   },
   "outputs": [],
   "source": []
  },
  {
   "cell_type": "code",
   "execution_count": null,
   "metadata": {
    "button": false,
    "collapsed": true,
    "deletable": true,
    "new_sheet": false,
    "run_control": {
     "read_only": false
    }
   },
   "outputs": [],
   "source": []
  },
  {
   "cell_type": "code",
   "execution_count": 17,
   "metadata": {
    "button": false,
    "collapsed": false,
    "deletable": true,
    "new_sheet": false,
    "run_control": {
     "read_only": false
    }
   },
   "outputs": [
    {
     "data": {
      "text/plain": [
       "[<matplotlib.lines.Line2D at 0x115246e10>,\n",
       " <matplotlib.lines.Line2D at 0x11526d080>]"
      ]
     },
     "execution_count": 17,
     "metadata": {},
     "output_type": "execute_result"
    },
    {
     "data": {
      "image/png": "[encoded data removed]",
      "text/plain": [
       "<matplotlib.figure.Figure at 0x10777a710>"
      ]
     },
     "metadata": {},
     "output_type": "display_data"
    }
   ],
   "source": [
    "import csv\n",
    "\n",
    "\n",
    "# Read CSV file\n",
    "with open('midget_RF.csv', 'r') as fp:\n",
    "    reader = csv.reader(fp, delimiter=',', quotechar='\"')\n",
    "    # next(reader, None)  # skip the headers\n",
    "    M = np.array([row for row in reader])\n",
    "    \n",
    "with open('parasol_RF.csv', 'r') as fp:\n",
    "    reader = csv.reader(fp, delimiter=',', quotechar='\"')\n",
    "    # next(reader, None)  # skip the headers\n",
    "    P = np.array([row for row in reader])\n",
    "    \n",
    "    \n",
    "plt.plot(M)"
   ]
  },
  {
   "cell_type": "code",
   "execution_count": 18,
   "metadata": {
    "button": false,
    "collapsed": false,
    "deletable": true,
    "new_sheet": false,
    "run_control": {
     "read_only": false
    }
   },
   "outputs": [
    {
     "name": "stderr",
     "output_type": "stream",
     "text": [
      "/anaconda/lib/python3.6/site-packages/ipykernel/__main__.py:19: RuntimeWarning: divide by zero encountered in log\n",
      "/anaconda/lib/python3.6/site-packages/mpl_toolkits/mplot3d/proj3d.py:160: RuntimeWarning: invalid value encountered in true_divide\n",
      "  txs, tys, tzs = vecw[0]/w, vecw[1]/w, vecw[2]/w\n"
     ]
    },
    {
     "data": {
      "image/png": "[encoded data removed]",
      "text/plain": [
       "<matplotlib.figure.Figure at 0x115f57c88>"
      ]
     },
     "metadata": {},
     "output_type": "display_data"
    }
   ],
   "source": [
    "\n",
    "from mpl_toolkits.mplot3d import Axes3D\n",
    "import matplotlib.pyplot as plt\n",
    "from matplotlib import cm\n",
    "from matplotlib.ticker import LinearLocator, FormatStrFormatter\n",
    "import numpy as np\n",
    "\n",
    "\n",
    "fig = plt.figure()\n",
    "ax = fig.gca(projection='3d')\n",
    "\n",
    "# Make data.\n",
    "#X = np.arange(-5, 5, 0.25)\n",
    "#Y = np.arange(-5, 5, 0.25)\n",
    "#X, Y = np.meshgrid(X, Y)\n",
    "#R = np.sqrt(X**2 + Y**2)\n",
    "#Z = np.sin(R)\n",
    "\n",
    "Z = np.log(F_parasol)\n",
    "\n",
    "#Z[Z<-80] = -80\n",
    "\n",
    "# Plot the surface.\n",
    "surf = ax.plot_wireframe(GX, GT, Z, rstride=5, cstride=5)\n",
    "\n",
    "\n",
    "# Customize the z axis.\n",
    "ax.set_xlim(0, 0.002)\n",
    "ax.set_ylim(0, 0.002)\n",
    "\n",
    "#ax.view_init(90, 40)\n",
    "#ax.set_zlim(-1.01, 1.01)\n",
    "#ax.zaxis.set_major_locator(LinearLocator(10))\n",
    "#ax.zaxis.set_major_formatter(FormatStrFormatter('%.02f'))\n",
    "\n",
    "# Add a color bar which maps values to colors.\n",
    "#fig.colorbar(surf, shrink=0.5, aspect=5)\n",
    "\n",
    "plt.show()"
   ]
  },
  {
   "cell_type": "code",
   "execution_count": 19,
   "metadata": {
    "button": false,
    "collapsed": false,
    "deletable": true,
    "new_sheet": false,
    "run_control": {
     "read_only": false
    }
   },
   "outputs": [
    {
     "data": {
      "text/plain": [
       "[<matplotlib.lines.Line2D at 0x1151b23c8>]"
      ]
     },
     "execution_count": 19,
     "metadata": {},
     "output_type": "execute_result"
    },
    {
     "data": {
      "image/png": "[encoded data removed]",
      "text/plain": [
       "<matplotlib.figure.Figure at 0x12534bba8>"
      ]
     },
     "metadata": {},
     "output_type": "display_data"
    }
   ],
   "source": [
    "v = np.logspace(-1,1,100)\n",
    "\n",
    "# 2.1 Hz\n",
    "kc = 108.5\n",
    "rc = 0.031\n",
    "tc = 169.4\n",
    "xc = 0.008\n",
    "ks = 46.8\n",
    "rs = 0.199\n",
    "ts = -22.2\n",
    "xs = 0.021\n",
    "\n",
    "L1 = kc*rc*np.sqrt(np.pi)*np.exp(-(np.pi*rc*v)**2+1j*(np.pi/180)*(tc-360*xc*v)) \n",
    "+ks*rs*np.sqrt(np.pi)*np.exp(-(np.pi*rs*v)**2+1j*(np.pi/180)*(ts-360*xs*v))\n",
    "\n",
    "# 8.5 Hz\n",
    "kc = 158.3\n",
    "rc = 0.033\n",
    "tc = 40.5\n",
    "xc = 0.011\n",
    "ks = 101.4\n",
    "rs = 0.232\n",
    "ts = -162\n",
    "xs = 0.029\n",
    "\n",
    "L2 = kc*rc*np.sqrt(np.pi)*np.exp(-(np.pi*rc*v)**2+1j*(np.pi/180)*(tc-360*xc*v)) \n",
    "+ks*rs*np.sqrt(np.pi)*np.exp(-(np.pi*rs*v)**2+1j*(np.pi/180)*(ts-360*xs*v))\n",
    "\n",
    "# 16.9 Hz\n",
    "kc = 113\n",
    "rc = 0.031\n",
    "tc = -124.9\n",
    "xc = 0.012\n",
    "ks = 72.9\n",
    "rs = 0.455\n",
    "ts = 19.7\n",
    "xs = -0.042\n",
    "\n",
    "L3 = kc*rc*np.sqrt(np.pi)*np.exp(-(np.pi*rc*v)**2+1j*(np.pi/180)*(tc-360*xc*v)) \n",
    "+ks*rs*np.sqrt(np.pi)*np.exp(-(np.pi*rs*v)**2+1j*(np.pi/180)*(ts-360*xs*v))\n",
    "\n",
    "\n",
    "plt.plot(np.log(np.abs(L1)**2))\n",
    "plt.plot(np.log(np.abs(L2)**2))\n",
    "plt.plot(np.log(np.abs(L3)**2))"
   ]
  },
  {
   "cell_type": "code",
   "execution_count": 20,
   "metadata": {
    "button": false,
    "collapsed": false,
    "deletable": true,
    "new_sheet": false,
    "run_control": {
     "read_only": false
    }
   },
   "outputs": [
    {
     "name": "stderr",
     "output_type": "stream",
     "text": [
      "/anaconda/lib/python3.6/site-packages/ipykernel/__main__.py:1: RuntimeWarning: divide by zero encountered in log\n",
      "  if __name__ == '__main__':\n",
      "/anaconda/lib/python3.6/site-packages/ipykernel/__main__.py:2: RuntimeWarning: divide by zero encountered in log\n",
      "  from ipykernel import kernelapp as app\n",
      "/anaconda/lib/python3.6/site-packages/ipykernel/__main__.py:3: RuntimeWarning: divide by zero encountered in log\n",
      "  app.launch_new_instance()\n"
     ]
    },
    {
     "data": {
      "text/plain": [
       "[<matplotlib.lines.Line2D at 0x1192f9358>]"
      ]
     },
     "execution_count": 20,
     "metadata": {},
     "output_type": "execute_result"
    },
    {
     "data": {
      "image/png": "[encoded data removed]",
      "text/plain": [
       "<matplotlib.figure.Figure at 0x114ef45c0>"
      ]
     },
     "metadata": {},
     "output_type": "display_data"
    }
   ],
   "source": [
    "plt.plot(np.log(F_parasol[10]))\n",
    "plt.plot(np.log(F_parasol[11]))\n",
    "plt.plot(np.log(F_parasol[12]))\n",
    "\n"
   ]
  },
  {
   "cell_type": "code",
   "execution_count": null,
   "metadata": {
    "button": false,
    "collapsed": false,
    "deletable": true,
    "new_sheet": false,
    "run_control": {
     "read_only": false
    }
   },
   "outputs": [],
   "source": []
  },
  {
   "cell_type": "code",
   "execution_count": 21,
   "metadata": {
    "button": false,
    "collapsed": false,
    "deletable": true,
    "new_sheet": false,
    "run_control": {
     "read_only": false
    }
   },
   "outputs": [
    {
     "data": {
      "text/plain": [
       "90000"
      ]
     },
     "execution_count": 21,
     "metadata": {},
     "output_type": "execute_result"
    }
   ],
   "source": [
    "1+i"
   ]
  },
  {
   "cell_type": "code",
   "execution_count": null,
   "metadata": {
    "button": false,
    "collapsed": true,
    "deletable": true,
    "new_sheet": false,
    "run_control": {
     "read_only": false
    }
   },
   "outputs": [],
   "source": []
  },
  {
   "cell_type": "code",
   "execution_count": null,
   "metadata": {
    "button": false,
    "collapsed": true,
    "deletable": true,
    "new_sheet": false,
    "run_control": {
     "read_only": false
    }
   },
   "outputs": [],
   "source": []
  },
  {
   "cell_type": "code",
   "execution_count": null,
   "metadata": {
    "button": false,
    "collapsed": true,
    "deletable": true,
    "new_sheet": false,
    "run_control": {
     "read_only": false
    }
   },
   "outputs": [],
   "source": []
  },
  {
   "cell_type": "code",
   "execution_count": null,
   "metadata": {
    "button": false,
    "collapsed": true,
    "deletable": true,
    "new_sheet": false,
    "run_control": {
     "read_only": false
    }
   },
   "outputs": [],
   "source": []
  },
  {
   "cell_type": "code",
   "execution_count": null,
   "metadata": {
    "button": false,
    "collapsed": true,
    "deletable": true,
    "new_sheet": false,
    "run_control": {
     "read_only": false
    }
   },
   "outputs": [],
   "source": []
  },
  {
   "cell_type": "code",
   "execution_count": null,
   "metadata": {
    "button": false,
    "collapsed": true,
    "deletable": true,
    "new_sheet": false,
    "run_control": {
     "read_only": false
    }
   },
   "outputs": [],
   "source": []
  },
  {
   "cell_type": "code",
   "execution_count": null,
   "metadata": {
    "button": false,
    "collapsed": false,
    "deletable": true,
    "new_sheet": false,
    "run_control": {
     "read_only": false
    }
   },
   "outputs": [],
   "source": []
  },
  {
   "cell_type": "code",
   "execution_count": 22,
   "metadata": {
    "button": false,
    "collapsed": false,
    "deletable": true,
    "new_sheet": false,
    "run_control": {
     "read_only": false
    }
   },
   "outputs": [
    {
     "name": "stderr",
     "output_type": "stream",
     "text": [
      "/anaconda/lib/python3.6/site-packages/ipykernel/__main__.py:1: RuntimeWarning: divide by zero encountered in log\n",
      "  if __name__ == '__main__':\n"
     ]
    },
    {
     "data": {
      "text/plain": [
       "[<matplotlib.lines.Line2D at 0x1107aa518>]"
      ]
     },
     "execution_count": 22,
     "metadata": {},
     "output_type": "execute_result"
    },
    {
     "data": {
      "image/png": "[encoded data removed]",
      "text/plain": [
       "<matplotlib.figure.Figure at 0x114ee14a8>"
      ]
     },
     "metadata": {},
     "output_type": "display_data"
    }
   ],
   "source": [
    "plt.plot(np.log(F_parasol[0]))"
   ]
  },
  {
   "cell_type": "code",
   "execution_count": 23,
   "metadata": {
    "button": false,
    "collapsed": false,
    "deletable": true,
    "new_sheet": false,
    "run_control": {
     "read_only": false
    }
   },
   "outputs": [
    {
     "name": "stderr",
     "output_type": "stream",
     "text": [
      "/anaconda/lib/python3.6/site-packages/ipykernel/__main__.py:1: RuntimeWarning: divide by zero encountered in log\n",
      "  if __name__ == '__main__':\n"
     ]
    },
    {
     "data": {
      "text/plain": [
       "[<matplotlib.lines.Line2D at 0x1193f9da0>]"
      ]
     },
     "execution_count": 23,
     "metadata": {},
     "output_type": "execute_result"
    },
    {
     "data": {
      "image/png": "[encoded data removed]",
      "text/plain": [
       "<matplotlib.figure.Figure at 0x115118a90>"
      ]
     },
     "metadata": {},
     "output_type": "display_data"
    }
   ],
   "source": [
    "plt.plot(np.log(F_midget[0]))"
   ]
  },
  {
   "cell_type": "code",
   "execution_count": 24,
   "metadata": {
    "button": false,
    "collapsed": true,
    "deletable": true,
    "new_sheet": false,
    "run_control": {
     "read_only": false
    }
   },
   "outputs": [],
   "source": [
    "#"
   ]
  }
 ],
 "metadata": {
  "kernelspec": {
   "display_name": "Python 3",
   "language": "python",
   "name": "python3"
  },
  "language_info": {
   "codemirror_mode": {
    "name": "ipython",
    "version": 3
   },
   "file_extension": ".py",
   "mimetype": "text/x-python",
   "name": "python",
   "nbconvert_exporter": "python",
   "pygments_lexer": "ipython3",
   "version": "3.6.0"
  }
 },
 "nbformat": 4,
 "nbformat_minor": 2
}
